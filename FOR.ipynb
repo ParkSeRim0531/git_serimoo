{
 "cells": [
  {
   "cell_type": "markdown",
   "id": "62335570",
   "metadata": {},
   "source": [
    "#### for\n",
    "\n",
    "for 변수 in 리스트:\n",
    "    반복 수행할 문장\n",
    "    \n",
    "    \n",
    "for 변수 in range(끝+1): #끝 값이 나올때까지 가져옴 \n",
    "\n",
    "\n",
    "    반복 수행할 문장\n",
    "\n",
    "\n",
    "for 변수 in range(시작, 끝+1): #시작부터 끝 값까지 가져옴\n",
    "\n",
    "\n",
    "    반복 수행할 문장\n",
    "\n",
    "\n",
    "for 변수 in range(시작, 끝+1, 증가): #시작부터 끝값까지의 범위 중 스탠값만 가져옴\n",
    "    \n",
    "    \n",
    "    반복 수행할 문장"
   ]
  },
  {
   "cell_type": "code",
   "execution_count": 1,
   "id": "d9f2b3c8",
   "metadata": {},
   "outputs": [
    {
     "name": "stdout",
     "output_type": "stream",
     "text": [
      "1 2 3 4 5 "
     ]
    }
   ],
   "source": [
    "for i in [1,2,3,4,5]:\n",
    "    print(i, end=\" \")"
   ]
  },
  {
   "cell_type": "code",
   "execution_count": 3,
   "id": "171794d9",
   "metadata": {},
   "outputs": [
    {
     "name": "stdout",
     "output_type": "stream",
     "text": [
      "hello\n",
      "hello\n",
      "hello\n",
      "hello\n",
      "hello\n"
     ]
    }
   ],
   "source": [
    "for _ in [1,2,3,4,5]: #i 사용안함. 굳이 리스트안에 숫자값 안쓸려면 i 안써도 됨. _ 로도 사용 가능 \n",
    "    print(\"hello\") "
   ]
  },
  {
   "cell_type": "code",
   "execution_count": 5,
   "id": "84508f27",
   "metadata": {},
   "outputs": [
    {
     "name": "stdout",
     "output_type": "stream",
     "text": [
      "0\n",
      "1\n",
      "2\n"
     ]
    }
   ],
   "source": [
    "for i in range(3):\n",
    "    print(i)"
   ]
  },
  {
   "cell_type": "code",
   "execution_count": 6,
   "id": "c30a81d3",
   "metadata": {},
   "outputs": [
    {
     "name": "stdout",
     "output_type": "stream",
     "text": [
      "1\n",
      "2\n",
      "3\n"
     ]
    }
   ],
   "source": [
    "for i in range(1,4):\n",
    "    print(i)"
   ]
  },
  {
   "cell_type": "code",
   "execution_count": 7,
   "id": "fa70528f",
   "metadata": {},
   "outputs": [
    {
     "name": "stdout",
     "output_type": "stream",
     "text": [
      "0\n",
      "2\n",
      "4\n",
      "6\n",
      "8\n"
     ]
    }
   ],
   "source": [
    "for i in range(0,10,2): #0~9까지의 값 중에 2씩 증가하는 값 가져옴. \n",
    "    print(i)"
   ]
  },
  {
   "cell_type": "code",
   "execution_count": 12,
   "id": "57d5a49e",
   "metadata": {},
   "outputs": [
    {
     "name": "stdout",
     "output_type": "stream",
     "text": [
      "1부터 10까지의 합 : 55\n"
     ]
    }
   ],
   "source": [
    "# 1부터 10까지의 합 \n",
    "sum = 0\n",
    "for i in range(1,11):\n",
    "    sum += i\n",
    "print(\"1부터 10까지의 합 : %d\" %sum) #for 빠져 나온 후 동작할 것. 들여쓰기 주의"
   ]
  },
  {
   "cell_type": "code",
   "execution_count": 13,
   "id": "c6b78e08",
   "metadata": {},
   "outputs": [
    {
     "name": "stdout",
     "output_type": "stream",
     "text": [
      "500부터 1000사이의 홀수의 합 : 187500\n"
     ]
    }
   ],
   "source": [
    "# 500부터 1000 사이의 홀수의 합 \n",
    "sum = 0\n",
    "for j in range(501,1001,2): #홀수인것만 지정했기 때문에 501부터 시작하기.\n",
    "    sum += j\n",
    "print(\"500부터 1000사이의 홀수의 합 : %d\" % sum)"
   ]
  },
  {
   "cell_type": "code",
   "execution_count": 14,
   "id": "26c4a722",
   "metadata": {},
   "outputs": [
    {
     "name": "stdout",
     "output_type": "stream",
     "text": [
      "500부터 1000사이의 홀수의 합 : 187500\n"
     ]
    }
   ],
   "source": [
    "# 500부터 1000 사이의 홀수의 합 ver.2\n",
    "sum = 0\n",
    "\n",
    "for j in range(500,1001,): \n",
    "    if j % 2 !=0: #나누었을때 몫이 0이 아니면 (=홀수)\n",
    "        sum += j\n",
    "print(\"500부터 1000사이의 홀수의 합 : %d\" % sum)"
   ]
  },
  {
   "cell_type": "code",
   "execution_count": 18,
   "id": "d9e43752",
   "metadata": {},
   "outputs": [
    {
     "name": "stdout",
     "output_type": "stream",
     "text": [
      "2 * 2 = 4\n",
      "2 * 3 = 6\n",
      "2 * 4 = 8\n",
      "2 * 5 = 10\n",
      "2 * 6 = 12\n",
      "2 * 7 = 14\n",
      "2 * 8 = 16\n",
      "2 * 9 = 18\n"
     ]
    }
   ],
   "source": [
    "# 구구단 : 2단 출력하기 \n",
    "\n",
    "for i in range(2,10):\n",
    "    print(\"%d * %d = %d\" %(2, i, (2*i)))"
   ]
  },
  {
   "cell_type": "code",
   "execution_count": 19,
   "id": "b3952917",
   "metadata": {},
   "outputs": [
    {
     "name": "stdout",
     "output_type": "stream",
     "text": [
      "2 * 9 = 18\n",
      "2 * 8 = 16\n",
      "2 * 7 = 14\n",
      "2 * 6 = 12\n",
      "2 * 5 = 10\n",
      "2 * 4 = 8\n",
      "2 * 3 = 6\n",
      "2 * 2 = 4\n"
     ]
    }
   ],
   "source": [
    "#구구단 : 2단(역순)\n",
    "\n",
    "for i in range(9, 1, -1):\n",
    "    print(\"%d * %d = %d\" %(2, i, (2*i)))"
   ]
  },
  {
   "cell_type": "code",
   "execution_count": 21,
   "id": "e519c098",
   "metadata": {
    "scrolled": true
   },
   "outputs": [
    {
     "name": "stdout",
     "output_type": "stream",
     "text": [
      "2 * 2 = 4 2 * 3 = 6 2 * 4 = 8 2 * 5 = 10 2 * 6 = 12 2 * 7 = 14 2 * 8 = 16 2 * 9 = 18 \n",
      "3 * 2 = 6 3 * 3 = 9 3 * 4 = 12 3 * 5 = 15 3 * 6 = 18 3 * 7 = 21 3 * 8 = 24 3 * 9 = 27 \n",
      "4 * 2 = 8 4 * 3 = 12 4 * 4 = 16 4 * 5 = 20 4 * 6 = 24 4 * 7 = 28 4 * 8 = 32 4 * 9 = 36 \n",
      "5 * 2 = 10 5 * 3 = 15 5 * 4 = 20 5 * 5 = 25 5 * 6 = 30 5 * 7 = 35 5 * 8 = 40 5 * 9 = 45 \n",
      "6 * 2 = 12 6 * 3 = 18 6 * 4 = 24 6 * 5 = 30 6 * 6 = 36 6 * 7 = 42 6 * 8 = 48 6 * 9 = 54 \n",
      "7 * 2 = 14 7 * 3 = 21 7 * 4 = 28 7 * 5 = 35 7 * 6 = 42 7 * 7 = 49 7 * 8 = 56 7 * 9 = 63 \n",
      "8 * 2 = 16 8 * 3 = 24 8 * 4 = 32 8 * 5 = 40 8 * 6 = 48 8 * 7 = 56 8 * 8 = 64 8 * 9 = 72 \n",
      "9 * 2 = 18 9 * 3 = 27 9 * 4 = 36 9 * 5 = 45 9 * 6 = 54 9 * 7 = 63 9 * 8 = 72 9 * 9 = 81 \n"
     ]
    }
   ],
   "source": [
    "#구구단 : 2단 ~ 9단 \n",
    "\n",
    "for i in range(2,10):\n",
    "    for j in range(2,10):\n",
    "        print(\"%d * %d = %d\" %(i,j,(i*j)), end=\" \")\n",
    "    print(\"\")"
   ]
  },
  {
   "cell_type": "code",
   "execution_count": 22,
   "id": "4548c66f",
   "metadata": {},
   "outputs": [
    {
     "name": "stdout",
     "output_type": "stream",
     "text": [
      "a\n",
      "b\n",
      "c\n",
      "d\n",
      "e\n",
      "f\n",
      "g\n"
     ]
    }
   ],
   "source": [
    "#문자열도 리스트처럼 취급해서 한 글자씩 보여줌. \n",
    "for s in 'abcdefg':\n",
    "    print(s)"
   ]
  },
  {
   "cell_type": "code",
   "execution_count": null,
   "id": "baf01bb0",
   "metadata": {},
   "outputs": [],
   "source": []
  },
  {
   "cell_type": "code",
   "execution_count": null,
   "id": "85c8b411",
   "metadata": {},
   "outputs": [],
   "source": []
  }
 ],
 "metadata": {
  "kernelspec": {
   "display_name": "Python 3 (ipykernel)",
   "language": "python",
   "name": "python3"
  },
  "language_info": {
   "codemirror_mode": {
    "name": "ipython",
    "version": 3
   },
   "file_extension": ".py",
   "mimetype": "text/x-python",
   "name": "python",
   "nbconvert_exporter": "python",
   "pygments_lexer": "ipython3",
   "version": "3.9.13"
  }
 },
 "nbformat": 4,
 "nbformat_minor": 5
}
