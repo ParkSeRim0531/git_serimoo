{
 "cells": [
  {
   "cell_type": "markdown",
   "id": "7f46e4dd",
   "metadata": {},
   "source": [
    "### 조건문\n",
    "if 조건:\n",
    "\n",
    "    조건이 True일 때 수행문 \n",
    "\n",
    "else:\n",
    "\n",
    "    조건이 false일 때 수행문\n",
    "\n"
   ]
  },
  {
   "cell_type": "code",
   "execution_count": 3,
   "id": "b39ff074",
   "metadata": {},
   "outputs": [
    {
     "name": "stdout",
     "output_type": "stream",
     "text": [
      "나이를 입력하세요31\n",
      "Sorry, you are not accepted\n"
     ]
    }
   ],
   "source": [
    "myage = int(input(\"나이를 입력하세요\"))\n",
    "if myage < 30:\n",
    "    print(\"welcome to the club\")\n",
    "else:\n",
    "    print(\"Sorry, you are not accepted\")"
   ]
  },
  {
   "cell_type": "code",
   "execution_count": 4,
   "id": "538aaeb8",
   "metadata": {},
   "outputs": [
    {
     "name": "stdout",
     "output_type": "stream",
     "text": [
      "True\n"
     ]
    }
   ],
   "source": [
    "if 1: #0일때만 false로 바꿔서 실행. 0과 \"\", 0.0 세가지만 False 나옴. \n",
    "    print(\"True\")\n",
    "else:\n",
    "    print(\"False\")"
   ]
  },
  {
   "cell_type": "code",
   "execution_count": 5,
   "id": "82af9c76",
   "metadata": {},
   "outputs": [
    {
     "name": "stdout",
     "output_type": "stream",
     "text": [
      "True\n"
     ]
    }
   ],
   "source": [
    "print((3 > 5) < 10) # 왜 true? bool타입과 int는 비교 불가. bool타입을 0으로 치환하고 결론적으로 0이 10보다 작다가 되어서 True가 나옴. "
   ]
  },
  {
   "cell_type": "code",
   "execution_count": 7,
   "id": "8ad65499",
   "metadata": {},
   "outputs": [
    {
     "name": "stdout",
     "output_type": "stream",
     "text": [
      "Enter your score : 40\n",
      "F\n"
     ]
    }
   ],
   "source": [
    "# 실습 예제 : 점수에 따른 학점 부여\n",
    "score = int(input(\"Enter your score : \"))\n",
    "\n",
    "if score >= 90: grade = 'A'\n",
    "elif score >= 80: grade = 'B'\n",
    "elif score >= 70: grade = 'C'\n",
    "elif score >= 60: grade = 'D'\n",
    "else: grade = 'F'\n",
    "    \n",
    "print(grade)"
   ]
  },
  {
   "cell_type": "code",
   "execution_count": 15,
   "id": "058f9f2a",
   "metadata": {},
   "outputs": [
    {
     "name": "stdout",
     "output_type": "stream",
     "text": [
      "당신이 태어난 연도를 입력하세요\n",
      "1999\n",
      "나이 :  24\n",
      "대학생\n"
     ]
    }
   ],
   "source": [
    "#실습예제 \"어떤 종류의 학생인지 맞추기\"\n",
    "\n",
    "import datetime #클래스 임폴트. 기존엔 지정된 날짜에서만 가능. \n",
    "\n",
    "today = datetime.date.today() #오늘날짜 꺼냄 \n",
    "\n",
    "y = today.year #올해 연도 값만 가져오는 변수 선언. \n",
    "print(y)\n",
    "\n",
    "print(\"당신이 태어난 연도를 입력하세요\")\n",
    "b_year = int(input())\n",
    "age = y - b_year + 1\n",
    "\n",
    "print(\"나이 : \" , age)\n",
    "\n",
    "if age <= 26 and age >=20: print(\"대학생\")\n",
    "elif age < 20 and age >= 17 : print(\"고등학생\")\n",
    "elif age < 17 and age >= 14 : print(\"중학생\")\n",
    "elif age < 14 and age >= 8 : print(\"초등학생\")\n",
    "else: print(\"학생이 아닙니다\")"
   ]
  },
  {
   "cell_type": "code",
   "execution_count": 20,
   "id": "dae3327c",
   "metadata": {},
   "outputs": [
    {
     "name": "stdout",
     "output_type": "stream",
     "text": [
      "59\n",
      "불합격이지만 과락은 아닙니다.\n"
     ]
    }
   ],
   "source": [
    "'''\n",
    "시험점수를 사용자에게 입력받아\n",
    "60점이상이면 \"합격\",\n",
    "40점 이상이면서 60점 미만이면 \"불합격이지만 과락은 아닙니다\"\n",
    "40점 미만이면 \"불합격이면서 과락입니다\"로 출력하시오.\n",
    "'''\n",
    "\n",
    "t_score = int(input())\n",
    "\n",
    "if t_score >= 60: print(\"합격\")\n",
    "elif t_score >= 40: print(\"불합격이지만 과락은 아닙니다.\")\n",
    "else: print(\"불합격이면서 과락입니다.\")\n"
   ]
  },
  {
   "cell_type": "code",
   "execution_count": 47,
   "id": "3ee13d30",
   "metadata": {},
   "outputs": [
    {
     "name": "stdout",
     "output_type": "stream",
     "text": [
      "비겼습니다. A : 1, B : 1\n"
     ]
    }
   ],
   "source": [
    "'''\n",
    "두 사람이 주사위를 던져 더 큰 수가 나오면 이기는 게임을 작성\n",
    "A가 이기거나 B가 이기거나 비기는 결과가 나오도록 프로그램을 작성하시오.\n",
    "Tip) import random #난수 발생하는 모듈\n",
    "num_a = random.randrange(1, 7) #1부터 6까지 숫자 중 하나의 값을 무작위 추출\n",
    "num_b = random.randrange(1, 7) #1부터 6까지 숫자 중 하나의 값을 무작위 추출\n",
    "'''\n",
    "\n",
    "import random\n",
    "\n",
    "ran_a = random.randrange(1,7)\n",
    "ran_b = random.randrange(1,7)\n",
    "\n",
    "if ran_a > ran_b : \n",
    "    print(\"A가 이겼습니다. A : %d, B : %d\" %(ran_a, ran_b))\n",
    "elif ran_a < ran_b : \n",
    "    print(\"B가 이겼습니다. A : %d, B : %d\" %(ran_a, ran_b))\n",
    "else : print(\"비겼습니다. A : %d, B : %d\" %(ran_a, ran_b))\n",
    "\n"
   ]
  },
  {
   "cell_type": "code",
   "execution_count": null,
   "id": "d6c90855",
   "metadata": {},
   "outputs": [],
   "source": []
  }
 ],
 "metadata": {
  "kernelspec": {
   "display_name": "Python 3 (ipykernel)",
   "language": "python",
   "name": "python3"
  },
  "language_info": {
   "codemirror_mode": {
    "name": "ipython",
    "version": 3
   },
   "file_extension": ".py",
   "mimetype": "text/x-python",
   "name": "python",
   "nbconvert_exporter": "python",
   "pygments_lexer": "ipython3",
   "version": "3.9.13"
  }
 },
 "nbformat": 4,
 "nbformat_minor": 5
}
