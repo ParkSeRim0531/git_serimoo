{
 "cells": [
  {
   "cell_type": "code",
   "execution_count": 2,
   "id": "5be712da",
   "metadata": {},
   "outputs": [
    {
     "name": "stdout",
     "output_type": "stream",
     "text": [
      "[['국어', '영어', '수학'], ['90', '80', '100']]\n"
     ]
    }
   ],
   "source": [
    "import csv  #csv 파일 활용 위해서 csv 모듈 임포트 \n",
    "\n",
    "f = open('a.csv','r')\n",
    "new = csv.reader(f)  #csv에서 제공하는 reader함수 사용. \n",
    "a_list = [] # 이차원리스트로 만들어서 보기 위해 빈 리스트 선언 \n",
    "for i in new:\n",
    "    #print(i)\n",
    "    a_list.append(i) #new에서 꺼내온 데이터들 i에 저장해서 리스트에 추가함. \n",
    "    \n",
    "f.close()\n",
    "\n",
    "print(a_list) #csv 파일 통채로 하나의 리스트 안에 넣어둠(이차원 리스트)"
   ]
  },
  {
   "cell_type": "markdown",
   "id": "81f0a3fe",
   "metadata": {},
   "source": [
    "텍스트다 보니 숫자도 따옴표 처리해서 가져옴. \n",
    "\n",
    "매번 이차원 리스트로 일일히 만들어줄 수 없으니 아예 함수로 만들어서 활용하기"
   ]
  },
  {
   "cell_type": "code",
   "execution_count": 3,
   "id": "89a775d9",
   "metadata": {},
   "outputs": [
    {
     "name": "stdout",
     "output_type": "stream",
     "text": [
      "[['국어', '영어', '수학'], ['90', '80', '100']]\n"
     ]
    }
   ],
   "source": [
    "def opencsv(filename):\n",
    "    f = open(filename,'r')\n",
    "    reader = csv.reader(f)\n",
    "    output = []\n",
    "    for i in reader:\n",
    "        output.append(i)\n",
    "    f.close()\n",
    "    return output\n",
    "\n",
    "print(opencsv('a.csv'))"
   ]
  },
  {
   "cell_type": "code",
   "execution_count": 5,
   "id": "48075043",
   "metadata": {},
   "outputs": [],
   "source": [
    "#csv 파일 만들기 : 다차원 리스트로 만들어서 출력해주어야 파일 생성 가능. \n",
    "\n",
    "a = [['구','전체','내국인','외국인'],\n",
    "['서초구','169518','411515','407672'],\n",
    "['강남구','234885','536710','531777'],\n",
    "['송파구','286119','668638','662961'],\n",
    "['강동구','202861','465496','461630']]\n",
    "\n",
    "\n",
    "f = open('abc.csv','w',newline='')\n",
    "writer = csv.writer(f, delimiter=\",\") # 문자에 ,로 구분 문자 넣어줌. \n",
    "writer.writerows(a)\n",
    "f.close()"
   ]
  },
  {
   "cell_type": "markdown",
   "id": "21511bf6",
   "metadata": {},
   "source": [
    "1) CSV형 리스트를 만들어 객체에 저장 \n",
    "\n",
    "2) 파일을 쓰기모드로 생성해 객체에 저장\n",
    "\n",
    "3) 파일을 생성한 객체에 csv.writer()를 사용해 csv객체를 연다\n",
    "\n",
    "4) writerows()로 쓰기 모드로 연 파일에 CSV형 리스트를 쓴 다음 파일을 닫는다(close())\n"
   ]
  },
  {
   "cell_type": "code",
   "execution_count": 1,
   "id": "60a33cd9",
   "metadata": {},
   "outputs": [
    {
     "name": "stdout",
     "output_type": "stream",
     "text": [
      "['Gu', 'Korean', 'Foreigner', 'Senior']\n",
      "['Total', '9,565,990', '229,436', '1,576,971']\n",
      "['Jongrogu', '146,029', '9,077', '27,605']\n",
      "['Jongru', '123,016', '9,243', '23,980']\n",
      "['Yongsangu', '226,378', '14,287', '38,884']\n"
     ]
    }
   ],
   "source": [
    "#나만의 모듈 사용하기 \n",
    "\n",
    "import usecsv\n",
    "\n",
    "total = usecsv.opencsv(\"popSeoul2021.csv\")\n",
    "\n",
    "for i in total[:5]:\n",
    "    print(i)"
   ]
  },
  {
   "cell_type": "markdown",
   "id": "62b02c33",
   "metadata": {},
   "source": [
    "##### 문자형 자료를 숫자형으로 바꾸기"
   ]
  },
  {
   "cell_type": "markdown",
   "id": "3c8a1409",
   "metadata": {},
   "source": [
    "초기값이 문자형이다보니 정규표현식 적용 가능.\n",
    "\n",
    "sub() 통해서 패턴 제거를 해주고 \n",
    "\n",
    "float 처리 해주기. \n",
    "\n",
    "1) 정규표현식 불러오기 \n",
    "\n",
    "2) 숫자로 바꿀 수 있는 원소 찾기\n",
    "\n",
    "3) 바꿀 수 있다면 쉼표를 지움\n",
    "\n",
    "4) 정수형 or 실수형으로 변경해주기 \n",
    "\n",
    "5) 만약 숫자로 바꿀 수 없다면 그대로 둠. \n"
   ]
  },
  {
   "cell_type": "code",
   "execution_count": 3,
   "id": "2d7e1161",
   "metadata": {},
   "outputs": [
    {
     "name": "stdout",
     "output_type": "stream",
     "text": [
      "['123!!', 151767.0, 11093.0, 27394.0, '', '!!!$%']\n"
     ]
    }
   ],
   "source": [
    "#숫자 원소만 골라서 쉼표 제거하기 \n",
    "import re\n",
    "\n",
    "i = ['123!!', '151,767','11,093','27,394','','!!!$%']\n",
    "\n",
    "for j in i:\n",
    "    try:\n",
    "        i[i.index(j)] = float(re.sub(',','',j))\n",
    "    except:\n",
    "        pass\n",
    "    \n",
    "print(i)"
   ]
  },
  {
   "cell_type": "markdown",
   "id": "66c81f93",
   "metadata": {},
   "source": [
    "### csv 파일 데이터 분석하기"
   ]
  },
  {
   "cell_type": "markdown",
   "id": "70fcf9ff",
   "metadata": {},
   "source": [
    "##### 외국인 비율이 3%가 넘어가는 지역  구하기"
   ]
  },
  {
   "cell_type": "code",
   "execution_count": 7,
   "id": "630447ac",
   "metadata": {},
   "outputs": [
    {
     "name": "stdout",
     "output_type": "stream",
     "text": [
      "[['Gu', 'Korean', 'Foreigner', 'Senior'], ['Total', 9565990.0, 229436.0, 1576971.0], ['Jongrogu', 146029.0, 9077.0, 27605.0]]\n"
     ]
    }
   ],
   "source": [
    "total = usecsv.opencsv(\"popSeoul2021.csv\")\n",
    "newPop = usecsv.switch(total)\n",
    "\n",
    "print(newPop[:3])"
   ]
  },
  {
   "cell_type": "code",
   "execution_count": 14,
   "id": "8879981c",
   "metadata": {},
   "outputs": [
    {
     "name": "stdout",
     "output_type": "stream",
     "text": [
      "Total 2.3\n",
      "Jongrogu 5.9\n",
      "Jongru 7.0\n",
      "Yongsangu 5.9\n",
      "Seongdonggu 2.2\n",
      "Kwangjingu 3.6\n",
      "Dongdaemoongu 4.0\n",
      "Jungranggu 1.2\n",
      "Seongbukgu 2.2\n",
      "Gangbukgu 1.1\n",
      "Dobonggu 0.6\n",
      "Nowonggu 0.8\n",
      "Eunpyonggu 0.8\n",
      "Seodaemungu 3.3\n",
      "Mapogu 2.6\n",
      "Yangcheongu 0.7\n",
      "Gangseogu 0.9\n",
      "Gurogu 6.0\n",
      "Guemcheongu 5.9\n",
      "Youngdeungpogu 6.2\n",
      "Dongjakgu 2.4\n",
      "Kwanakgu 2.8\n",
      "Seoucheogu 0.9\n",
      "Gangnamgu 0.9\n",
      "Songpagu 0.9\n",
      "Gangdonggu 0.8\n"
     ]
    }
   ],
   "source": [
    "for i in newPop:\n",
    "    foreign = 0\n",
    "    try:\n",
    "        foreign = round(i[2]/(i[1]+i[2]) * 100 , 1) \n",
    "        print(i[0],foreign)\n",
    "    except:\n",
    "        pass"
   ]
  },
  {
   "cell_type": "code",
   "execution_count": 20,
   "id": "e514c09c",
   "metadata": {},
   "outputs": [],
   "source": [
    "#파일에 저장하기\n",
    "\n",
    "new = [['구','한국인','외국인','외국인 비율(%)']]\n",
    "\n",
    "for i in newPop:\n",
    "    foreign = 0\n",
    "    try:\n",
    "        foreign = round(i[2] / (i[1] + i[2]) * 100, 1)\n",
    "        if foreign > 3:\n",
    "            new.append(i[0],i[1],i[2], foreign)\n",
    "    except:\n",
    "        pass\n",
    "       \n",
    "usecsv.writecsv(\"newPop.csv\", new)"
   ]
  },
  {
   "cell_type": "markdown",
   "id": "707816fc",
   "metadata": {},
   "source": [
    "### 국토교통부 아파트 실거래가 파일 활용 예제"
   ]
  },
  {
   "cell_type": "code",
   "execution_count": 21,
   "id": "9ac635eb",
   "metadata": {},
   "outputs": [
    {
     "name": "stdout",
     "output_type": "stream",
     "text": [
      "[['시군구', '번지', '본번', '부번', '단지명', '전용면적(㎡)', '계약년월', '계약일', '거래금액(만원)', '층', '건축년도', '도로명', '해제사유발생일'], ['강원도 강릉시 견소동', 289.0, 289.0, 0.0, '송정해변신도브래뉴아파트', 84.99, 202210.0, 4.0, 35000.0, 10.0, 2005.0, '경강로2539번길 22', 20221005.0], ['강원도 강릉시 교동', 1983.0, 1983.0, 0.0, '강릉교동롯데캐슬2단지', 84.9855, 202210.0, 17.0, 49900.0, 11.0, 2009.0, '화부산로111번길 24', '']]\n"
     ]
    }
   ],
   "source": [
    "apt = usecsv.switch(usecsv.opencsv(\"apt202210.csv\"))\n",
    "print(apt[:3])"
   ]
  },
  {
   "cell_type": "code",
   "execution_count": 23,
   "id": "a3e36927",
   "metadata": {},
   "outputs": [
    {
     "name": "stdout",
     "output_type": "stream",
     "text": [
      "시군구\n",
      "강원도 강릉시 견소동\n",
      "강원도 강릉시 교동\n",
      "강원도 강릉시 교동\n",
      "강원도 강릉시 교동\n",
      "강원도 강릉시 교동\n"
     ]
    }
   ],
   "source": [
    "# 슬라이싱 통해 원하는 부분만 뽑아내기 \n",
    "\n",
    "for i in apt[:6]:\n",
    "    print(i[0])"
   ]
  },
  {
   "cell_type": "code",
   "execution_count": 24,
   "id": "67c65781",
   "metadata": {},
   "outputs": [
    {
     "name": "stdout",
     "output_type": "stream",
     "text": [
      "시군구 단지명 층\n",
      "강원도 강릉시 견소동 송정해변신도브래뉴아파트 10.0\n",
      "강원도 강릉시 교동 강릉교동롯데캐슬2단지 11.0\n",
      "강원도 강릉시 교동 교동1주공 9.0\n",
      "강원도 강릉시 교동 민락 4.0\n",
      "강원도 강릉시 교동 부영1 11.0\n"
     ]
    }
   ],
   "source": [
    "#1번째, 5번째, 오른쪽에서(끝에서) 4번째 원소 출력\n",
    "\n",
    "for i in apt[:6]:\n",
    "    print(i[0],i[4],i[-4])"
   ]
  },
  {
   "cell_type": "markdown",
   "id": "5f9f0365",
   "metadata": {},
   "source": [
    "###### 필터링 해보기 : 강원도에 120m^2, 3억 이하 아파트 검색"
   ]
  },
  {
   "cell_type": "code",
   "execution_count": 30,
   "id": "ea896977",
   "metadata": {},
   "outputs": [],
   "source": [
    "import re\n",
    "\n",
    "for i in apt:\n",
    "    try:\n",
    "        if i[5] > 120 and i[8] < 30000 and re.match('서울',i[0]):\n",
    "            print(i[0],i[4],i[8])\n",
    "    except:\n",
    "        pass"
   ]
  },
  {
   "cell_type": "markdown",
   "id": "95ad04e3",
   "metadata": {},
   "source": [
    "###### 파일저장하기"
   ]
  },
  {
   "cell_type": "code",
   "execution_count": 28,
   "id": "13656ce5",
   "metadata": {},
   "outputs": [],
   "source": [
    "new_list = []\n",
    "for i in apt:\n",
    "    try:\n",
    "        if i[5] > 120 and i[-4] < 30000 and re.match('강원',i[0]):\n",
    "            new_list.append([i[0],i[4],i[-4]])\n",
    "    except: pass\n",
    "    \n",
    "usecsv.writecsv('over120_lower30000.csv', new_list)"
   ]
  },
  {
   "cell_type": "markdown",
   "id": "e8f555b4",
   "metadata": {},
   "source": [
    "<영한 번역>\n",
    "\n",
    "1) 영어 원문을 번역함 \n",
    "\n",
    "2) 각각 Korean과 English라는 객체를 만들어 저장\n",
    "\n",
    "3) re.split() 함수를 사용해 '마침표(.)'로 문장 구분해 리스트로 저장 \n",
    "\n",
    "4) CSV형 리스트를 저장할 빈 리스트 객체를 만듦\n",
    "\n",
    "5) 영어 문장 하나, 한국어 문장 하나를 각각 리스트로 만들어 빈 리스트에 추가\n",
    "\n",
    "6) usecsv 모듈의 writecsv() 함수를 활용해 CSV파일을 만듦 "
   ]
  },
  {
   "cell_type": "code",
   "execution_count": 31,
   "id": "fcbfff33",
   "metadata": {},
   "outputs": [
    {
     "name": "stdout",
     "output_type": "stream",
     "text": [
      "['그녀는 채식주의자입니다', ' 그녀는 고기를 먹지 않습니다', ' 그녀는 동물을 죽이지 말아야한다고 생각합니다', ' 그녀가 사람들과 어울리는 것은 어렵습니다', ' 많은 사람들이 고기를 좋아합니다', ' 그녀는 부모에게 고기를 먹지 말라고 말했습니다', ' 그들은 그녀를 비웃었다', ' 그녀는 그들이 고기를 포기할 수 없다는 것을 깨달았습니다', ' ']\n"
     ]
    }
   ],
   "source": [
    "import re, usecsv\n",
    "\n",
    "English = 'She is a vegetarian. She does not eat meat. She thinks that animals should not be killed. It is hard for her to hang out with people. Many people like to eat meat. She told his parents not to have meat. They laughed at her. She realized they couldn\\'t give up meat.'\n",
    "## 영문을 English 객체에 저장합니다 \n",
    "Korean = '그녀는 채식주의자입니다. 그녀는 고기를 먹지 않습니다. 그녀는 동물을 죽이지 말아야한다고 생각합니다. 그녀가 사람들과 어울리는 것은 어렵습니다. 많은 사람들이 고기를 좋아합니다. 그녀는 부모에게 고기를 먹지 말라고 말했습니다. 그들은 그녀를 비웃었다. 그녀는 그들이 고기를 포기할 수 없다는 것을 깨달았습니다. '\n",
    "## 영문을 구글 번역기로 번역해 Korean 객체에 저장합니다 \n",
    "\n",
    "\n",
    "Korean_list = re.split('\\.', Korean)\n",
    "\n",
    "English_list = re.split('\\.',English)\n",
    "\n",
    "print(Korean_list)\n",
    "\n",
    "\n",
    "total = []\n",
    "\n",
    "for i in range(len(English_list)):\n",
    "    total.append([English_list[i], Korean_list[i]]\t)\n",
    "\n",
    "usecsv.writecsv('Korean_English.csv', total)\n"
   ]
  },
  {
   "cell_type": "markdown",
   "id": "16c0139f",
   "metadata": {},
   "source": [
    "#### 파이썬을 JSON으로, JSON을 파이썬으로"
   ]
  },
  {
   "cell_type": "code",
   "execution_count": 33,
   "id": "33157b9a",
   "metadata": {},
   "outputs": [
    {
     "name": "stdout",
     "output_type": "stream",
     "text": [
      "[1, 2, 3, {\"4\": 5, \"6\": 7}]\n",
      "[1, 2, 3, {'4': 5, '6': 7}]\n",
      "1\n"
     ]
    }
   ],
   "source": [
    "import json\n",
    "a =  [1, 2, 3, {'4': 5, '6': 7}]\n",
    "b = json.dumps(a)  # 파이썬 -> JSON\n",
    "print(b)\n",
    "\n",
    "c = json.loads(b) # JSON -> 파이썬\n",
    "print(c)\n",
    "print(c[0])"
   ]
  },
  {
   "cell_type": "code",
   "execution_count": null,
   "id": "398376da",
   "metadata": {},
   "outputs": [],
   "source": []
  },
  {
   "cell_type": "code",
   "execution_count": null,
   "id": "ad84a6cc",
   "metadata": {},
   "outputs": [],
   "source": []
  },
  {
   "cell_type": "code",
   "execution_count": null,
   "id": "d4756e6f",
   "metadata": {},
   "outputs": [],
   "source": []
  },
  {
   "cell_type": "code",
   "execution_count": null,
   "id": "04c3afb4",
   "metadata": {},
   "outputs": [],
   "source": []
  },
  {
   "cell_type": "code",
   "execution_count": null,
   "id": "b4cc7a43",
   "metadata": {},
   "outputs": [],
   "source": []
  },
  {
   "cell_type": "code",
   "execution_count": null,
   "id": "5758d2f1",
   "metadata": {},
   "outputs": [],
   "source": []
  },
  {
   "cell_type": "code",
   "execution_count": null,
   "id": "6b3d8886",
   "metadata": {},
   "outputs": [],
   "source": []
  },
  {
   "cell_type": "code",
   "execution_count": null,
   "id": "232c6ef6",
   "metadata": {},
   "outputs": [],
   "source": []
  }
 ],
 "metadata": {
  "kernelspec": {
   "display_name": "Python 3 (ipykernel)",
   "language": "python",
   "name": "python3"
  },
  "language_info": {
   "codemirror_mode": {
    "name": "ipython",
    "version": 3
   },
   "file_extension": ".py",
   "mimetype": "text/x-python",
   "name": "python",
   "nbconvert_exporter": "python",
   "pygments_lexer": "ipython3",
   "version": "3.9.13"
  }
 },
 "nbformat": 4,
 "nbformat_minor": 5
}
