{
 "cells": [
  {
   "cell_type": "code",
   "execution_count": 2,
   "id": "89f5f953",
   "metadata": {},
   "outputs": [
    {
     "name": "stdout",
     "output_type": "stream",
     "text": [
      "15\n"
     ]
    }
   ],
   "source": [
    "a = 10\n",
    "b = 5\n",
    "print(a + b)"
   ]
  },
  {
   "cell_type": "code",
   "execution_count": 3,
   "id": "75add028",
   "metadata": {},
   "outputs": [
    {
     "name": "stdout",
     "output_type": "stream",
     "text": [
      "hello world!\n"
     ]
    }
   ],
   "source": [
    "print(\"hello world!\")"
   ]
  },
  {
   "cell_type": "code",
   "execution_count": 5,
   "id": "df6392dc",
   "metadata": {},
   "outputs": [
    {
     "name": "stdout",
     "output_type": "stream",
     "text": [
      "hello world2\n"
     ]
    }
   ],
   "source": [
    "print(\"hello world2\")"
   ]
  },
  {
   "cell_type": "markdown",
   "id": "db970be9",
   "metadata": {},
   "source": [
    "1. 변수"
   ]
  },
  {
   "cell_type": "code",
   "execution_count": 6,
   "id": "eb4a6d41",
   "metadata": {},
   "outputs": [
    {
     "name": "stdout",
     "output_type": "stream",
     "text": [
      "True\n",
      "True\n"
     ]
    }
   ],
   "source": [
    "a = 1 # -5 ~ 256까지는 미리 저장되어 있는 값이기 때문에 주소값도 동일.\n",
    "b = 1\n",
    "print(a == b) # 저장된 값 비교 \n",
    "print(a is b) # is 주소값 비교 연산자 "
   ]
  },
  {
   "cell_type": "code",
   "execution_count": 7,
   "id": "91c47acb",
   "metadata": {},
   "outputs": [
    {
     "name": "stdout",
     "output_type": "stream",
     "text": [
      "True\n",
      "False\n"
     ]
    }
   ],
   "source": [
    "a = 300\n",
    "b = 300\n",
    "print(a == b)\n",
    "print(a is b) # is 주소값 비교 연산자 "
   ]
  },
  {
   "cell_type": "code",
   "execution_count": 9,
   "id": "c22b195f",
   "metadata": {},
   "outputs": [
    {
     "name": "stdout",
     "output_type": "stream",
     "text": [
      "True False 0.5 hello\n",
      "<class 'bool'> <class 'bool'> <class 'float'> <class 'str'>\n"
     ]
    }
   ],
   "source": [
    "a = True\n",
    "b = False\n",
    "c = 0.5 \n",
    "d = \"hello\"\n",
    "\n",
    "print(a,b,c,d)\n",
    "print( type(a), type(b), type(c), type(d))"
   ]
  },
  {
   "cell_type": "code",
   "execution_count": 11,
   "id": "bd3d768b",
   "metadata": {},
   "outputs": [
    {
     "name": "stdout",
     "output_type": "stream",
     "text": [
      "7/2 =  3.5\n",
      "7//2 =  3\n",
      "7%2 =  1\n",
      "7**2 =  49\n"
     ]
    }
   ],
   "source": [
    "print(\"7/2 = \", 7 / 2)\n",
    "print(\"7//2 = \", 7 // 2)\n",
    "print(\"7%2 = \", 7 % 2)\n",
    "print(\"7**2 = \", 7 ** 2)\n"
   ]
  },
  {
   "cell_type": "markdown",
   "id": "b0fec3a7",
   "metadata": {},
   "source": [
    "# 자료형변환\n",
    "\n",
    "- int() : 문자열 / 실수를 int 데이터 타입으로 반환\n",
    "- float() : 문자열 / 정수를 float 데이터 타입으로 반환\n",
    "- str() : 다른 데이터 타입을 str 데이터 타입으로 반환\n",
    "- bool() : 다른 데이터 타입을 bool 데이터 타입으로 반환"
   ]
  },
  {
   "cell_type": "code",
   "execution_count": 15,
   "id": "cf6513a0",
   "metadata": {},
   "outputs": [],
   "source": [
    "a = 100\n",
    "b = 879.01\n",
    "c = 'python'\n",
    "d = True"
   ]
  },
  {
   "cell_type": "code",
   "execution_count": 17,
   "id": "743c80de",
   "metadata": {},
   "outputs": [
    {
     "name": "stdout",
     "output_type": "stream",
     "text": [
      "100.0\n",
      "879\n",
      "100 <class 'str'>\n",
      "True True\n"
     ]
    }
   ],
   "source": [
    "print(float(a))\n",
    "print(int(b))\n",
    "print(str(a), type(str(a)))\n",
    "print(bool(a), bool(-100))"
   ]
  },
  {
   "cell_type": "code",
   "execution_count": 19,
   "id": "44a35947",
   "metadata": {},
   "outputs": [
    {
     "name": "stdout",
     "output_type": "stream",
     "text": [
      "False\n",
      "False\n",
      "False\n"
     ]
    }
   ],
   "source": [
    "print(bool(0))\n",
    "print(bool(''))\n",
    "print(bool(0.0))"
   ]
  },
  {
   "cell_type": "code",
   "execution_count": 22,
   "id": "22b878f1",
   "metadata": {},
   "outputs": [
    {
     "name": "stdout",
     "output_type": "stream",
     "text": [
      "True\n",
      "True\n"
     ]
    }
   ],
   "source": [
    "# 자동 형변환\n",
    "\n",
    "print( 1 == True)\n",
    "print(0 == False)"
   ]
  },
  {
   "cell_type": "code",
   "execution_count": null,
   "id": "7c56ad65",
   "metadata": {},
   "outputs": [],
   "source": []
  },
  {
   "cell_type": "code",
   "execution_count": null,
   "id": "2072f958",
   "metadata": {},
   "outputs": [],
   "source": []
  },
  {
   "cell_type": "code",
   "execution_count": null,
   "id": "b676ff7d",
   "metadata": {},
   "outputs": [],
   "source": []
  }
 ],
 "metadata": {
  "kernelspec": {
   "display_name": "Python 3 (ipykernel)",
   "language": "python",
   "name": "python3"
  },
  "language_info": {
   "codemirror_mode": {
    "name": "ipython",
    "version": 3
   },
   "file_extension": ".py",
   "mimetype": "text/x-python",
   "name": "python",
   "nbconvert_exporter": "python",
   "pygments_lexer": "ipython3",
   "version": "3.9.13"
  }
 },
 "nbformat": 4,
 "nbformat_minor": 5
}
