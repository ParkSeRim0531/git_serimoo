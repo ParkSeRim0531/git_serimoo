{
 "cells": [
  {
   "cell_type": "code",
   "execution_count": 3,
   "id": "6c610cb1",
   "metadata": {},
   "outputs": [
    {
     "data": {
      "text/plain": [
       "['.ipynb_checkpoints',\n",
       " 'a.txt',\n",
       " 'friends1-01.ipynb',\n",
       " 'friends101.txt',\n",
       " 'korean.txt',\n",
       " 're 모듈 연습하기.ipynb',\n",
       " 'test.txt',\n",
       " '파일_입출력_연습.ipynb']"
      ]
     },
     "execution_count": 3,
     "metadata": {},
     "output_type": "execute_result"
    }
   ],
   "source": [
    "import re, os\n",
    "\n",
    "os.listdir()"
   ]
  },
  {
   "cell_type": "code",
   "execution_count": 4,
   "id": "92153ad8",
   "metadata": {},
   "outputs": [
    {
     "name": "stdout",
     "output_type": "stream",
     "text": [
      "The One Where Monica Gets a New Roommate (The Pilot-The Uncut Version)\n",
      "Written by: Marta Kauffman & \n"
     ]
    }
   ],
   "source": [
    "f = open('friends101.txt','r', encoding='utf8')\n",
    "script101 = f.read()\n",
    "print(script101[:100])\n",
    "f.close()"
   ]
  },
  {
   "cell_type": "markdown",
   "id": "fc73eace",
   "metadata": {},
   "source": [
    "#### 특정 등장인물의 대사만 모으기"
   ]
  },
  {
   "cell_type": "code",
   "execution_count": 7,
   "id": "08ff81ca",
   "metadata": {},
   "outputs": [
    {
     "name": "stdout",
     "output_type": "stream",
     "text": [
      "Monica: There's nothing to tell! He's just some guy I work with!\n",
      "Monica: Okay, everybody relax. This is not even a date. It's just two people going out to dinner and- not having sex.\n",
      "Monica: And they weren't looking at you before?!\n"
     ]
    }
   ],
   "source": [
    "m_lines = re.findall(r'Monica:.+', script101)\n",
    "\n",
    "for item in m_lines[:3]:\n",
    "    print(item)"
   ]
  },
  {
   "cell_type": "code",
   "execution_count": 8,
   "id": "c1477fc0",
   "metadata": {},
   "outputs": [],
   "source": [
    "#파일에 저장하기 \n",
    "\n",
    "f = open('monica.txt', 'w', encoding='utf8')\n",
    "m = ''\n",
    "\n",
    "for i in m_lines:\n",
    "    m += i + \"\\n\" #줄바꿈 붙여서 변수에 저장. \n",
    "\n",
    "f.write(m)\n",
    "f.close()"
   ]
  },
  {
   "cell_type": "markdown",
   "id": "83c8c8f7",
   "metadata": {},
   "source": [
    "#### 드라마 등장인물 리스트 만들기"
   ]
  },
  {
   "cell_type": "code",
   "execution_count": 16,
   "id": "f723e295",
   "metadata": {},
   "outputs": [
    {
     "name": "stdout",
     "output_type": "stream",
     "text": [
      "{'Paul:', 'Customer:', 'Scene:', 'Phoebe:', 'All:', 'Waitress:', 'Joey:', 'Chandler:', 'Ross:', 'Monica:', 'Rachel:', 'Note:', 'Frannie:'}\n"
     ]
    }
   ],
   "source": [
    "print(set(re.findall(r'[A-Z][a-z]+:', script101)))"
   ]
  },
  {
   "cell_type": "code",
   "execution_count": 17,
   "id": "34d4a72a",
   "metadata": {},
   "outputs": [
    {
     "data": {
      "text/plain": [
       "'Joey'"
      ]
     },
     "execution_count": 17,
     "metadata": {},
     "output_type": "execute_result"
    }
   ],
   "source": [
    "'Joey:'[:-1] #마지막 글자 잘라서 가져옴. "
   ]
  },
  {
   "cell_type": "code",
   "execution_count": 18,
   "id": "77e00eb7",
   "metadata": {},
   "outputs": [
    {
     "name": "stdout",
     "output_type": "stream",
     "text": [
      "['Paul', 'Customer', 'Scene', 'Phoebe', 'All', 'Waitress', 'Joey', 'Chandler', 'Ross', 'Monica', 'Rachel', 'Note', 'Frannie']\n"
     ]
    }
   ],
   "source": [
    "character = [x[:-1] for x in list(set(re.findall(r'[A-Z][a-z]+:', script101)))]\n",
    "print(character)"
   ]
  },
  {
   "cell_type": "code",
   "execution_count": null,
   "id": "5b5898d0",
   "metadata": {},
   "outputs": [],
   "source": []
  },
  {
   "cell_type": "code",
   "execution_count": null,
   "id": "266c7077",
   "metadata": {},
   "outputs": [],
   "source": []
  },
  {
   "cell_type": "code",
   "execution_count": null,
   "id": "a4200ec5",
   "metadata": {},
   "outputs": [],
   "source": []
  },
  {
   "cell_type": "code",
   "execution_count": null,
   "id": "cd05f2d5",
   "metadata": {},
   "outputs": [],
   "source": []
  }
 ],
 "metadata": {
  "kernelspec": {
   "display_name": "Python 3 (ipykernel)",
   "language": "python",
   "name": "python3"
  },
  "language_info": {
   "codemirror_mode": {
    "name": "ipython",
    "version": 3
   },
   "file_extension": ".py",
   "mimetype": "text/x-python",
   "name": "python",
   "nbconvert_exporter": "python",
   "pygments_lexer": "ipython3",
   "version": "3.9.13"
  }
 },
 "nbformat": 4,
 "nbformat_minor": 5
}
