{
 "cells": [
  {
   "cell_type": "code",
   "execution_count": 4,
   "id": "cbf6a2d8",
   "metadata": {},
   "outputs": [
    {
     "name": "stdout",
     "output_type": "stream",
     "text": [
      "Hollys store crawling >>>>>>>>>>>> \n"
     ]
    }
   ],
   "source": [
    "import urllib.request\n",
    "from bs4 import BeautifulSoup as bs\n",
    "import pandas as pd\n",
    "\n",
    "def hollys_store(result): #result 통해서 빈 리스트 넘겨줄 예정\n",
    "    for page in range(1, 54):\n",
    "        Hollys_url = \"https://www.hollys.co.kr/store/korea/korStore2.do?pageNo=%d&sido=&gugun=&store=\"% page #pageNo 자리에 %d 넣어줘서 페이지가 바뀌어도 url 뜰 수 있게 해줌\n",
    "    \n",
    "        html = urllib.request.urlopen(Hollys_url)\n",
    "        soupHollys = bs(html, 'html.parser') #html 변수를 bs로 변환해야 사용가능. \n",
    "        \n",
    "        tag_tbody = soupHollys.find(\"tbody\")\n",
    "        for store in tag_tbody.find_all('tr'): #tr을 리스트 형태로 가져오고 store에 하나씩 저장\n",
    "            store_td = store.find_all('td')\n",
    "            s_name = store_td[1].text\n",
    "            s_sido = store_td[0].string\n",
    "            s_address = store_td[3].string\n",
    "            s_phone = store_td[5].string\n",
    "            \n",
    "            result.append([s_name, s_sido, s_address, s_phone])\n",
    "            \n",
    "    return\n",
    "\n",
    "def main():\n",
    "    result = []\n",
    "    print(\"Hollys store crawling >>>>>>>>>>>> \")\n",
    "    hollys_store(result)\n",
    "    \n",
    "    hollys_df = pd.DataFrame(result, columns=('store', 'si-do-gu', 'address','phone'))\n",
    "    hollys_df.to_csv('hollys.csv', encoding='cp949', mode='w', index=True)\n",
    "    \n",
    "if __name__ == '__main__':\n",
    "    main()"
   ]
  },
  {
   "cell_type": "code",
   "execution_count": null,
   "id": "1d505be9",
   "metadata": {},
   "outputs": [],
   "source": []
  },
  {
   "cell_type": "code",
   "execution_count": null,
   "id": "16b750be",
   "metadata": {},
   "outputs": [],
   "source": []
  }
 ],
 "metadata": {
  "kernelspec": {
   "display_name": "Python 3 (ipykernel)",
   "language": "python",
   "name": "python3"
  },
  "language_info": {
   "codemirror_mode": {
    "name": "ipython",
    "version": 3
   },
   "file_extension": ".py",
   "mimetype": "text/x-python",
   "name": "python",
   "nbconvert_exporter": "python",
   "pygments_lexer": "ipython3",
   "version": "3.9.13"
  }
 },
 "nbformat": 4,
 "nbformat_minor": 5
}
