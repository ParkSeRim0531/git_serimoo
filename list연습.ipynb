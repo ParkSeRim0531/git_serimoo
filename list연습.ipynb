{
 "cells": [
  {
   "cell_type": "code",
   "execution_count": 12,
   "id": "5c2e3c9d",
   "metadata": {},
   "outputs": [
    {
     "name": "stdout",
     "output_type": "stream",
     "text": [
      "[56600, 56500, 55800, 55500, 55900]\n"
     ]
    }
   ],
   "source": [
    "#문제 1\n",
    "\n",
    "ss_closing_price = [56600, 56500, 55800, 55500,55900]\n",
    "\n",
    "print(ss_closing_price)"
   ]
  },
  {
   "cell_type": "code",
   "execution_count": 3,
   "id": "9e507a05",
   "metadata": {},
   "outputs": [
    {
     "name": "stdout",
     "output_type": "stream",
     "text": [
      "56600\n"
     ]
    }
   ],
   "source": [
    "#문제 2\n",
    "\n",
    "max_price = max(ss_closing_price)\n",
    "\n",
    "print(max_price)"
   ]
  },
  {
   "cell_type": "code",
   "execution_count": 4,
   "id": "113867d7",
   "metadata": {},
   "outputs": [
    {
     "name": "stdout",
     "output_type": "stream",
     "text": [
      "55500\n"
     ]
    }
   ],
   "source": [
    "#문제 3\n",
    "\n",
    "min_price = min(ss_closing_price)\n",
    "\n",
    "print(min_price)"
   ]
  },
  {
   "cell_type": "code",
   "execution_count": 5,
   "id": "4d1964be",
   "metadata": {},
   "outputs": [
    {
     "name": "stdout",
     "output_type": "stream",
     "text": [
      "1100\n"
     ]
    }
   ],
   "source": [
    "#문제 4 \n",
    "\n",
    "print(max_price - min_price)"
   ]
  },
  {
   "cell_type": "code",
   "execution_count": 14,
   "id": "35b59b5b",
   "metadata": {},
   "outputs": [
    {
     "name": "stdout",
     "output_type": "stream",
     "text": [
      "55800\n",
      "2\n",
      "55800\n"
     ]
    }
   ],
   "source": [
    "#문제 5\n",
    "\n",
    "print(ss_closing_price[2]) #숫자가 적으면 내가 아니까 이렇게 가능. \n",
    "\n",
    "day_of_week = ['월','화','수','목','금'] \n",
    "wed = day_of_week.index('수') #인덱스 번호 찾기\n",
    "print(wed)\n",
    "\n",
    "wed_price = ss_closing_price[wed]\n",
    "print(wed_price)"
   ]
  },
  {
   "cell_type": "code",
   "execution_count": 10,
   "id": "3f9ae70d",
   "metadata": {},
   "outputs": [
    {
     "name": "stdout",
     "output_type": "stream",
     "text": [
      "{'10/21': 55900, '10/20': 55500, '10/19': 55800, '10/18': 56500, '10/17': 56600}\n"
     ]
    }
   ],
   "source": [
    "#문제 6 \n",
    "\n",
    "ss_closing_price2 = {\"10/21\":55900, \"10/20\":55500, \"10/19\":55800, \"10/18\":56500, \"10/17\":56600}\n",
    "print(ss_closing_price2)"
   ]
  },
  {
   "cell_type": "code",
   "execution_count": 11,
   "id": "d5bbce6e",
   "metadata": {},
   "outputs": [
    {
     "name": "stdout",
     "output_type": "stream",
     "text": [
      "55800\n"
     ]
    }
   ],
   "source": [
    "#문제 7 \n",
    "\n",
    "print(ss_closing_price2[\"10/19\"])"
   ]
  }
 ],
 "metadata": {
  "kernelspec": {
   "display_name": "Python 3 (ipykernel)",
   "language": "python",
   "name": "python3"
  },
  "language_info": {
   "codemirror_mode": {
    "name": "ipython",
    "version": 3
   },
   "file_extension": ".py",
   "mimetype": "text/x-python",
   "name": "python",
   "nbconvert_exporter": "python",
   "pygments_lexer": "ipython3",
   "version": "3.9.13"
  }
 },
 "nbformat": 4,
 "nbformat_minor": 5
}
