{
 "cells": [
  {
   "cell_type": "code",
   "execution_count": 2,
   "id": "518d1252",
   "metadata": {},
   "outputs": [],
   "source": [
    "class SoccerPlayer(object):\n",
    "    def __init__(self, name, position, back_number):\n",
    "        self.name = name\n",
    "        self.position = position\n",
    "        self.back_number = back_number\n",
    "    def change_back_number(self, new_number):\n",
    "        print('선수의 등 번호 변경 : From %d to %d' %(self.back_number, new_number))\n",
    "        self.back_number = new_number\n",
    "    def __str__(self): #객체가 가진 값을 하나의 문자열로 받아오는 것 \n",
    "        return \"hello, I'm %s. I play in %s in center \" %(self.name, self.position)"
   ]
  },
  {
   "cell_type": "code",
   "execution_count": 3,
   "id": "1cc3c24d",
   "metadata": {},
   "outputs": [
    {
     "name": "stdout",
     "output_type": "stream",
     "text": [
      "hello, I'm Heung-Min. I play in SS in center \n"
     ]
    }
   ],
   "source": [
    "hm = SoccerPlayer(\"Heung-Min\", \"SS\", 7)\n",
    "print(hm)"
   ]
  },
  {
   "cell_type": "code",
   "execution_count": 4,
   "id": "1e6ed06e",
   "metadata": {},
   "outputs": [
    {
     "name": "stdout",
     "output_type": "stream",
     "text": [
      "현재 선수의 등번호는 :  7\n"
     ]
    }
   ],
   "source": [
    "print(\"현재 선수의 등번호는 : \", hm.back_number)"
   ]
  },
  {
   "cell_type": "code",
   "execution_count": 6,
   "id": "bf29bad9",
   "metadata": {},
   "outputs": [
    {
     "name": "stdout",
     "output_type": "stream",
     "text": [
      "선수의 등 번호 변경 : From 77 to 77\n",
      "현재 선수의 등번호는 :  77\n"
     ]
    }
   ],
   "source": [
    "hm.change_back_number(77)\n",
    "print(\"현재 선수의 등번호는 : \", hm.back_number)"
   ]
  },
  {
   "cell_type": "code",
   "execution_count": 11,
   "id": "ed358ac7",
   "metadata": {},
   "outputs": [],
   "source": [
    "class Person(object): #슈퍼클래스가 지정 안되어 있으면 항상 object 받아오기. \n",
    "    def __init__(self, name, age, gender):\n",
    "        self.name = name\n",
    "        self.age = age\n",
    "        self.gender = gender\n",
    "        \n",
    "    def about_me(self): \n",
    "        print(\"저의 이름은 \", self.name, \"이고요, 제 나이는 \", str(self.age),\"살입니다.\")"
   ]
  },
  {
   "cell_type": "code",
   "execution_count": 12,
   "id": "fa10928d",
   "metadata": {},
   "outputs": [],
   "source": [
    "class Employee(Person):\n",
    "    def __init__(self, name, age, gender, salary, hire_date):\n",
    "        super().__init__(name, age, gender)\n",
    "        self.salary = salary\n",
    "        self.hire_date = hire_date\n",
    "        \n",
    "    def do_work(self):\n",
    "        print(\"열심히 일을 한다\")\n",
    "        \n",
    "    def about_me(self):\n",
    "        super().about_me()\n",
    "        print(\"제 급여는 \", self.salary, \"원이고, 제 입사일은 \", self.hire_date, \"입니다.\")\n",
    "        "
   ]
  },
  {
   "cell_type": "code",
   "execution_count": 13,
   "id": "845e319e",
   "metadata": {},
   "outputs": [
    {
     "name": "stdout",
     "output_type": "stream",
     "text": [
      "저의 이름은  python 이고요, 제 나이는  20 살입니다.\n",
      "제 급여는  3500 원이고, 제 입사일은  22/10/31 입니다.\n"
     ]
    }
   ],
   "source": [
    "e1 = Employee(\"python\", 20, \"male\", \"3500\",\"22/10/31\")\n",
    "e1.about_me()"
   ]
  },
  {
   "cell_type": "code",
   "execution_count": 17,
   "id": "1dbe44c9",
   "metadata": {},
   "outputs": [
    {
     "name": "stdout",
     "output_type": "stream",
     "text": [
      "Missy:Meow!\n",
      "Mr.Mistoffelees:Meow!\n",
      "Lassie:Woof! Woof!\n"
     ]
    }
   ],
   "source": [
    "class Animal:\n",
    "    def __init__(self, name):\n",
    "        self.name = name\n",
    "    def talk(self):\n",
    "        raise NotImplementedError(\"Subclass must implement abstract method\")\n",
    "\n",
    "class Cat(Animal):\n",
    "    def talk(self):\n",
    "        return 'Meow!'\n",
    "\n",
    "class Dog(Animal):\n",
    "    def talk(self):\n",
    "        return 'Woof! Woof!'\n",
    "    \n",
    "animals = [Cat('Missy'), Cat('Mr.Mistoffelees'), Dog('Lassie')]\n",
    "\n",
    "for animal in animals:\n",
    "    print(animal.name + ':' + animal.talk())"
   ]
  },
  {
   "cell_type": "code",
   "execution_count": null,
   "id": "3fa39d66",
   "metadata": {},
   "outputs": [],
   "source": []
  },
  {
   "cell_type": "code",
   "execution_count": null,
   "id": "6dea4465",
   "metadata": {},
   "outputs": [],
   "source": []
  }
 ],
 "metadata": {
  "kernelspec": {
   "display_name": "Python 3 (ipykernel)",
   "language": "python",
   "name": "python3"
  },
  "language_info": {
   "codemirror_mode": {
    "name": "ipython",
    "version": 3
   },
   "file_extension": ".py",
   "mimetype": "text/x-python",
   "name": "python",
   "nbconvert_exporter": "python",
   "pygments_lexer": "ipython3",
   "version": "3.9.13"
  }
 },
 "nbformat": 4,
 "nbformat_minor": 5
}
