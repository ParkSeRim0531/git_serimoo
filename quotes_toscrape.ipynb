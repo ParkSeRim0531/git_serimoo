{
 "cells": [
  {
   "cell_type": "markdown",
   "id": "18b9e885",
   "metadata": {},
   "source": [
    "#### 웹크롤링\n",
    "\n",
    "- 웹의 정보를 자동으로 수집해주는 프로그램\n",
    "\n",
    "- HTML 몰라도 웹 크롤링 가능? HTML요소를 찾을 수 있다면 가능 "
   ]
  },
  {
   "cell_type": "code",
   "execution_count": 2,
   "id": "f18d3829",
   "metadata": {},
   "outputs": [],
   "source": [
    "# BeautifulSoup : HTML문서와 XML문서를 쉽게 이용할 수 있게 해주는 모듈 \n",
    "\n",
    "import urllib.request as ur\n",
    "from bs4 import BeautifulSoup as bs\n",
    "\n"
   ]
  },
  {
   "cell_type": "code",
   "execution_count": 8,
   "id": "8fd64e37",
   "metadata": {},
   "outputs": [
    {
     "data": {
      "text/plain": [
       "<http.client.HTTPResponse at 0x17ec1729250>"
      ]
     },
     "execution_count": 8,
     "metadata": {},
     "output_type": "execute_result"
    }
   ],
   "source": [
    "url = \"http://quotes.toscrape.com/\"\n",
    "\n",
    "html = ur.urlopen(url)\n",
    "html"
   ]
  },
  {
   "cell_type": "code",
   "execution_count": 4,
   "id": "222ca8eb",
   "metadata": {},
   "outputs": [
    {
     "data": {
      "text/plain": [
       "b'<!DOCTYPE html>\\n<html lang=\"en\">\\n<head>\\n\\t<meta charset=\"UTF-8\">\\n\\t<title>Quotes to Scrape</title>\\n   '"
      ]
     },
     "execution_count": 4,
     "metadata": {},
     "output_type": "execute_result"
    }
   ],
   "source": [
    "#html.read()[:100]"
   ]
  },
  {
   "cell_type": "markdown",
   "id": "11a79fbd",
   "metadata": {},
   "source": [
    "#### 뷰티풀수프로 파싱하기 쉬운 형태로 변환하기 \n",
    "\n",
    "- 웹문서 자료를 가져와 가공하기\n",
    "\n",
    "- bs(html.read(), html.parser()\n"
   ]
  },
  {
   "cell_type": "code",
   "execution_count": 9,
   "id": "bc8136d6",
   "metadata": {},
   "outputs": [],
   "source": [
    "soup = bs(html.read(), 'html.parser') \n",
    "#지금 읽어온게 html이기 때문에 html parser 해야함\n"
   ]
  },
  {
   "cell_type": "markdown",
   "id": "eabd0553",
   "metadata": {},
   "source": [
    "#### 특정 태그(텍스트) 추출 \n",
    "\n",
    "- find_all() \n",
    "\n",
    "- find_all() 찾은 내용을 quote 변수에 넣고 변수의 0번 인덱스의 text 추출"
   ]
  },
  {
   "cell_type": "code",
   "execution_count": 10,
   "id": "ff1eb47e",
   "metadata": {},
   "outputs": [
    {
     "name": "stdout",
     "output_type": "stream",
     "text": [
      "“The world as we have created it is a process of our thinking. It cannot be changed without changing our thinking.”\n"
     ]
    }
   ],
   "source": [
    "quote = soup.find_all(\"span\")\n",
    "print(quote[0].text)"
   ]
  },
  {
   "cell_type": "code",
   "execution_count": 11,
   "id": "e6c50be8",
   "metadata": {},
   "outputs": [
    {
     "name": "stdout",
     "output_type": "stream",
     "text": [
      "“The world as we have created it is a process of our thinking. It cannot be changed without changing our thinking.”\n",
      "by Albert Einstein\n",
      "(about)\n",
      "\n",
      "“It is our choices, Harry, that show what we truly are, far more than our abilities.”\n",
      "by J.K. Rowling\n",
      "(about)\n",
      "\n",
      "“There are only two ways to live your life. One is as though nothing is a miracle. The other is as though everything is a miracle.”\n",
      "by Albert Einstein\n",
      "(about)\n",
      "\n",
      "“The person, be it gentleman or lady, who has not pleasure in a good novel, must be intolerably stupid.”\n",
      "by Jane Austen\n",
      "(about)\n",
      "\n",
      "“Imperfection is beauty, madness is genius and it's better to be absolutely ridiculous than absolutely boring.”\n",
      "by Marilyn Monroe\n",
      "(about)\n",
      "\n",
      "“Try not to become a man of success. Rather become a man of value.”\n",
      "by Albert Einstein\n",
      "(about)\n",
      "\n",
      "“It is better to be hated for what you are than to be loved for what you are not.”\n",
      "by André Gide\n",
      "(about)\n",
      "\n",
      "“I have not failed. I've just found 10,000 ways that won't work.”\n",
      "by Thomas A. Edison\n",
      "(about)\n",
      "\n",
      "“A woman is like a tea bag; you never know how strong it is until it's in hot water.”\n",
      "by Eleanor Roosevelt\n",
      "(about)\n",
      "\n",
      "“A day without sunshine is like, you know, night.”\n",
      "by Steve Martin\n",
      "(about)\n",
      "\n",
      "→\n",
      "\n",
      "love\n",
      "\n",
      "\n",
      "inspirational\n",
      "\n",
      "\n",
      "life\n",
      "\n",
      "\n",
      "humor\n",
      "\n",
      "\n",
      "books\n",
      "\n",
      "\n",
      "reading\n",
      "\n",
      "\n",
      "friendship\n",
      "\n",
      "\n",
      "friends\n",
      "\n",
      "\n",
      "truth\n",
      "\n",
      "\n",
      "simile\n",
      "\n",
      "❤\n"
     ]
    }
   ],
   "source": [
    "# 모은 태그의 모든 텍스트 추출 : for문 사용 \n",
    "\n",
    "for i in quote:\n",
    "    print(i.text)"
   ]
  },
  {
   "cell_type": "markdown",
   "id": "ac059b11",
   "metadata": {},
   "source": [
    "#### 특정태그 찾아서 명언 출력하기 \n",
    "-  정보위치 확인하기 위해 브라우저 콘솔 확인 후 명언 일부 검색해서 사용. \n",
    "\n",
    "-  soup.find_all('태그',{속성 : 값}) = 해당 속성을 가진 값만 가진 태그를 가져오겠다"
   ]
  },
  {
   "cell_type": "code",
   "execution_count": 12,
   "id": "7f97d592",
   "metadata": {},
   "outputs": [
    {
     "name": "stdout",
     "output_type": "stream",
     "text": [
      "“The world as we have created it is a process of our thinking. It cannot be changed without changing our thinking.”\n",
      "“It is our choices, Harry, that show what we truly are, far more than our abilities.”\n",
      "“There are only two ways to live your life. One is as though nothing is a miracle. The other is as though everything is a miracle.”\n",
      "“The person, be it gentleman or lady, who has not pleasure in a good novel, must be intolerably stupid.”\n",
      "“Imperfection is beauty, madness is genius and it's better to be absolutely ridiculous than absolutely boring.”\n",
      "“Try not to become a man of success. Rather become a man of value.”\n",
      "“It is better to be hated for what you are than to be loved for what you are not.”\n",
      "“I have not failed. I've just found 10,000 ways that won't work.”\n",
      "“A woman is like a tea bag; you never know how strong it is until it's in hot water.”\n",
      "“A day without sunshine is like, you know, night.”\n"
     ]
    }
   ],
   "source": [
    "for i in soup.find_all('span',{\"class\":\"text\"}):\n",
    "    print(i.text)"
   ]
  },
  {
   "cell_type": "code",
   "execution_count": null,
   "id": "597b32d9",
   "metadata": {},
   "outputs": [],
   "source": []
  },
  {
   "cell_type": "code",
   "execution_count": null,
   "id": "95e096bc",
   "metadata": {},
   "outputs": [],
   "source": []
  }
 ],
 "metadata": {
  "kernelspec": {
   "display_name": "Python 3 (ipykernel)",
   "language": "python",
   "name": "python3"
  },
  "language_info": {
   "codemirror_mode": {
    "name": "ipython",
    "version": 3
   },
   "file_extension": ".py",
   "mimetype": "text/x-python",
   "name": "python",
   "nbconvert_exporter": "python",
   "pygments_lexer": "ipython3",
   "version": "3.9.13"
  }
 },
 "nbformat": 4,
 "nbformat_minor": 5
}
