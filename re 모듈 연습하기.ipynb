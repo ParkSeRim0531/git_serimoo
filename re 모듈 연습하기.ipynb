{
 "cells": [
  {
   "cell_type": "markdown",
   "id": "8d153a6f",
   "metadata": {},
   "source": [
    "#### match 메서드"
   ]
  },
  {
   "cell_type": "code",
   "execution_count": 1,
   "id": "e6295e5b",
   "metadata": {},
   "outputs": [
    {
     "data": {
      "text/plain": [
       "'life'"
      ]
     },
     "execution_count": 1,
     "metadata": {},
     "output_type": "execute_result"
    }
   ],
   "source": [
    "import re\n",
    "\n",
    "pattern = r'life'\n",
    "script = 'life'\n",
    "\n",
    "# re.match(pattern, script) # match 오브젝트에서 꺼냄\n",
    "re.match(pattern, script).group # 매칭된 그룹 보여줌 "
   ]
  },
  {
   "cell_type": "code",
   "execution_count": 4,
   "id": "c507a3ad",
   "metadata": {},
   "outputs": [
    {
     "ename": "AttributeError",
     "evalue": "'NoneType' object has no attribute 'group'",
     "output_type": "error",
     "traceback": [
      "\u001b[1;31m---------------------------------------------------------------------------\u001b[0m",
      "\u001b[1;31mAttributeError\u001b[0m                            Traceback (most recent call last)",
      "\u001b[1;32m~\\AppData\\Local\\Temp\\ipykernel_17440\\3326504871.py\u001b[0m in \u001b[0;36m<module>\u001b[1;34m\u001b[0m\n\u001b[1;32m----> 1\u001b[1;33m \u001b[0mre\u001b[0m\u001b[1;33m.\u001b[0m\u001b[0mmatch\u001b[0m\u001b[1;33m(\u001b[0m\u001b[0mpattern\u001b[0m\u001b[1;33m,\u001b[0m \u001b[1;34m'animal life'\u001b[0m\u001b[1;33m)\u001b[0m\u001b[1;33m.\u001b[0m\u001b[0mgroup\u001b[0m\u001b[1;33m(\u001b[0m\u001b[1;33m)\u001b[0m\u001b[1;33m\u001b[0m\u001b[1;33m\u001b[0m\u001b[0m\n\u001b[0m",
      "\u001b[1;31mAttributeError\u001b[0m: 'NoneType' object has no attribute 'group'"
     ]
    }
   ],
   "source": [
    " re.match(pattern, 'animal life').group() # 중간에 있는 문자열은 못찾음. "
   ]
  },
  {
   "cell_type": "code",
   "execution_count": 5,
   "id": "a78ac43a",
   "metadata": {},
   "outputs": [
    {
     "data": {
      "text/plain": [
       "'life'"
      ]
     },
     "execution_count": 5,
     "metadata": {},
     "output_type": "execute_result"
    }
   ],
   "source": [
    "re.match(pattern, 'life animal').group() #처음 시작하는 문자는 찾음. "
   ]
  },
  {
   "cell_type": "markdown",
   "id": "b234ef7d",
   "metadata": {},
   "source": [
    "####  search 메서드"
   ]
  },
  {
   "cell_type": "code",
   "execution_count": 10,
   "id": "472eee25",
   "metadata": {},
   "outputs": [
    {
     "name": "stdout",
     "output_type": "stream",
     "text": [
      "is\n",
      "cool\n"
     ]
    },
    {
     "ename": "AttributeError",
     "evalue": "'NoneType' object has no attribute 'group'",
     "output_type": "error",
     "traceback": [
      "\u001b[1;31m---------------------------------------------------------------------------\u001b[0m",
      "\u001b[1;31mAttributeError\u001b[0m                            Traceback (most recent call last)",
      "\u001b[1;32m~\\AppData\\Local\\Temp\\ipykernel_17440\\331473732.py\u001b[0m in \u001b[0;36m<module>\u001b[1;34m\u001b[0m\n\u001b[0;32m      8\u001b[0m \u001b[1;33m\u001b[0m\u001b[0m\n\u001b[0;32m      9\u001b[0m \u001b[0mpattern\u001b[0m \u001b[1;33m=\u001b[0m \u001b[1;34m'life'\u001b[0m\u001b[1;33m\u001b[0m\u001b[1;33m\u001b[0m\u001b[0m\n\u001b[1;32m---> 10\u001b[1;33m \u001b[0mprint\u001b[0m\u001b[1;33m(\u001b[0m\u001b[0mre\u001b[0m\u001b[1;33m.\u001b[0m\u001b[0msearch\u001b[0m\u001b[1;33m(\u001b[0m\u001b[0mpattern\u001b[0m\u001b[1;33m,\u001b[0m \u001b[0mscript\u001b[0m\u001b[1;33m)\u001b[0m\u001b[1;33m.\u001b[0m\u001b[0mgroup\u001b[0m\u001b[1;33m(\u001b[0m\u001b[1;33m)\u001b[0m\u001b[1;33m)\u001b[0m\u001b[1;33m\u001b[0m\u001b[1;33m\u001b[0m\u001b[0m\n\u001b[0m",
      "\u001b[1;31mAttributeError\u001b[0m: 'NoneType' object has no attribute 'group'"
     ]
    }
   ],
   "source": [
    "script = 'Life is cool'\n",
    "pattern = 'is'\n",
    "\n",
    "print(re.search(pattern, script).group())\n",
    "\n",
    "pattern = 'cool'\n",
    "print(re.search(pattern, script).group())\n",
    "\n",
    "pattern = 'life'\n",
    "print(re.search(pattern, script).group())"
   ]
  },
  {
   "cell_type": "markdown",
   "id": "3e85f5b6",
   "metadata": {},
   "source": [
    "#### findall 메서드"
   ]
  },
  {
   "cell_type": "code",
   "execution_count": 11,
   "id": "3c2029b8",
   "metadata": {},
   "outputs": [
    {
     "name": "stdout",
     "output_type": "stream",
     "text": [
      "['221101', '201031']\n"
     ]
    }
   ],
   "source": [
    "number = \"My Number is 221101-1****** and yours is 201031-1******\"\n",
    "\n",
    "#앞 6자리만 꺼내서 추출하기 \n",
    "\n",
    "num = re.findall(r'\\d{6}',number)\n",
    "print(num)"
   ]
  },
  {
   "cell_type": "code",
   "execution_count": 12,
   "id": "adb1f992",
   "metadata": {},
   "outputs": [
    {
     "data": {
      "text/plain": [
       "['02년', '2002년', '2022년']"
      ]
     },
     "execution_count": 12,
     "metadata": {},
     "output_type": "execute_result"
    }
   ],
   "source": [
    "example = '저는 02년에 태어났습니다. 2002년에는 월드컵이 있었습니다. 지금은 2022년입니다.'\n",
    "\n",
    "re.findall(r'\\d+년', example)"
   ]
  },
  {
   "cell_type": "markdown",
   "id": "3d2bec34",
   "metadata": {},
   "source": [
    "#### split 메서드 (문자열 분할)"
   ]
  },
  {
   "cell_type": "code",
   "execution_count": 13,
   "id": "ce03680d",
   "metadata": {},
   "outputs": [
    {
     "data": {
      "text/plain": [
       "['I love a lovely dog, really',\n",
       " ' I am not telling a lie',\n",
       " ' what a pretty dog',\n",
       " ' I love this dog',\n",
       " '']"
      ]
     },
     "execution_count": 13,
     "metadata": {},
     "output_type": "execute_result"
    }
   ],
   "source": [
    "s = 'I love a lovely dog, really. I am not telling a lie. what a pretty dog! I love this dog.'\n",
    "\n",
    "re.split(r'[.?!]', s) #.이나 ?나 !로 나누겠다. but 나눈 애들은 포함되지 않음."
   ]
  },
  {
   "cell_type": "code",
   "execution_count": 14,
   "id": "93405eea",
   "metadata": {},
   "outputs": [
    {
     "name": "stdout",
     "output_type": "stream",
     "text": [
      "['a', '3']\n",
      "['b', '4']\n",
      "['c', '5']\n"
     ]
    }
   ],
   "source": [
    "data = 'a:3;b:4;c:5'\n",
    "\n",
    "for i in re.split(\";\", data):\n",
    "    print(re.split(\":\",i))"
   ]
  },
  {
   "cell_type": "markdown",
   "id": "72b449ae",
   "metadata": {},
   "source": [
    "#### sub 메서드 : 문자열 바꾸기"
   ]
  },
  {
   "cell_type": "code",
   "execution_count": 15,
   "id": "3b69f8db",
   "metadata": {},
   "outputs": [
    {
     "data": {
      "text/plain": [
       "'I love a lovely cat, really. I am not telling a lie. what a pretty cat! I love this cat.'"
      ]
     },
     "execution_count": 15,
     "metadata": {},
     "output_type": "execute_result"
    }
   ],
   "source": [
    "re.sub('dog','cat',s)"
   ]
  },
  {
   "cell_type": "code",
   "execution_count": 20,
   "id": "3023b591",
   "metadata": {},
   "outputs": [
    {
     "name": "stdout",
     "output_type": "stream",
     "text": [
      "I'm home now \n",
      "\n",
      "\n",
      "I am with my cat. \n",
      "\n",
      "\n",
      "I'm home now I am with my cat. \n"
     ]
    }
   ],
   "source": [
    "word = \"I'm home now \\n\\n\\nI am with my cat. \\n\\n\"\n",
    "print(word)\n",
    "\n",
    "# 불필요한 공백 제거하기.\n",
    "\n",
    "word2 = re.sub(r'\\n',\"\",word)\n",
    "print(word2)"
   ]
  },
  {
   "cell_type": "code",
   "execution_count": 27,
   "id": "b5806b6a",
   "metadata": {},
   "outputs": [
    {
     "data": {
      "text/plain": [
       "['lovely', 'really']"
      ]
     },
     "execution_count": 27,
     "metadata": {},
     "output_type": "execute_result"
    }
   ],
   "source": [
    "s = 'I love a lovely dog, really. I am not telling a lie. what a pretty dog! I love this dog.'\n",
    "\n",
    "#~ly로 끝나는 단어 추출 \n",
    "\n",
    "re.findall(r'\\w+ly',s)"
   ]
  },
  {
   "cell_type": "code",
   "execution_count": null,
   "id": "5e91b6d2",
   "metadata": {},
   "outputs": [],
   "source": []
  },
  {
   "cell_type": "code",
   "execution_count": null,
   "id": "14af0eea",
   "metadata": {},
   "outputs": [],
   "source": []
  },
  {
   "cell_type": "code",
   "execution_count": null,
   "id": "90616e0b",
   "metadata": {},
   "outputs": [],
   "source": []
  },
  {
   "cell_type": "code",
   "execution_count": null,
   "id": "04991745",
   "metadata": {},
   "outputs": [],
   "source": []
  },
  {
   "cell_type": "code",
   "execution_count": null,
   "id": "a129adba",
   "metadata": {},
   "outputs": [],
   "source": []
  },
  {
   "cell_type": "code",
   "execution_count": null,
   "id": "9dce59c2",
   "metadata": {},
   "outputs": [],
   "source": []
  }
 ],
 "metadata": {
  "kernelspec": {
   "display_name": "Python 3 (ipykernel)",
   "language": "python",
   "name": "python3"
  },
  "language_info": {
   "codemirror_mode": {
    "name": "ipython",
    "version": 3
   },
   "file_extension": ".py",
   "mimetype": "text/x-python",
   "name": "python",
   "nbconvert_exporter": "python",
   "pygments_lexer": "ipython3",
   "version": "3.9.13"
  }
 },
 "nbformat": 4,
 "nbformat_minor": 5
}
