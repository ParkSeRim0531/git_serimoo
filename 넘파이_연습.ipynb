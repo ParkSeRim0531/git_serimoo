{
 "cells": [
  {
   "cell_type": "markdown",
   "id": "86948ff6",
   "metadata": {},
   "source": [
    "## 넘파이 (numpy)\n",
    "\n",
    "- 배열 계산 기능, 반올림, 버리기 기능 (floor, ceil, power 주요 함수 제공)\n",
    "\n",
    "- 배열과 행렬을 쉽게 사용하게 해주는 패키지\n",
    "\n",
    "- 속도가 매우 빠르고 응용 쉬움\n",
    "\n"
   ]
  },
  {
   "cell_type": "code",
   "execution_count": 1,
   "id": "cb67a726",
   "metadata": {},
   "outputs": [
    {
     "name": "stdout",
     "output_type": "stream",
     "text": [
      "[[2 3]\n",
      " [5 2]]\n"
     ]
    }
   ],
   "source": [
    "import numpy as np\n",
    "\n",
    "a = np.array([[2,3],[5,2]])\n",
    "print(a)"
   ]
  },
  {
   "cell_type": "code",
   "execution_count": 3,
   "id": "fe0e4156",
   "metadata": {},
   "outputs": [
    {
     "name": "stdout",
     "output_type": "stream",
     "text": [
      "[[ 1  2  3  4  5]\n",
      " [ 2  4  6  8 10]\n",
      " [ 5  6  7  8  9]]\n",
      "6\n",
      "6\n",
      "[[ 8 10]\n",
      " [ 8  9]]\n"
     ]
    }
   ],
   "source": [
    "# 슬라이싱\n",
    "\n",
    "d = np.array([[1,2,3,4,5],[2,4,6,8,10],[5,6,7,8,9]])\n",
    "\n",
    "print(d)\n",
    "\n",
    "print(d[1][2]) # [행] [열] \n",
    "print(d[1,2]) # 행, 열 \n",
    "print(d[1:,3:]) # 1번 행부터 3번 열 끝까지 "
   ]
  },
  {
   "cell_type": "markdown",
   "id": "488a618b",
   "metadata": {},
   "source": [
    "#### shape : 배열의 행과 열을 튜플로 반환"
   ]
  },
  {
   "cell_type": "code",
   "execution_count": 5,
   "id": "9e5646ce",
   "metadata": {},
   "outputs": [
    {
     "name": "stdout",
     "output_type": "stream",
     "text": [
      "(5,)\n",
      "(2, 5)\n"
     ]
    }
   ],
   "source": [
    "d = np.array([2,3,4,5,6])\n",
    "print(d.shape)\n",
    "\n",
    "d = np.array([[1,2,3,4,5,],[2,4,6,8,10]])\n",
    "print(d.shape)\n"
   ]
  },
  {
   "cell_type": "markdown",
   "id": "6e8cfba1",
   "metadata": {},
   "source": [
    "#### dtype & astype\n",
    "\n",
    "- dtype 함수 사용하면 배열의 원소를 확인 할 수 있음.\n",
    "\n",
    "- astype() 사용하면 배열의 원소 타입 변경 가능. "
   ]
  },
  {
   "cell_type": "code",
   "execution_count": 10,
   "id": "7f0381ae",
   "metadata": {},
   "outputs": [
    {
     "name": "stdout",
     "output_type": "stream",
     "text": [
      "[1 2 3 4]\n",
      "[1 2 3 4]\n"
     ]
    }
   ],
   "source": [
    "data = np.arange(1,5) #배열의 범위 지정하는 함수\n",
    "print(data)\n",
    "data.astype('float64')\n",
    "print(data)"
   ]
  },
  {
   "cell_type": "markdown",
   "id": "4dfa90e5",
   "metadata": {},
   "source": [
    "#### np.zeros() , np.ones(), np.arange() \n",
    "\n",
    "- np.zeros() : 안의 내용을 다 0으로 만듦\n",
    "\n",
    "- np.ones() : 안의 내용을 다 1로 만듦\n",
    "\n",
    "- np.arange() : 범위 지정해서 증가시킴 ex. np.arange(2,10) -> 2부터 10앞까지 범위"
   ]
  },
  {
   "cell_type": "code",
   "execution_count": 11,
   "id": "fa87f3eb",
   "metadata": {},
   "outputs": [
    {
     "name": "stdout",
     "output_type": "stream",
     "text": [
      "[[0. 0. 0. 0. 0.]]\n",
      "[[1. 1. 1.]\n",
      " [1. 1. 1.]]\n"
     ]
    }
   ],
   "source": [
    "print(np.zeros((1,5)))\n",
    "print(np.ones((2,3)))"
   ]
  },
  {
   "cell_type": "markdown",
   "id": "d5c7bc5c",
   "metadata": {},
   "source": [
    "#### np.transpose() : 행과 열을 바꾸는 배열 반환"
   ]
  },
  {
   "cell_type": "code",
   "execution_count": 12,
   "id": "b5451ad9",
   "metadata": {},
   "outputs": [
    {
     "name": "stdout",
     "output_type": "stream",
     "text": [
      "[[1. 1. 1.]\n",
      " [1. 1. 1.]]\n",
      "[[1. 1.]\n",
      " [1. 1.]\n",
      " [1. 1.]]\n"
     ]
    }
   ],
   "source": [
    "a = np.ones((2,3))\n",
    "print(a)\n",
    "\n",
    "b = np.transpose(a) # 2행 3열 이었던 배열이 3행 2열로 바뀜.\n",
    "print(b)"
   ]
  },
  {
   "cell_type": "markdown",
   "id": "743d4a39",
   "metadata": {},
   "source": [
    "#### 배열의 사칙연산\n",
    "- 배열의 덧셈\n",
    ": 배열의 같은 자리의 원소끼리 더해줌\n",
    "\n",
    "- 배열의 곱셈\n",
    ": 같은 자리의 원소끼리 곱함. \n"
   ]
  },
  {
   "cell_type": "code",
   "execution_count": 13,
   "id": "bf70e88c",
   "metadata": {},
   "outputs": [],
   "source": [
    "arr1 = np.array([[2,3,4],[6,7,8]])\n",
    "arr2 = np.array([[12,13,14],[36,47,58]])"
   ]
  },
  {
   "cell_type": "code",
   "execution_count": 15,
   "id": "b26c9f73",
   "metadata": {},
   "outputs": [
    {
     "name": "stdout",
     "output_type": "stream",
     "text": [
      "[[14 16 18]\n",
      " [42 54 66]]\n",
      "[[ 24  39  56]\n",
      " [216 329 464]]\n",
      "[[2 3 4]\n",
      " [6 7 8]]\n"
     ]
    }
   ],
   "source": [
    "#덧셈\n",
    "\n",
    "print(arr1 + arr2)\n",
    "\n",
    "#곱셈\n",
    "\n",
    "print(arr1 * arr2)\n",
    "\n",
    "#나눗셈\n",
    "\n",
    "print(arr1 % arr2)"
   ]
  },
  {
   "cell_type": "code",
   "execution_count": 19,
   "id": "c7676e2e",
   "metadata": {},
   "outputs": [
    {
     "name": "stdout",
     "output_type": "stream",
     "text": [
      "[[102 203 304]\n",
      " [106 207 308]]\n"
     ]
    },
    {
     "ename": "ValueError",
     "evalue": "operands could not be broadcast together with shapes (2,3) (10,) ",
     "output_type": "error",
     "traceback": [
      "\u001b[1;31m---------------------------------------------------------------------------\u001b[0m",
      "\u001b[1;31mValueError\u001b[0m                                Traceback (most recent call last)",
      "\u001b[1;32m~\\AppData\\Local\\Temp\\ipykernel_16908\\2167606134.py\u001b[0m in \u001b[0;36m<module>\u001b[1;34m\u001b[0m\n\u001b[0;32m     10\u001b[0m \u001b[0marr1\u001b[0m\u001b[1;33m.\u001b[0m\u001b[0mshape\u001b[0m\u001b[1;33m\u001b[0m\u001b[1;33m\u001b[0m\u001b[0m\n\u001b[0;32m     11\u001b[0m \u001b[1;33m\u001b[0m\u001b[0m\n\u001b[1;32m---> 12\u001b[1;33m \u001b[0mprint\u001b[0m\u001b[1;33m(\u001b[0m\u001b[0marr1\u001b[0m \u001b[1;33m+\u001b[0m \u001b[0marr4\u001b[0m\u001b[1;33m)\u001b[0m\u001b[1;33m\u001b[0m\u001b[1;33m\u001b[0m\u001b[0m\n\u001b[0m",
      "\u001b[1;31mValueError\u001b[0m: operands could not be broadcast together with shapes (2,3) (10,) "
     ]
    }
   ],
   "source": [
    "# 크기가 서로 다른 배열끼리 더하기 \n",
    "arr3 = ([100,200,300])\n",
    "\n",
    "print(arr1 + arr3)\n",
    "\n",
    "\n",
    "#행과 열의 크기가 다 다르면 오류 발생 \n",
    "arr4 = np.array([1,2,3,4,5,6,7,8,9,10])\n",
    "arr4.shape\n",
    "arr1.shape\n",
    "\n",
    "print(arr1 + arr4)"
   ]
  }
 ],
 "metadata": {
  "kernelspec": {
   "display_name": "Python 3 (ipykernel)",
   "language": "python",
   "name": "python3"
  },
  "language_info": {
   "codemirror_mode": {
    "name": "ipython",
    "version": 3
   },
   "file_extension": ".py",
   "mimetype": "text/x-python",
   "name": "python",
   "nbconvert_exporter": "python",
   "pygments_lexer": "ipython3",
   "version": "3.9.13"
  }
 },
 "nbformat": 4,
 "nbformat_minor": 5
}
