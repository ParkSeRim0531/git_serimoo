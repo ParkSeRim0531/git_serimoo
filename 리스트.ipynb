{
 "cells": [
  {
   "cell_type": "code",
   "execution_count": 1,
   "id": "760d4524",
   "metadata": {},
   "outputs": [
    {
     "name": "stdout",
     "output_type": "stream",
     "text": [
      "red\n",
      "blue\n",
      "3\n"
     ]
    }
   ],
   "source": [
    "colors = ['red', 'black','blue']\n",
    "print(colors[0])\n",
    "print(colors[2])\n",
    "print(len(colors)) # list안에 잇는 값의 개수 꺼내옴 "
   ]
  },
  {
   "cell_type": "markdown",
   "id": "49be87ef",
   "metadata": {},
   "source": [
    "#### 슬라이싱 \n",
    "- 변수명.[시작인덱스 : 마지막 인덱스-1]\n",
    "- 변수명.[시작인덱스 : ]\n",
    "- 변수명.[:]\n",
    "- 변수명.[시작인덱스 : 마지막 인덱스-1:증가값]\n"
   ]
  },
  {
   "cell_type": "code",
   "execution_count": 9,
   "id": "325a9efc",
   "metadata": {},
   "outputs": [
    {
     "name": "stdout",
     "output_type": "stream",
     "text": [
      "['서울', '부산', '인천', '대구', '대전', '광주']\n",
      "['서울', '부산', '인천', '대구', '대전']\n",
      "['광주', '울산', '수원']\n",
      "['서울', '부산', '인천', '대구']\n",
      "[]\n"
     ]
    }
   ],
   "source": [
    "cities = ['서울','부산','인천','대구','대전','광주','울산','수원']\n",
    "\n",
    "print(cities[0:6])\n",
    "print(cities[0:5])\n",
    "print(cities[5:])\n",
    "print(cities[:4])\n",
    "print(cities[1:1])\n"
   ]
  },
  {
   "cell_type": "code",
   "execution_count": 10,
   "id": "60393520",
   "metadata": {},
   "outputs": [
    {
     "name": "stdout",
     "output_type": "stream",
     "text": [
      "['서울', '부산', '인천', '대구', '대전', '광주', '울산', '수원']\n",
      "['서울', '부산', '인천', '대구', '대전', '광주', '울산', '수원']\n",
      "['서울', '부산', '인천', '대구', '대전', '광주', '울산', '수원']\n"
     ]
    }
   ],
   "source": [
    "print(cities[-50:50]) #말도 안되는 범위 : 전부 다 꺼내옴.\n",
    "print(cities[:]) # 범위 지정 안되었을때도 전부 다 꺼내옴. \n",
    "print(cities[0:len(cities)]) #전체 다 꺼내옴"
   ]
  },
  {
   "cell_type": "code",
   "execution_count": 11,
   "id": "e38d5722",
   "metadata": {},
   "outputs": [
    {
     "name": "stdout",
     "output_type": "stream",
     "text": [
      "['서울', '부산', '인천', '대구', '대전', '광주', '울산', '수원']\n",
      "['서울', '부산', '인천']\n",
      "['수원']\n"
     ]
    }
   ],
   "source": [
    "#리버스 인덱스\n",
    "print(cities[-8:]) #인덱스번호를 맨앞에서부터 -8로 둠. 0이 없음.\n",
    "print(cities[-8:3]) #-8번부터 3개꺼내옴.\n",
    "print(cities[-1:])"
   ]
  },
  {
   "cell_type": "code",
   "execution_count": 13,
   "id": "b0f03d7e",
   "metadata": {},
   "outputs": [
    {
     "name": "stdout",
     "output_type": "stream",
     "text": [
      "['서울', '인천', '대전', '울산']\n",
      "['수원', '울산', '광주', '대전', '대구', '인천', '부산', '서울']\n",
      "['수원', '광주', '대구', '부산']\n"
     ]
    }
   ],
   "source": [
    "print(cities[::2]) # 2단위로 뽑아옴. 0.2.4.6\n",
    "print(cities[::-1]) # 거꾸로 해서 다 뽑아옴\n",
    "print(cities[::-2]) # 거꾸로부터 2단위로 뽑아옴. -8. -6. -4. -2 인덱스"
   ]
  },
  {
   "cell_type": "code",
   "execution_count": 16,
   "id": "18dc20f8",
   "metadata": {},
   "outputs": [
    {
     "name": "stdout",
     "output_type": "stream",
     "text": [
      "['red', 'green', 'blue', 'orange', 'black', 'white']\n"
     ]
    }
   ],
   "source": [
    "# 리스트랑 리스트 더하기 \n",
    "color1 = ['red','green','blue']\n",
    "color2 = ['orange','black','white']\n",
    "total = color1 + color2\n",
    "print(total)"
   ]
  },
  {
   "cell_type": "code",
   "execution_count": 17,
   "id": "1663d64a",
   "metadata": {},
   "outputs": [
    {
     "name": "stdout",
     "output_type": "stream",
     "text": [
      "['red', 'green', 'blue', 'red', 'green', 'blue']\n"
     ]
    }
   ],
   "source": [
    "# 리스트 곱하기 = 해당내용을 곱한 수 만큼 가지고 있는 리스트가 만들어짐 \n",
    "# 리스트 끼리는 곱할 수 없음. list * list X. \n",
    "color3 = color1 * 2\n",
    "print(color3)"
   ]
  },
  {
   "cell_type": "code",
   "execution_count": 18,
   "id": "77df7e48",
   "metadata": {},
   "outputs": [
    {
     "name": "stdout",
     "output_type": "stream",
     "text": [
      "False\n",
      "True\n"
     ]
    }
   ],
   "source": [
    "#in연산자 : 값의 유무 확인. \n",
    "print('blue' in color2)\n",
    "print('blue' in color1)"
   ]
  },
  {
   "cell_type": "code",
   "execution_count": 19,
   "id": "71f0b640",
   "metadata": {},
   "outputs": [
    {
     "name": "stdout",
     "output_type": "stream",
     "text": [
      "['red', 'black', 'blue', 'white']\n"
     ]
    }
   ],
   "source": [
    "# 기존 리스트에 새로운 값 추가 (마지막인덱스로 감)\n",
    "colors = ['red', 'black','blue']\n",
    "colors.append(\"white\")\n",
    "print(colors)"
   ]
  },
  {
   "cell_type": "code",
   "execution_count": 20,
   "id": "722e5490",
   "metadata": {},
   "outputs": [
    {
     "name": "stdout",
     "output_type": "stream",
     "text": [
      "['red', 'black', 'blue', 'white', 'green', 'white']\n"
     ]
    }
   ],
   "source": [
    "# 기존 리스트에 새로운 리스트 추가. \n",
    "colors.extend([\"green\",\"white\"])\n",
    "print(colors)"
   ]
  },
  {
   "cell_type": "code",
   "execution_count": 21,
   "id": "3739fbee",
   "metadata": {},
   "outputs": [
    {
     "name": "stdout",
     "output_type": "stream",
     "text": [
      "['orange', 'red', 'black', 'blue', 'white', 'green', 'white']\n"
     ]
    }
   ],
   "source": [
    "# 원하는 인덱스에 새로운 값 추가.\n",
    "colors.insert(0,'orange')\n",
    "print(colors)"
   ]
  },
  {
   "cell_type": "code",
   "execution_count": 22,
   "id": "1e9598b8",
   "metadata": {},
   "outputs": [
    {
     "name": "stdout",
     "output_type": "stream",
     "text": [
      "['orange', 'red', 'black', 'blue', 'green', 'white']\n"
     ]
    }
   ],
   "source": [
    "# 두개의 화이트 중 첫번째 화이트만 삭제하고 끝남.\n",
    "colors.remove(\"white\")\n",
    "print(colors)"
   ]
  },
  {
   "cell_type": "code",
   "execution_count": 23,
   "id": "6ea3b10f",
   "metadata": {},
   "outputs": [
    {
     "name": "stdout",
     "output_type": "stream",
     "text": [
      "['purple', 'red', 'black', 'blue', 'green', 'white']\n"
     ]
    }
   ],
   "source": [
    "# 인설트가 아닌 값 지정만 했을때 0번 인덱스의 값이 오렌지에서 퍼플로 바뀜. 변경\n",
    "colors[0] = 'purple'\n",
    "print(colors)"
   ]
  },
  {
   "cell_type": "code",
   "execution_count": 24,
   "id": "46e9c597",
   "metadata": {},
   "outputs": [
    {
     "name": "stdout",
     "output_type": "stream",
     "text": [
      "['purple', 'red', 'black', 'blue', 'green']\n"
     ]
    }
   ],
   "source": [
    "# 지정한 인덱스 번호의 값 삭제 \n",
    "del colors[5]\n",
    "print(colors)"
   ]
  },
  {
   "cell_type": "code",
   "execution_count": 25,
   "id": "7116a0ac",
   "metadata": {},
   "outputs": [
    {
     "name": "stdout",
     "output_type": "stream",
     "text": [
      "['purple', 'blue', 'green']\n"
     ]
    }
   ],
   "source": [
    "# 1번 인덱스부터 3번 앞 인덱스(2번)까지 \n",
    "del colors[1:3]\n",
    "print(colors)"
   ]
  },
  {
   "cell_type": "code",
   "execution_count": null,
   "id": "94574cc9",
   "metadata": {},
   "outputs": [],
   "source": []
  }
 ],
 "metadata": {
  "kernelspec": {
   "display_name": "Python 3 (ipykernel)",
   "language": "python",
   "name": "python3"
  },
  "language_info": {
   "codemirror_mode": {
    "name": "ipython",
    "version": 3
   },
   "file_extension": ".py",
   "mimetype": "text/x-python",
   "name": "python",
   "nbconvert_exporter": "python",
   "pygments_lexer": "ipython3",
   "version": "3.9.13"
  }
 },
 "nbformat": 4,
 "nbformat_minor": 5
}
