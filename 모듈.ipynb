{
 "cells": [
  {
   "cell_type": "markdown",
   "id": "f8ba6fbb",
   "metadata": {},
   "source": [
    "##### 모듈 import 하는 방법 \n",
    "1) import 모듈이름 (예) import os\n",
    "\n",
    "2) import 모듈이름 as 별칭 (예) import pandas as pd\n",
    "\n",
    "3) from 모듈이름 import 모듈함수 (예) from os import listdir … 모듈이름을 앞에 붙이지 않고도 사용\n",
    "- 사용시에 함수이름만 꺼내서 사용.\n",
    "\n",
    "4) from 모듈이름 import * (예) from mod1 import *"
   ]
  },
  {
   "cell_type": "code",
   "execution_count": 1,
   "id": "fc4ec293",
   "metadata": {},
   "outputs": [
    {
     "name": "stdout",
     "output_type": "stream",
     "text": [
      "Enter a celsius value:\n",
      "22\n",
      "That's 71.6 degrees Fahrenheit.\n"
     ]
    }
   ],
   "source": [
    "# 1번 \n",
    "import fah_converter #만들어진 모듈의 이름을 import해서 사용하면 끝. \n",
    "\n",
    "print (\"Enter a celsius value:\")\n",
    "celsius = float(input())\n",
    "fahrenheit = fah_converter.covert_c_to_f(celsius)\n",
    "print(\"That's\", fahrenheit, \"degrees Fahrenheit.\")"
   ]
  },
  {
   "cell_type": "code",
   "execution_count": 2,
   "id": "ffed4379",
   "metadata": {},
   "outputs": [
    {
     "name": "stdout",
     "output_type": "stream",
     "text": [
      "106.88000000000001\n"
     ]
    }
   ],
   "source": [
    "#2번 별칭 만들어 사용  \n",
    "import fah_converter as fah\n",
    "print(fah.covert_c_to_f(41.6))"
   ]
  },
  {
   "cell_type": "code",
   "execution_count": 3,
   "id": "9ae573cf",
   "metadata": {},
   "outputs": [
    {
     "name": "stdout",
     "output_type": "stream",
     "text": [
      "106.88000000000001\n"
     ]
    }
   ],
   "source": [
    "# 3번 함수 자체를 import해서 사용 \n",
    "\n",
    "from fah_converter import covert_c_to_f\n",
    "print(covert_c_to_f(41.6))"
   ]
  },
  {
   "cell_type": "code",
   "execution_count": 4,
   "id": "4416d82e",
   "metadata": {},
   "outputs": [
    {
     "name": "stdout",
     "output_type": "stream",
     "text": [
      "106.88000000000001\n"
     ]
    }
   ],
   "source": [
    "# 4번 모듈 안에 있는 모든 함수 import \n",
    "from fah_converter import * \n",
    "print(covert_c_to_f(41.6))"
   ]
  },
  {
   "cell_type": "code",
   "execution_count": 5,
   "id": "db6bc6b9",
   "metadata": {},
   "outputs": [
    {
     "name": "stdout",
     "output_type": "stream",
     "text": [
      "time.struct_time(tm_year=2022, tm_mon=11, tm_mday=1, tm_hour=11, tm_min=7, tm_sec=43, tm_wday=1, tm_yday=305, tm_isdst=0)\n"
     ]
    }
   ],
   "source": [
    "# time 모듈 \n",
    "import time\n",
    "\n",
    "print(time.localtime()) # 현재 시각 출력 "
   ]
  },
  {
   "cell_type": "code",
   "execution_count": null,
   "id": "b7c0053c",
   "metadata": {},
   "outputs": [],
   "source": []
  },
  {
   "cell_type": "code",
   "execution_count": null,
   "id": "945d22d9",
   "metadata": {},
   "outputs": [],
   "source": []
  },
  {
   "cell_type": "code",
   "execution_count": null,
   "id": "874854f7",
   "metadata": {},
   "outputs": [],
   "source": []
  },
  {
   "cell_type": "code",
   "execution_count": null,
   "id": "a07c38a8",
   "metadata": {},
   "outputs": [],
   "source": []
  },
  {
   "cell_type": "code",
   "execution_count": null,
   "id": "506143bb",
   "metadata": {},
   "outputs": [],
   "source": []
  }
 ],
 "metadata": {
  "kernelspec": {
   "display_name": "Python 3 (ipykernel)",
   "language": "python",
   "name": "python3"
  },
  "language_info": {
   "codemirror_mode": {
    "name": "ipython",
    "version": 3
   },
   "file_extension": ".py",
   "mimetype": "text/x-python",
   "name": "python",
   "nbconvert_exporter": "python",
   "pygments_lexer": "ipython3",
   "version": "3.9.13"
  }
 },
 "nbformat": 4,
 "nbformat_minor": 5
}
