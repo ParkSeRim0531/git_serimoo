{
 "cells": [
  {
   "cell_type": "code",
   "execution_count": 2,
   "id": "15f45335",
   "metadata": {},
   "outputs": [
    {
     "name": "stdout",
     "output_type": "stream",
     "text": [
      "50 51 52\n",
      "76 78 80\n"
     ]
    }
   ],
   "source": [
    "import sys\n",
    "\n",
    "print(sys.getsizeof('a'),sys.getsizeof('ab'),sys.getsizeof('cde'))\n",
    "print(sys.getsizeof('가'),sys.getsizeof('가나'),sys.getsizeof('가나다'))"
   ]
  },
  {
   "cell_type": "code",
   "execution_count": 3,
   "id": "d4e43ee6",
   "metadata": {},
   "outputs": [
    {
     "name": "stdout",
     "output_type": "stream",
     "text": [
      "abcabcabcabcabc\n"
     ]
    }
   ],
   "source": [
    "print(\"abc\" * 5)"
   ]
  },
  {
   "cell_type": "code",
   "execution_count": 4,
   "id": "5dc697ff",
   "metadata": {},
   "outputs": [
    {
     "name": "stdout",
     "output_type": "stream",
     "text": [
      "1\n"
     ]
    }
   ],
   "source": [
    "a = \"python\"\n",
    "res = a.count(\"p\")\n",
    "print(res)"
   ]
  },
  {
   "cell_type": "code",
   "execution_count": 5,
   "id": "bb1c3069",
   "metadata": {},
   "outputs": [
    {
     "name": "stdout",
     "output_type": "stream",
     "text": [
      "1\n",
      "1\n",
      "-1\n"
     ]
    }
   ],
   "source": [
    "res = a.find(\"y\")\n",
    "print(res)\n",
    "\n",
    "res = a.index('y')\n",
    "print(res)\n",
    "\n",
    "res = a.find('z')\n",
    "print(res)"
   ]
  },
  {
   "cell_type": "code",
   "execution_count": 7,
   "id": "d1eee7de",
   "metadata": {
    "scrolled": true
   },
   "outputs": [
    {
     "ename": "ValueError",
     "evalue": "substring not found",
     "output_type": "error",
     "traceback": [
      "\u001b[1;31m---------------------------------------------------------------------------\u001b[0m",
      "\u001b[1;31mValueError\u001b[0m                                Traceback (most recent call last)",
      "\u001b[1;32m~\\AppData\\Local\\Temp\\ipykernel_19168\\1133281809.py\u001b[0m in \u001b[0;36m<module>\u001b[1;34m\u001b[0m\n\u001b[1;32m----> 1\u001b[1;33m \u001b[0mres\u001b[0m \u001b[1;33m=\u001b[0m \u001b[0ma\u001b[0m\u001b[1;33m.\u001b[0m\u001b[0mindex\u001b[0m\u001b[1;33m(\u001b[0m\u001b[1;34m'z'\u001b[0m\u001b[1;33m)\u001b[0m \u001b[1;31m# 찾을 문자열이 없으면 오류 발생\u001b[0m\u001b[1;33m\u001b[0m\u001b[1;33m\u001b[0m\u001b[0m\n\u001b[0m\u001b[0;32m      2\u001b[0m \u001b[0mprint\u001b[0m\u001b[1;33m(\u001b[0m\u001b[0mres\u001b[0m\u001b[1;33m)\u001b[0m\u001b[1;33m\u001b[0m\u001b[1;33m\u001b[0m\u001b[0m\n",
      "\u001b[1;31mValueError\u001b[0m: substring not found"
     ]
    }
   ],
   "source": [
    "res = a.index('z') # 찾을 문자열이 없으면 오류 발생 \n",
    "print(res)"
   ]
  },
  {
   "cell_type": "code",
   "execution_count": 9,
   "id": "e131a1f5",
   "metadata": {},
   "outputs": [
    {
     "name": "stdout",
     "output_type": "stream",
     "text": [
      "1\n"
     ]
    }
   ],
   "source": [
    "b = 'abcabcabc'\n",
    "res = b.find('b')\n",
    "print(res)"
   ]
  },
  {
   "cell_type": "code",
   "execution_count": 10,
   "id": "ecd431d5",
   "metadata": {},
   "outputs": [
    {
     "name": "stdout",
     "output_type": "stream",
     "text": [
      "7\n"
     ]
    }
   ],
   "source": [
    "res = b.rfind('b')\n",
    "print(res)"
   ]
  },
  {
   "cell_type": "code",
   "execution_count": 11,
   "id": "0ed3f512",
   "metadata": {},
   "outputs": [
    {
     "name": "stdout",
     "output_type": "stream",
     "text": [
      "data1data2data3\n"
     ]
    }
   ],
   "source": [
    "# 공백제거 \n",
    "a = \"data 1 data2 data3\"\n",
    "res = a.replace(' ','')\n",
    "print(res)"
   ]
  },
  {
   "cell_type": "code",
   "execution_count": 13,
   "id": "45265d6c",
   "metadata": {},
   "outputs": [
    {
     "name": "stdout",
     "output_type": "stream",
     "text": [
      "['python', 'java', 'javascript']\n",
      "['python', 'java', 'javascript']\n",
      "['python', 'java', 'javascript']\n"
     ]
    }
   ],
   "source": [
    "# split : 문자열을 나눠서 리스트로 만들어줌. \n",
    "ss = \"python java javascript\"\n",
    "print(ss.split())\n",
    "ss = \"python:java:javascript\"\n",
    "print(ss.split(\":\"))\n",
    "ss = \"python\\njava\\njavascript\"\n",
    "print(ss.splitlines()) # 행 단위로 분리시켜 줌 "
   ]
  },
  {
   "cell_type": "code",
   "execution_count": 15,
   "id": "7b602981",
   "metadata": {},
   "outputs": [
    {
     "name": "stdout",
     "output_type": "stream",
     "text": [
      "날짜(연/월/일) 입력 ==> 2022/10/27\n",
      "10년 후  ==> 2032년10월27일"
     ]
    }
   ],
   "source": [
    "#연/ 월/ 일 형식으로 문자열을 입력 받아 10년 후 날짜를 출력하는 코드 \n",
    "\n",
    "ss = input(\"날짜(연/월/일) 입력 ==> \")\n",
    "ssList = ss.split(\"/\")\n",
    "print(\"10년 후  ==> \", end=\"\")\n",
    "print(int(ssList[0])+10, \"년\", sep=\"\", end=\"\")\n",
    "print(ssList[1],\"월\",sep=\"\", end=\"\")\n",
    "print(ssList[2],\"일\",sep=\"\", end=\"\")"
   ]
  },
  {
   "cell_type": "code",
   "execution_count": 19,
   "id": "1347323f",
   "metadata": {},
   "outputs": [
    {
     "name": "stdout",
     "output_type": "stream",
     "text": [
      "Number of a Word 'LOVE' 2 개\n"
     ]
    }
   ],
   "source": [
    "#단어 카운팅  / 데이터분석에서 많이 쓰는 형태. 외워두기. \n",
    "#Yesterday 노래에서 Yesterday 얼마나 나오는지 \n",
    "\n",
    "f = open(\"yesterday.txt\",\"r\")\n",
    "yesterday_lyric = f.readlines()\n",
    "f.close()\n",
    "\n",
    "contents = \"\"\n",
    "for line in yesterday_lyric:\n",
    "    contents = contents + line.strip()+\"\\n\"\n",
    "    \n",
    "n_of_yesterday = contents.upper().count(\"LOVE\")\n",
    "print(\"Number of a Word 'LOVE'\", n_of_yesterday, \"개\")\n"
   ]
  },
  {
   "cell_type": "code",
   "execution_count": 1,
   "id": "c811182d",
   "metadata": {},
   "outputs": [
    {
     "name": "stdout",
     "output_type": "stream",
     "text": [
      "** 로또 추첨을 시작합니다 **\n",
      "로또 번호 --> [17, 21, 24, 25, 27, 34]\n"
     ]
    }
   ],
   "source": [
    "import random\n",
    "\n",
    "def getNumber():\n",
    "    return random.randrange(1, 46)\n",
    "\n",
    "#선언된 함수를 이용해 로또 추첨기 만들기 \n",
    "#6개의 숫자는 중복X\n",
    "# 다 뽑으면 정렬해서 출력 \n",
    "\n",
    "lotto = []\n",
    "\n",
    "print(\"** 로또 추첨을 시작합니다 **\")\n",
    "\n",
    "while True:\n",
    "    num = getNumber()\n",
    "    \n",
    "    if lotto.count(num) == 0: #중복숫자 넣지 않기 위한 코드\n",
    "        lotto.append(num)\n",
    "    if len(lotto) >= 6:\n",
    "        break\n",
    "\n",
    "print(\"로또 번호 --> \", end = \"\")\n",
    "lotto.sort()\n",
    "print(lotto)\n"
   ]
  },
  {
   "cell_type": "code",
   "execution_count": null,
   "id": "252b869d",
   "metadata": {},
   "outputs": [],
   "source": []
  },
  {
   "cell_type": "code",
   "execution_count": null,
   "id": "4dc0ac1b",
   "metadata": {},
   "outputs": [],
   "source": []
  }
 ],
 "metadata": {
  "kernelspec": {
   "display_name": "Python 3 (ipykernel)",
   "language": "python",
   "name": "python3"
  },
  "language_info": {
   "codemirror_mode": {
    "name": "ipython",
    "version": 3
   },
   "file_extension": ".py",
   "mimetype": "text/x-python",
   "name": "python",
   "nbconvert_exporter": "python",
   "pygments_lexer": "ipython3",
   "version": "3.9.13"
  }
 },
 "nbformat": 4,
 "nbformat_minor": 5
}
