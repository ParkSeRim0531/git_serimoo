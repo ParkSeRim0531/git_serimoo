{
 "cells": [
  {
   "cell_type": "code",
   "execution_count": 2,
   "id": "fcad9713",
   "metadata": {},
   "outputs": [
    {
     "name": "stdout",
     "output_type": "stream",
     "text": [
      "1\n",
      "2\n",
      "3\n",
      "4\n",
      "5\n",
      "6\n",
      "7\n",
      "8\n",
      "9\n"
     ]
    }
   ],
   "source": [
    "#while\n",
    "\n",
    "i = 1\n",
    "while i < 10:\n",
    "    print(i)\n",
    "    i += 1"
   ]
  },
  {
   "cell_type": "code",
   "execution_count": 3,
   "id": "b1c97b31",
   "metadata": {},
   "outputs": [
    {
     "name": "stdout",
     "output_type": "stream",
     "text": [
      "for문 0번 실행\n"
     ]
    }
   ],
   "source": [
    "#break문 \n",
    "for i in range(100):\n",
    "    print(\"for문 %d번 실행\" %i)\n",
    "    break"
   ]
  },
  {
   "cell_type": "code",
   "execution_count": 5,
   "id": "d714ab3e",
   "metadata": {},
   "outputs": [
    {
     "name": "stdout",
     "output_type": "stream",
     "text": [
      "1 ~ 100까지 합계(3의배수 제외) : 3367\n"
     ]
    }
   ],
   "source": [
    "#continue문\n",
    "#1~100의 합계를 구하되, 3의 배수를 제외하고 더하기\n",
    "sum = 0\n",
    "\n",
    "for i in range(1,101):\n",
    "    if i % 3 == 0:\n",
    "        continue\n",
    "    sum += i\n",
    "print(\"1 ~ 100까지 합계(3의배수 제외) : %d\" % sum)\n",
    "    "
   ]
  },
  {
   "cell_type": "code",
   "execution_count": 6,
   "id": "ee327b8e",
   "metadata": {},
   "outputs": [
    {
     "name": "stdout",
     "output_type": "stream",
     "text": [
      "1\n",
      "2\n",
      "3\n",
      "end of loop\n"
     ]
    }
   ],
   "source": [
    "#else문\n",
    "\n",
    "for i in [1,2,3]:\n",
    "    print(i)\n",
    "else:\n",
    "    print(\"end of loop\")"
   ]
  },
  {
   "cell_type": "code",
   "execution_count": 7,
   "id": "83af4b20",
   "metadata": {},
   "outputs": [
    {
     "name": "stdout",
     "output_type": "stream",
     "text": [
      "uoY evol I\n"
     ]
    }
   ],
   "source": [
    "#reverse_sentence 기존 문자열의 역순으로 값 가져옴 \n",
    "\n",
    "sentence = \"I love You\"\n",
    "\n",
    "reverse_sentence = ''\n",
    "for char in sentence:\n",
    "    reverse_sentence = char + reverse_sentence\n",
    "print(reverse_sentence)\n",
    "\n"
   ]
  },
  {
   "cell_type": "code",
   "execution_count": 8,
   "id": "1b8b12bd",
   "metadata": {},
   "outputs": [
    {
     "name": "stdout",
     "output_type": "stream",
     "text": [
      "dlrow olleh\n"
     ]
    }
   ],
   "source": [
    "#기존 배웠던것 중 활용해서 역순으로 가져오기 \n",
    "string = 'hello world'\n",
    "reverse_str = string[::-1]\n",
    "print(reverse_str)"
   ]
  },
  {
   "cell_type": "code",
   "execution_count": 10,
   "id": "d560ac56",
   "metadata": {},
   "outputs": [
    {
     "name": "stdout",
     "output_type": "stream",
     "text": [
      "1100\n"
     ]
    }
   ],
   "source": [
    "#이진수 구하기\n",
    "decimal = 12\n",
    "result = ''\n",
    "while (decimal > 0):\n",
    "    remainder = decimal % 2\n",
    "    decimal = decimal // 2\n",
    "    result = str(remainder) + result\n",
    "print(result)"
   ]
  },
  {
   "cell_type": "code",
   "execution_count": 2,
   "id": "d4b9052c",
   "metadata": {},
   "outputs": [
    {
     "name": "stdout",
     "output_type": "stream",
     "text": [
      "숫자를 맞혀 보세요. (1~100)\n",
      "49\n",
      "숫자가 너무 작습니다.\n",
      "60\n",
      "숫자가 너무 큽니다.\n",
      "55\n",
      "숫자가 너무 큽니다.\n",
      "53\n",
      "숫자가 너무 작습니다.\n",
      "54\n",
      "정답입니다. 입력한 숫자는 54 입니다\n"
     ]
    }
   ],
   "source": [
    "#실습 예제 4-19 숫자 찾기 게임\n",
    "\n",
    "import random\n",
    "\n",
    "guess_number = random.randint(1,100)\n",
    "print(\"숫자를 맞혀 보세요. (1~100)\")\n",
    "users_input = int(input())\n",
    "while(users_input is not guess_number):\n",
    "    if users_input > guess_number:\n",
    "        print(\"숫자가 너무 큽니다.\")\n",
    "    else:\n",
    "        print(\"숫자가 너무 작습니다.\")\n",
    "    users_input=int(input())\n",
    "else:\n",
    "    print(\"정답입니다.\", \"입력한 숫자는\", users_input,\"입니다\")"
   ]
  },
  {
   "cell_type": "code",
   "execution_count": 1,
   "id": "30e53d2f",
   "metadata": {},
   "outputs": [
    {
     "name": "stdout",
     "output_type": "stream",
     "text": [
      "[47.0, 74.0, 51.0, 60.0, 90.0]\n"
     ]
    }
   ],
   "source": [
    "#평균 구하기 실습예제 \n",
    "\n",
    "kor_score = [49, 80, 20, 100, 80]\n",
    "math_score = [43, 60, 85, 30, 90]\n",
    "eng_score = [49, 82, 48, 50, 100]\n",
    "midterm_score = [kor_score, math_score, eng_score]\n",
    "\n",
    "student_score=[0,0,0,0,0]\n",
    "i = 0\n",
    "for subject in midterm_score:\n",
    "    for score in subject:\n",
    "        student_score[i] += score\n",
    "        i += 1\n",
    "    i = 0\n",
    "else:\n",
    "    a,b,c,d,e = student_score\n",
    "    student_average = [a/3, b/3, c/3, d/3, e/3]\n",
    "    print(student_average)"
   ]
  },
  {
   "cell_type": "code",
   "execution_count": null,
   "id": "1d0cf2e2",
   "metadata": {},
   "outputs": [],
   "source": []
  },
  {
   "cell_type": "code",
   "execution_count": null,
   "id": "ee4003a0",
   "metadata": {},
   "outputs": [],
   "source": []
  }
 ],
 "metadata": {
  "kernelspec": {
   "display_name": "Python 3 (ipykernel)",
   "language": "python",
   "name": "python3"
  },
  "language_info": {
   "codemirror_mode": {
    "name": "ipython",
    "version": 3
   },
   "file_extension": ".py",
   "mimetype": "text/x-python",
   "name": "python",
   "nbconvert_exporter": "python",
   "pygments_lexer": "ipython3",
   "version": "3.9.13"
  }
 },
 "nbformat": 4,
 "nbformat_minor": 5
}
