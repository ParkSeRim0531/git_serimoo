{
 "cells": [
  {
   "cell_type": "markdown",
   "id": "edeef721",
   "metadata": {},
   "source": [
    "#### 사업성 분석이란\n",
    "\n",
    ": 사업을 했을때 이익과 손해가 어느 정도 나올지 예측하는 것 \n",
    "\n",
    "- 경제적 타당성의 개념\n",
    "\n",
    "> 순현재가치 : 할인된 현금 흐름의 값을 모두 더한 값 (NPV)\n",
    "\n",
    "> 내부수익률 - 순현재가치를 0으로 만드는 할인율 (IRR)"
   ]
  },
  {
   "cell_type": "code",
   "execution_count": 1,
   "id": "70ebdbf8",
   "metadata": {},
   "outputs": [
    {
     "name": "stdout",
     "output_type": "stream",
     "text": [
      "95.23809523809524\n",
      "90.70294784580499\n"
     ]
    }
   ],
   "source": [
    "discount = .05\n",
    "cashflow = 100\n",
    "\n",
    "# 현재 가치 구하기 공식 - 함수로 구현하기 \n",
    "\n",
    "def presentvalue(n):\n",
    "    return (cashflow / ((1+discount) ** n))\n",
    "\n",
    "print(presentvalue(1))\n",
    "print(presentvalue(2))"
   ]
  },
  {
   "cell_type": "code",
   "execution_count": 2,
   "id": "fb175f4c",
   "metadata": {},
   "outputs": [
    {
     "name": "stdout",
     "output_type": "stream",
     "text": [
      "100.0\n",
      "95.23809523809524\n",
      "90.70294784580499\n",
      "86.3837598531476\n",
      "82.27024747918819\n",
      "78.35261664684589\n",
      "74.62153966366274\n",
      "71.06813301301213\n",
      "67.6839362028687\n",
      "64.46089162177971\n",
      "61.39132535407592\n",
      "58.46792890864373\n",
      "55.68374181775592\n",
      "53.03213506452945\n",
      "50.506795299551854\n",
      "48.101709809096995\n",
      "45.811152199140004\n",
      "43.62966876108571\n",
      "41.5520654867483\n",
      "39.57339570166504\n",
      "37.68894828730004\n"
     ]
    }
   ],
   "source": [
    "for i in range(21):\n",
    "    print(presentvalue(i))\n",
    "\n",
    "# 연도별 할인율 "
   ]
  },
  {
   "cell_type": "markdown",
   "id": "fa823e6a",
   "metadata": {},
   "source": [
    "#### 세부지표 값 구하기"
   ]
  },
  {
   "cell_type": "code",
   "execution_count": 3,
   "id": "6ef00120",
   "metadata": {},
   "outputs": [
    {
     "name": "stdout",
     "output_type": "stream",
     "text": [
      "0.06434936937255564\n",
      "174.4011295118405\n"
     ]
    }
   ],
   "source": [
    "import numpy_financial as npf\n",
    "import numpy as np \n",
    "\n",
    "cf = [-750, -250, 100, 100, 100, 100, 100, 100, 100, 100, 100, 100, 100, 100, 100, 100, 100, 100, 100, 100]\n",
    "\n",
    "cashflow = np.array(cf)\n",
    "\n",
    "#사업 수익률 구하기 : 6.4%\n",
    "print(npf.irr(cashflow))\n",
    "\n",
    "#순현재가치 구하기 :174억 \n",
    "print(npf.npv(0.045, cashflow))"
   ]
  },
  {
   "cell_type": "code",
   "execution_count": null,
   "id": "f7b76e17",
   "metadata": {},
   "outputs": [],
   "source": []
  }
 ],
 "metadata": {
  "kernelspec": {
   "display_name": "Python 3 (ipykernel)",
   "language": "python",
   "name": "python3"
  },
  "language_info": {
   "codemirror_mode": {
    "name": "ipython",
    "version": 3
   },
   "file_extension": ".py",
   "mimetype": "text/x-python",
   "name": "python",
   "nbconvert_exporter": "python",
   "pygments_lexer": "ipython3",
   "version": "3.9.13"
  }
 },
 "nbformat": 4,
 "nbformat_minor": 5
}
