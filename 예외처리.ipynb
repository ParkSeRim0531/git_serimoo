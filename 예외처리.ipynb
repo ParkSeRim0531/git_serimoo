{
 "cells": [
  {
   "cell_type": "code",
   "execution_count": 2,
   "id": "87e999da",
   "metadata": {},
   "outputs": [
    {
     "name": "stdout",
     "output_type": "stream",
     "text": [
      "division by zero\n",
      "not divied by 0\n",
      "10.0\n",
      "5.0\n",
      "3.3333333333333335\n",
      "2.5\n",
      "2.0\n",
      "1.6666666666666667\n",
      "1.4285714285714286\n",
      "1.25\n",
      "1.1111111111111112\n"
     ]
    }
   ],
   "source": [
    "for i in range(10):\n",
    "    try:\n",
    "        print(10/i)\n",
    "    except ZeroDivisionError as e :\n",
    "        print(e)\n",
    "        print(\"not divied by 0\")"
   ]
  },
  {
   "cell_type": "code",
   "execution_count": 7,
   "id": "ad040f0b",
   "metadata": {},
   "outputs": [
    {
     "name": "stdout",
     "output_type": "stream",
     "text": [
      "숫자1 입력10\n",
      "숫자2 입력0\n",
      "division by zero : 0으로 나눌 수 없습니다.\n"
     ]
    }
   ],
   "source": [
    "#예외 발생 문장 보여주기 \n",
    "\n",
    "num1 = input('숫자1 입력')\n",
    "num2 = input('숫자2 입력')\n",
    "\n",
    "try:\n",
    "    num1 = int(num1)\n",
    "    num2 = int(num2)\n",
    "\n",
    "    res = num1/num2\n",
    "    print(res)\n",
    "except ValueError as e1:\n",
    "    print(e1, \" : 문자는 숫자로 변환할 수 없습니다.\")\n",
    "except ZeroDivisionError as e2:\n",
    "    print(e2, \": 0으로 나눌 수 없습니다.\")"
   ]
  },
  {
   "cell_type": "code",
   "execution_count": 8,
   "id": "4e1fdda3",
   "metadata": {},
   "outputs": [
    {
     "name": "stdout",
     "output_type": "stream",
     "text": [
      "division by zero\n",
      "not divied by 0\n",
      "10.0\n",
      "10.0\n",
      "5.0\n",
      "5.0\n",
      "3.3333333333333335\n",
      "3.3333333333333335\n",
      "2.5\n",
      "2.5\n",
      "2.0\n",
      "2.0\n",
      "1.6666666666666667\n",
      "1.6666666666666667\n",
      "1.4285714285714286\n",
      "1.4285714285714286\n",
      "1.25\n",
      "1.25\n",
      "1.1111111111111112\n",
      "1.1111111111111112\n"
     ]
    }
   ],
   "source": [
    "# try - except - else 문 \n",
    "\n",
    "for i in range(10):\n",
    "    try:\n",
    "        print(10/i)\n",
    "    except ZeroDivisionError as e :\n",
    "        print(e)\n",
    "        print(\"not divied by 0\")\n",
    "    else:\n",
    "        print(10/i)"
   ]
  },
  {
   "cell_type": "code",
   "execution_count": 11,
   "id": "65ea212d",
   "metadata": {},
   "outputs": [
    {
     "name": "stdout",
     "output_type": "stream",
     "text": [
      "숫자1 입력 : 40\n",
      "숫자2 입력 : 5\n",
      "40 / 5 = 8\n",
      "프로그램 종료\n"
     ]
    }
   ],
   "source": [
    "num1 = input('숫자1 입력 : ')\n",
    "num2 = input('숫자2 입력 : ')\n",
    "\n",
    "try:\n",
    "    num1 = int(num1)\n",
    "    num2 = int(num2)\n",
    "except: #예외 타입 지정 안하고 그냥 적으면 모든 오류 처리해줌.\n",
    "    print('오류가 발생했습니다.')\n",
    "else:\n",
    "    print('%d / %d = %d' %(num1,num2,num1/num2))\n",
    "finally: #예외 발생하든 말든 무조건 실행할 코드\n",
    "    print(\"프로그램 종료\")"
   ]
  },
  {
   "cell_type": "code",
   "execution_count": null,
   "id": "f516ff5c",
   "metadata": {},
   "outputs": [
    {
     "name": "stdout",
     "output_type": "stream",
     "text": [
      "변활한 정수값을 입력해주세요 : 30\n",
      "정수값으로 변환된 숫자 -  30\n"
     ]
    }
   ],
   "source": [
    "#raise문 \n",
    "\n",
    "while True: \n",
    "    value = input(\"변활한 정수값을 입력해주세요 : \")\n",
    "    for digit in value:\n",
    "        if digit not in \"0123456789\":\n",
    "            raise ValueError(\"숫자값을 입력하지 않았습니다.\")\n",
    "    print(\"정수값으로 변환된 숫자 - \", int(value))"
   ]
  },
  {
   "cell_type": "code",
   "execution_count": null,
   "id": "dae3e2b8",
   "metadata": {},
   "outputs": [],
   "source": []
  },
  {
   "cell_type": "code",
   "execution_count": null,
   "id": "6b5da0b1",
   "metadata": {},
   "outputs": [],
   "source": []
  },
  {
   "cell_type": "code",
   "execution_count": null,
   "id": "208770df",
   "metadata": {},
   "outputs": [],
   "source": []
  },
  {
   "cell_type": "code",
   "execution_count": null,
   "id": "1b064ccc",
   "metadata": {},
   "outputs": [],
   "source": []
  }
 ],
 "metadata": {
  "kernelspec": {
   "display_name": "Python 3 (ipykernel)",
   "language": "python",
   "name": "python3"
  },
  "language_info": {
   "codemirror_mode": {
    "name": "ipython",
    "version": 3
   },
   "file_extension": ".py",
   "mimetype": "text/x-python",
   "name": "python",
   "nbconvert_exporter": "python",
   "pygments_lexer": "ipython3",
   "version": "3.9.13"
  }
 },
 "nbformat": 4,
 "nbformat_minor": 5
}
