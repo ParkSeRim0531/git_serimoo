{
 "cells": [
  {
   "cell_type": "markdown",
   "id": "34b72c7a",
   "metadata": {},
   "source": [
    "#### 입력 input()\n",
    "    input()\n",
    "    input(\"메세지\")\n"
   ]
  },
  {
   "cell_type": "code",
   "execution_count": 1,
   "id": "658dafcd",
   "metadata": {},
   "outputs": [
    {
     "name": "stdout",
     "output_type": "stream",
     "text": [
      "5\n",
      "\n"
     ]
    }
   ],
   "source": [
    "a = input()\n",
    "print()"
   ]
  },
  {
   "cell_type": "code",
   "execution_count": 2,
   "id": "fd31a2f1",
   "metadata": {},
   "outputs": [
    {
     "name": "stdout",
     "output_type": "stream",
     "text": [
      "문자열을 입력하세요 : 5\n",
      "5\n"
     ]
    }
   ],
   "source": [
    "a = input(\"문자열을 입력하세요 : \")\n",
    "print(a)"
   ]
  },
  {
   "cell_type": "code",
   "execution_count": 3,
   "id": "ab149393",
   "metadata": {},
   "outputs": [
    {
     "name": "stdout",
     "output_type": "stream",
     "text": [
      "숫자를 입력하세요 : 5\n",
      "5 <class 'str'>\n"
     ]
    }
   ],
   "source": [
    "b = input(\"숫자를 입력하세요 : \")\n",
    "print(b, type(b))"
   ]
  },
  {
   "cell_type": "code",
   "execution_count": 5,
   "id": "6024e68a",
   "metadata": {},
   "outputs": [
    {
     "name": "stdout",
     "output_type": "stream",
     "text": [
      "숫자를 입력하세요 : 4\n",
      "444\n"
     ]
    }
   ],
   "source": [
    "b = input(\"숫자를 입력하세요 : \")\n",
    "print(b * 3)  # str * int =>문자열 반복"
   ]
  },
  {
   "cell_type": "code",
   "execution_count": 6,
   "id": "d7606d1c",
   "metadata": {},
   "outputs": [
    {
     "name": "stdout",
     "output_type": "stream",
     "text": [
      "숫자 두개 입력하세요 : 12 36\n",
      "48\n"
     ]
    }
   ],
   "source": [
    "# 한번에 2개의 값을 입력받기\n",
    "a, b = input(\"숫자 두개 입력하세요 : \").split() #공백 기준으로 나누는 함수\n",
    "c = int(a) + int(b)\n",
    "print(c)"
   ]
  },
  {
   "cell_type": "markdown",
   "id": "9766df7a",
   "metadata": {},
   "source": [
    "#### 출력 print()\n",
    "  -  print(1,2,3) \n",
    "  - print(1,2,3, sep=\",\") : sep으로 지정한 글자가 구분자로 들어감(기본값 : 공백)\n",
    "  - print(1,2,3, end=\" \") : 출력 후 나올 문자열 지정(기본값 : 줄바꿈) \n",
    "  - print(\"%d + %d = %d\" %(1,2,3))\n",
    "  - print(\"{} + {} = {}\".format(1,2,3))"
   ]
  },
  {
   "cell_type": "code",
   "execution_count": 13,
   "id": "6959b22f",
   "metadata": {},
   "outputs": [
    {
     "name": "stdout",
     "output_type": "stream",
     "text": [
      "1 2 3\n",
      "1*2*3\n"
     ]
    }
   ],
   "source": [
    "print(1,2,3)\n",
    "print(1,2,3, sep=\"*\") # 구분자 지정\n"
   ]
  },
  {
   "cell_type": "code",
   "execution_count": 12,
   "id": "d1134be6",
   "metadata": {},
   "outputs": [
    {
     "name": "stdout",
     "output_type": "stream",
     "text": [
      "1 2 3 4 5 6 "
     ]
    }
   ],
   "source": [
    "# 한 줄로 출력 (병렬출력)\n",
    "print(1,2, end=\" \")\n",
    "print(3,4, end=\" \")\n",
    "print(5,6, end=\" \")"
   ]
  },
  {
   "cell_type": "code",
   "execution_count": 15,
   "id": "ca4a1123",
   "metadata": {},
   "outputs": [
    {
     "name": "stdout",
     "output_type": "stream",
     "text": [
      "7 / 2 = 3.50\n"
     ]
    }
   ],
   "source": [
    "print(\"%d / %d = %.2f\" %(7, 2, 7/2))"
   ]
  },
  {
   "cell_type": "code",
   "execution_count": 16,
   "id": "139d3be5",
   "metadata": {},
   "outputs": [
    {
     "name": "stdout",
     "output_type": "stream",
     "text": [
      "123\n",
      "  123\n",
      "00123\n"
     ]
    }
   ],
   "source": [
    "print(\"%d\" %123)\n",
    "print(\"%5d\" %123)\n",
    "print(\"%05d\" %123)"
   ]
  },
  {
   "cell_type": "code",
   "execution_count": 18,
   "id": "3a5cf2d2",
   "metadata": {},
   "outputs": [
    {
     "name": "stdout",
     "output_type": "stream",
     "text": [
      "python\n",
      "    python\n"
     ]
    }
   ],
   "source": [
    "# 문자열도 원하는 자릿수에 맞춰서 출력할 수 있도록 제공. \n",
    "print(\"%s\" % \"python\")\n",
    "print(\"%10s\" % \"python\")"
   ]
  },
  {
   "cell_type": "code",
   "execution_count": 19,
   "id": "238255ba",
   "metadata": {},
   "outputs": [
    {
     "name": "stdout",
     "output_type": "stream",
     "text": [
      "7 / 2 = 3\n"
     ]
    }
   ],
   "source": [
    "print(\"%d / %d = %d\" %(7, 2, 7/2)) \n",
    "#float랑 int 간에는 변환 가능. 데이터 손실은 있을 수 있음. 문자열은 안됨. "
   ]
  },
  {
   "cell_type": "code",
   "execution_count": 20,
   "id": "24569acf",
   "metadata": {},
   "outputs": [
    {
     "name": "stdout",
     "output_type": "stream",
     "text": [
      "1 + 2 = 3\n"
     ]
    }
   ],
   "source": [
    "print(\"{} + {} = {}\".format(1,2,3))"
   ]
  },
  {
   "cell_type": "code",
   "execution_count": 22,
   "id": "9700458f",
   "metadata": {},
   "outputs": [
    {
     "name": "stdout",
     "output_type": "stream",
     "text": [
      "200 + 100 = 300\n"
     ]
    }
   ],
   "source": [
    "print(\"{1:} + {0:} = {2:,}\".format(100,200,300)) \n",
    "#인덱스 순서 지정해서 꺼내올 수 있음."
   ]
  },
  {
   "cell_type": "code",
   "execution_count": 23,
   "id": "d611da64",
   "metadata": {},
   "outputs": [
    {
     "name": "stdout",
     "output_type": "stream",
     "text": [
      "200 +   100 = 300,000,000\n"
     ]
    }
   ],
   "source": [
    "print(\"{1:d} + {0:5d} = {2:05,d}\".format(100,200,300000000)) "
   ]
  },
  {
   "cell_type": "code",
   "execution_count": 25,
   "id": "fb1cbc86",
   "metadata": {},
   "outputs": [
    {
     "name": "stdout",
     "output_type": "stream",
     "text": [
      "\n",
      "줄 바꿈\n",
      "연습 \n",
      "\t탭 키\t연습\n",
      "글자가 \"강조\"되는 효과1\n"
     ]
    }
   ],
   "source": [
    "print(\"\\n줄 바꿈\\n연습 \")\n",
    "print(\"\\t탭 키\\t연습\")\n",
    "print(\"글자가 \\\"강조\\\"되는 효과1\") # 따옴표를 특수기호가 아닌 그냥 문자열로 출력"
   ]
  },
  {
   "cell_type": "code",
   "execution_count": 34,
   "id": "91c18ed7",
   "metadata": {},
   "outputs": [
    {
     "name": "stdout",
     "output_type": "stream",
     "text": [
      "본 프로그램은 섭씨온도를 화씨온도로 변환하는 프로그램입니다.\n",
      "변환하고 십은 섭씨 온도를 입력하세요 : 32.2\n",
      "섭씨온도 : 32.2, \n",
      "화씨온도 : 89.96\n"
     ]
    }
   ],
   "source": [
    "#실습 예제 (섭씨를 화씨로 바꾸기)\n",
    "\n",
    "print(\"본 프로그램은 섭씨온도를 화씨온도로 변환하는 프로그램입니다.\")\n",
    "celsius = input(\"변환하고 십은 섭씨 온도를 입력하세요 : \")\n",
    "\n",
    "fahrenheit = (float(celsius)*1.8) + 32\n",
    "\n",
    "print(\"섭씨온도 : {0:}, \\n화씨온도 : {1:.2f}\".format( celsius, fahrenheit))"
   ]
  },
  {
   "cell_type": "code",
   "execution_count": null,
   "id": "3fc3d9f0",
   "metadata": {},
   "outputs": [],
   "source": []
  }
 ],
 "metadata": {
  "kernelspec": {
   "display_name": "Python 3 (ipykernel)",
   "language": "python",
   "name": "python3"
  },
  "language_info": {
   "codemirror_mode": {
    "name": "ipython",
    "version": 3
   },
   "file_extension": ".py",
   "mimetype": "text/x-python",
   "name": "python",
   "nbconvert_exporter": "python",
   "pygments_lexer": "ipython3",
   "version": "3.9.13"
  }
 },
 "nbformat": 4,
 "nbformat_minor": 5
}
