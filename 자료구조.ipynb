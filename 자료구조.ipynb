{
 "cells": [
  {
   "cell_type": "markdown",
   "id": "61a1957f",
   "metadata": {},
   "source": [
    "## 스택"
   ]
  },
  {
   "cell_type": "code",
   "execution_count": 2,
   "id": "af27960f",
   "metadata": {},
   "outputs": [
    {
     "name": "stdout",
     "output_type": "stream",
     "text": [
      "[1, 2, 3, 4, 5, 10]\n",
      "[1, 2, 3, 4, 5, 10, 20]\n",
      "20\n",
      "[1, 2, 3, 4, 5, 10]\n",
      "10\n",
      "[1, 2, 3, 4, 5]\n"
     ]
    }
   ],
   "source": [
    "#스택 \n",
    "\n",
    "a = [1,2,3,4,5]\n",
    "a.append(10)\n",
    "print(a)\n",
    "\n",
    "a.append(20)\n",
    "print(a)\n",
    "\n",
    "print(a.pop())\n",
    "print(a)\n",
    "\n",
    "print(a.pop())\n",
    "print(a)"
   ]
  },
  {
   "cell_type": "code",
   "execution_count": 3,
   "id": "583e2393",
   "metadata": {},
   "outputs": [
    {
     "name": "stdout",
     "output_type": "stream",
     "text": [
      "Input a word: i love you\n",
      "['i', ' ', 'l', 'o', 'v', 'e', ' ', 'y', 'o', 'u']\n",
      "['u', 'o', 'y', ' ', 'e', 'v', 'o', 'l', ' ', 'i']\n",
      "uoy evol i\n"
     ]
    }
   ],
   "source": [
    "#텍스트의 역순 추출 \n",
    "\n",
    "word = input(\"Input a word: \")\n",
    "world_list=list(word) #문자열을 list로 만들어줌 (많이 사용함.)\n",
    "print(world_list)\n",
    "\n",
    "result = [] #역순으로 꺼내올 값을 저장할 공간 만들어줌. 스택통해 역순으로 꺼냄\n",
    "for _ in range(len(world_list)): \n",
    "    result.append(world_list.pop())\n",
    "    \n",
    "print(result)\n",
    "print(word[::-1]) #슬라이싱 사용해서 역순으로 꺼냄. "
   ]
  },
  {
   "cell_type": "markdown",
   "id": "e9835302",
   "metadata": {},
   "source": [
    "## 큐 "
   ]
  },
  {
   "cell_type": "code",
   "execution_count": 4,
   "id": "d0f34e8f",
   "metadata": {},
   "outputs": [
    {
     "name": "stdout",
     "output_type": "stream",
     "text": [
      "[1, 2, 3, 4, 5, 10]\n",
      "[1, 2, 3, 4, 5, 10, 20]\n",
      "1\n",
      "[2, 3, 4, 5, 10, 20]\n",
      "2\n",
      "[3, 4, 5, 10, 20]\n"
     ]
    }
   ],
   "source": [
    "#큐 \n",
    "\n",
    "q = [1,2,3,4,5]\n",
    "q.append(10)\n",
    "print(q)\n",
    "\n",
    "q.append(20)\n",
    "print(q)\n",
    "\n",
    "print(q.pop(0)) #스택과의 차이점 : pop() 사용시 0번 인덱스 지정 사용. \n",
    "print(q)\n",
    "\n",
    "print(q.pop(0))\n",
    "print(q)"
   ]
  },
  {
   "cell_type": "code",
   "execution_count": 7,
   "id": "8d8d08e2",
   "metadata": {},
   "outputs": [
    {
     "name": "stdout",
     "output_type": "stream",
     "text": [
      "[0, 1, 2, 3, 4, 5, 6, 7, 8, 9]\n",
      "[10, 9, 8, 7, 6, 5, 4, 3, 2, 1]\n",
      "[5, 6, 7, 8, 9, 10, 11]\n",
      "[9, 8, 7, 6, 5, 4, 3, 2, 1, 0]\n"
     ]
    }
   ],
   "source": [
    "#빈 리스트 생성 (리스트 만드는 두가지 형태 )\n",
    "\n",
    "aa = [] # 지정할 값을 직접 지정 \n",
    "bb = list() # 문자열을 받아와서 한글자씩 잘라서 저장해줌. \n",
    "\n",
    "#range \n",
    "a1 = list(range(10)) #0~9 \n",
    "a2 = list(range(10, 0, -1)) # 10부터 0 앞까지 역순으로 \n",
    "a3 = list(range(5, 12)) # 5~11 \n",
    "a4 = list(reversed(range(10))) #역순으로 뽑는거 바로 적용시키는 함수. \n",
    "print(a1, a2, a3,a4, sep=\"\\n\") # \\n 걸어서 한줄씩 뽑겠다. \n",
    "\n",
    "#str \n",
    "s1 = list(\"hello\")\n"
   ]
  },
  {
   "cell_type": "code",
   "execution_count": 8,
   "id": "06a3f984",
   "metadata": {},
   "outputs": [
    {
     "name": "stdout",
     "output_type": "stream",
     "text": [
      "True\n",
      "[0, 0, 99, 0, 0] [0, 0, 99, 0, 0]\n"
     ]
    }
   ],
   "source": [
    "a = [0,0,0,0,0]\n",
    "b = a\n",
    "\n",
    "print(a is b)\n",
    "b[2] = 99\n",
    "print(a,b)"
   ]
  },
  {
   "cell_type": "code",
   "execution_count": 9,
   "id": "3e8a7c16",
   "metadata": {},
   "outputs": [
    {
     "name": "stdout",
     "output_type": "stream",
     "text": [
      "True\n",
      "False\n",
      "[0, 0, 0, 0, 0] [0, 0, 99, 0, 0]\n"
     ]
    }
   ],
   "source": [
    "a = [0,0,0,0,0]\n",
    "b = a.copy() # 똑같은 데이터를 저장하고 있는 새로운 list 객체 생성됨.\n",
    "\n",
    "print(a == b)\n",
    "print(a is b)\n",
    "b[2] = 99\n",
    "print(a,b)"
   ]
  },
  {
   "cell_type": "code",
   "execution_count": 10,
   "id": "920b84a5",
   "metadata": {},
   "outputs": [
    {
     "name": "stdout",
     "output_type": "stream",
     "text": [
      "None\n"
     ]
    }
   ],
   "source": [
    "a = [1,5,6,3,7,2]\n",
    "b = a.sort()\n",
    "print(b)"
   ]
  },
  {
   "cell_type": "code",
   "execution_count": 11,
   "id": "52140289",
   "metadata": {},
   "outputs": [
    {
     "name": "stdout",
     "output_type": "stream",
     "text": [
      "[1, 5, 6, 3, 7, 2]\n",
      "[1, 2, 3, 5, 6, 7]\n"
     ]
    }
   ],
   "source": [
    "a = [1,5,6,3,7,2]\n",
    "b = sorted(a) # 원본데이터 손 안대면서 정렬하면서 새 list 만들고 싶으면 사용. \n",
    "\n",
    "print(a)\n",
    "print(b)"
   ]
  },
  {
   "cell_type": "markdown",
   "id": "2a5c46f1",
   "metadata": {},
   "source": [
    "## 튜플"
   ]
  },
  {
   "cell_type": "code",
   "execution_count": 17,
   "id": "b0c79495",
   "metadata": {},
   "outputs": [
    {
     "name": "stdout",
     "output_type": "stream",
     "text": [
      "(10, 20, 30) (10, 20, 30)\n",
      "(10,) <class 'tuple'>\n",
      "(10,) <class 'tuple'>\n",
      "()\n",
      "(0, 1, 2, 3, 4, 5, 6, 7, 8, 9)\n",
      "(1, 2, 3, 4)\n",
      "[0, 1, 2, 3, 4, 5, 6, 7, 8, 9]\n"
     ]
    }
   ],
   "source": [
    "#튜플 만들기\n",
    "\n",
    "tt1 = (10, 20, 30)\n",
    "tt2 = 10, 20, 30\n",
    "print(tt1, tt2)\n",
    "\n",
    "# 요소가 하나인 튜플 생성 : 값 뒤에 , 찍으면 생성. \n",
    "tt3 = 10, \n",
    "tt4 = (10,)\n",
    "print(tt3, type(tt3))\n",
    "print(tt4, type(tt4))\n",
    "\n",
    "a = tuple() \n",
    "a1 = tuple(range(10)) #0~9까지 범위 저장. \n",
    "a2 = tuple([1,2,3,4]) #리스트 만들고 수정 안하게 만들려면 튜플로 넘겨줌. \n",
    "a3 = list(a1) # 튜플을 리스트로 바꿈. \n",
    "print(a, a1, a2, a3, sep=\"\\n\")\n",
    "\n",
    "del(a1) #튜플 안에 있는 데이터를 바꾸진 못해도 튜플 자체를 삭제하는건 가능. "
   ]
  },
  {
   "cell_type": "code",
   "execution_count": 18,
   "id": "35b80274",
   "metadata": {},
   "outputs": [
    {
     "name": "stdout",
     "output_type": "stream",
     "text": [
      "(10, 20, 30, 40)\n"
     ]
    }
   ],
   "source": [
    "myTuple = (10, 20, 30)\n",
    "# 3번 인덱스에 40 추가하기 : tuple -> list -> tuple \n",
    "\n",
    "a5 = list(myTuple)\n",
    "a5.append(40)\n",
    "\n",
    "myTuple = tuple(a5)\n",
    "print(myTuple)"
   ]
  },
  {
   "cell_type": "markdown",
   "id": "f6412d59",
   "metadata": {},
   "source": [
    "## 세트"
   ]
  },
  {
   "cell_type": "code",
   "execution_count": 23,
   "id": "15e3207c",
   "metadata": {},
   "outputs": [
    {
     "name": "stdout",
     "output_type": "stream",
     "text": [
      "{1, 2, 3, 4}\n",
      "{1, 2, 3, 4, 6}\n"
     ]
    }
   ],
   "source": [
    "s = set([1,2,3,1,2,4]) #중복값 제거하면서 저장함. \n",
    "\n",
    "print(s)\n",
    "\n",
    "s.add(6)\n",
    "s.add(1)\n",
    "\n",
    "print(s)"
   ]
  },
  {
   "cell_type": "code",
   "execution_count": 21,
   "id": "2e003bd9",
   "metadata": {},
   "outputs": [
    {
     "name": "stdout",
     "output_type": "stream",
     "text": [
      "{1, 2, 3} <class 'set'>\n"
     ]
    }
   ],
   "source": [
    "s1 = {1,2,3,1} #set을 직접 선언하는 방법 \n",
    "print(s1, type(s1))"
   ]
  },
  {
   "cell_type": "code",
   "execution_count": 25,
   "id": "50693e2f",
   "metadata": {},
   "outputs": [
    {
     "name": "stdout",
     "output_type": "stream",
     "text": [
      "{1, 2, 3, 4, 5, 6, 7}\n",
      "{1, 2, 3, 4, 5, 6, 7}\n",
      "{3, 4, 5}\n",
      "{3, 4, 5}\n",
      "{1, 2}\n",
      "{1, 2}\n"
     ]
    }
   ],
   "source": [
    "# 합집합 교집합 차집합 \n",
    "\n",
    "s1 = set([1,2,3,4,5])\n",
    "s2 = set([3,4,5,6,7])\n",
    "\n",
    "print(s1.union(s2)) #s1과 s2의 합집합 \n",
    "print(s1 | s2)\n",
    "\n",
    "print(s1.intersection(s2)) #s1 s2의 교집합 \n",
    "print(s1 & s2)\n",
    "\n",
    "print(s1.difference(s2)) #s1 s2의 차집합 \n",
    "print(s1 - s2) "
   ]
  },
  {
   "cell_type": "markdown",
   "id": "089324cc",
   "metadata": {},
   "source": [
    "## 딕셔너리"
   ]
  },
  {
   "cell_type": "code",
   "execution_count": 34,
   "id": "83f6d6e1",
   "metadata": {},
   "outputs": [
    {
     "name": "stdout",
     "output_type": "stream",
     "text": [
      "{'America': 1, 'Korea': 82, 'China': 86, 'Japan': 81}\n",
      "dict_keys(['America', 'Korea', 'China', 'Japan'])\n",
      "{'America': 1, 'Korea': 82, 'China': 86, 'Japan': 81, 'German': 49}\n",
      "dict_values([1, 82, 86, 81, 49])\n",
      "dict_items([('America', 1), ('Korea', 82), ('China', 86), ('Japan', 81), ('German', 49)])\n",
      "Key America\n",
      "Value 1\n",
      "Key Korea\n",
      "Value 82\n",
      "Key China\n",
      "Value 86\n",
      "Key Japan\n",
      "Value 81\n",
      "Key German\n",
      "Value 49\n",
      "True\n",
      "True\n",
      "{'America': 1, 'Korea': 82, 'Japan': 81, 'German': 49}\n"
     ]
    }
   ],
   "source": [
    "country_code = {}\n",
    "country_code = {\"America\":1, \"Korea\":82, \"China\":86, \"Japan\":81}\n",
    "print(country_code)\n",
    "\n",
    "print(country_code.keys()) #키 값만 출력\n",
    "\n",
    "country_code[\"German\"]=49 #키 벨류 추가 \n",
    "print(country_code)\n",
    "\n",
    "\n",
    "print(country_code.values()) #value 값만 출력 \n",
    "\n",
    "print(country_code.items()) #딕셔너리 데이터 출력\n",
    "\n",
    "for k, v in country_code.items(): #키, 벨류 언패킹. \n",
    "    print(\"Key\", k)\n",
    "    print(\"Value\", v)\n",
    "\n",
    "print(\"Korea\" in country_code.keys()) #요소가 데이터 안에 있는지 확인. \n",
    "print(82 in country_code.values())\n",
    "\n",
    "del(country_code['China']) #삭제 : 키와 연결된 값까지 사라짐. \n",
    "print(country_code)"
   ]
  },
  {
   "cell_type": "markdown",
   "id": "ece8765e",
   "metadata": {},
   "source": [
    "## collections"
   ]
  },
  {
   "cell_type": "code",
   "execution_count": null,
   "id": "e3eaaf1e",
   "metadata": {},
   "outputs": [],
   "source": [
    "from collections import deque #전체 컬렉션 중 deque만 쓰겠습니다 \n",
    "\n",
    "# 사용할때 deque ~~ 쓰면 됨. "
   ]
  },
  {
   "cell_type": "markdown",
   "id": "f432cdc7",
   "metadata": {},
   "source": []
  },
  {
   "cell_type": "code",
   "execution_count": null,
   "id": "ed50b786",
   "metadata": {},
   "outputs": [],
   "source": []
  },
  {
   "cell_type": "code",
   "execution_count": null,
   "id": "e58d6b15",
   "metadata": {},
   "outputs": [],
   "source": []
  }
 ],
 "metadata": {
  "kernelspec": {
   "display_name": "Python 3 (ipykernel)",
   "language": "python",
   "name": "python3"
  },
  "language_info": {
   "codemirror_mode": {
    "name": "ipython",
    "version": 3
   },
   "file_extension": ".py",
   "mimetype": "text/x-python",
   "name": "python",
   "nbconvert_exporter": "python",
   "pygments_lexer": "ipython3",
   "version": "3.9.13"
  }
 },
 "nbformat": 4,
 "nbformat_minor": 5
}
