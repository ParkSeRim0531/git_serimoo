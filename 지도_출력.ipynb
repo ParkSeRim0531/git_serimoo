{
 "cells": [
  {
   "cell_type": "code",
   "execution_count": 4,
   "id": "44ddc3e5",
   "metadata": {},
   "outputs": [],
   "source": [
    "import folium"
   ]
  },
  {
   "cell_type": "code",
   "execution_count": 5,
   "id": "b3602676",
   "metadata": {},
   "outputs": [
    {
     "data": {
      "text/plain": [
       "<folium.map.Marker at 0x2828a2b5b50>"
      ]
     },
     "execution_count": 5,
     "metadata": {},
     "output_type": "execute_result"
    }
   ],
   "source": [
    "map_osm = folium.Map(location=[37.560284, 126.975334], zoom_start = 16)\n",
    "folium.Marker(location=[37.560284, 126.975334], popup= '숭례문', icon=folium.Icon(color='red', icon='star')).add_to(map_osm)"
   ]
  },
  {
   "cell_type": "code",
   "execution_count": 8,
   "id": "832fa0a0",
   "metadata": {},
   "outputs": [],
   "source": [
    "map_osm.save('./data/map.html') #파일저장"
   ]
  },
  {
   "cell_type": "code",
   "execution_count": null,
   "id": "3a4c4aa8",
   "metadata": {},
   "outputs": [],
   "source": []
  },
  {
   "cell_type": "code",
   "execution_count": null,
   "id": "3c8d64e2",
   "metadata": {},
   "outputs": [],
   "source": []
  }
 ],
 "metadata": {
  "kernelspec": {
   "display_name": "Python 3 (ipykernel)",
   "language": "python",
   "name": "python3"
  },
  "language_info": {
   "codemirror_mode": {
    "name": "ipython",
    "version": 3
   },
   "file_extension": ".py",
   "mimetype": "text/x-python",
   "name": "python",
   "nbconvert_exporter": "python",
   "pygments_lexer": "ipython3",
   "version": "3.9.13"
  }
 },
 "nbformat": 4,
 "nbformat_minor": 5
}
