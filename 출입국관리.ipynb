{
 "cells": [
  {
   "cell_type": "code",
   "execution_count": 1,
   "id": "44318116",
   "metadata": {},
   "outputs": [
    {
     "name": "stdout",
     "output_type": "stream",
     "text": [
      "b'<?xml version=\"1.0\" encoding=\"UTF-8\" standalone=\"yes\"?><response><header><responseTime>2022-11-07T17:48:45.431+09:00</responseTime><resultCode>30</resultCode><resultMsg>SERVICE KEY IS NOT REGISTERED ERROR.</resultMsg></header></response>'\n"
     ]
    }
   ],
   "source": [
    "import requests\n",
    "\n",
    "url = 'http://openapi.tour.go.kr/openapi/service/EdrcntTourismStatsService/getEdrcntTourismStatsList'\n",
    "params ={'serviceKey' : 'AvZt7Ylv00QPDRK1Oj2KooDUOZf5REUrdga64DPT2Wzw3IUjfVUWGaz96ulNhpFKDM4gVFHwyZ3uoPbLMGS4vg%3D%3D', 'YM' : '201201', 'NAT_CD' : '112', 'ED_CD' : 'E' }\n",
    "\n",
    "response = requests.get(url, params=params)\n",
    "print(response.content)"
   ]
  }
 ],
 "metadata": {
  "kernelspec": {
   "display_name": "Python 3 (ipykernel)",
   "language": "python",
   "name": "python3"
  },
  "language_info": {
   "codemirror_mode": {
    "name": "ipython",
    "version": 3
   },
   "file_extension": ".py",
   "mimetype": "text/x-python",
   "name": "python",
   "nbconvert_exporter": "python",
   "pygments_lexer": "ipython3",
   "version": "3.9.13"
  }
 },
 "nbformat": 4,
 "nbformat_minor": 5
}
