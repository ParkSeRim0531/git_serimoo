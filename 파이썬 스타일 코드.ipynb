{
 "cells": [
  {
   "cell_type": "code",
   "execution_count": 3,
   "id": "7cea1b97",
   "metadata": {},
   "outputs": [
    {
     "name": "stdout",
     "output_type": "stream",
     "text": [
      "red blue green yellow\n",
      "red,blue,green,yellow\n",
      "red-blue-green-yellow\n"
     ]
    }
   ],
   "source": [
    "# join\n",
    "\n",
    "colors = ['red','blue','green','yellow']\n",
    "\n",
    "\n",
    "result = ' '.join(colors)\n",
    "print(result)\n",
    "\n",
    "result = ','.join(colors)\n",
    "print(result)\n",
    "result = '-'.join(colors)\n",
    "print(result)\n"
   ]
  },
  {
   "cell_type": "markdown",
   "id": "d02ae8ab",
   "metadata": {},
   "source": [
    "## list_coprehension"
   ]
  },
  {
   "cell_type": "code",
   "execution_count": 4,
   "id": "ec1522e3",
   "metadata": {},
   "outputs": [
    {
     "name": "stdout",
     "output_type": "stream",
     "text": [
      "[0, 1, 2, 3, 4, 5, 6, 7, 8, 9]\n"
     ]
    }
   ],
   "source": [
    "result = [i for i in range(10)]\n",
    "\n",
    "# in range(10) : 숫자 생성(0~9)\n",
    "# for i : 숫자를 i에 저장 \n",
    "# [i] : 리스트 생성 후 i값 저장 \n",
    "\n",
    "print(result)"
   ]
  },
  {
   "cell_type": "code",
   "execution_count": 5,
   "id": "988147eb",
   "metadata": {},
   "outputs": [
    {
     "name": "stdout",
     "output_type": "stream",
     "text": [
      "[0, 1, 2, 3, 4]\n"
     ]
    }
   ],
   "source": [
    "result2 = list(i for i in range(5)) \n",
    "# for 앞 뒤로 같은 변수를 지정 (range로 뽑아낸 숫자값을 넣는 것이기 때문에 )\n",
    "# 즉 for 앞에는 리스트에 넣을 값을 지정함. \n",
    "print(result2)"
   ]
  },
  {
   "cell_type": "code",
   "execution_count": 6,
   "id": "fcb9b8f3",
   "metadata": {},
   "outputs": [
    {
     "name": "stdout",
     "output_type": "stream",
     "text": [
      "['a', 'a', 'a', 'a', 'a']\n"
     ]
    }
   ],
   "source": [
    "result3 = list(\"a\" for i in range(5)) \n",
    "\n",
    "print(result3)"
   ]
  },
  {
   "cell_type": "code",
   "execution_count": 7,
   "id": "44f5f0ad",
   "metadata": {},
   "outputs": [
    {
     "name": "stdout",
     "output_type": "stream",
     "text": [
      "[10, 11, 12, 13, 14]\n"
     ]
    }
   ],
   "source": [
    "result4 = list(i+10 for i in range(5)) \n",
    "\n",
    "print(result4)"
   ]
  },
  {
   "cell_type": "markdown",
   "id": "a83f0770",
   "metadata": {},
   "source": [
    "### 필터링\n",
    "##### [식 for 변수 in 리스트 if 조건식]\n",
    "##### [식 if 조건 else 식 for 변수 in 리스트]"
   ]
  },
  {
   "cell_type": "code",
   "execution_count": 8,
   "id": "cd6a93cb",
   "metadata": {},
   "outputs": [
    {
     "name": "stdout",
     "output_type": "stream",
     "text": [
      "[0, 2, 4, 6, 8]\n"
     ]
    }
   ],
   "source": [
    "result = [i for i in range(10) if i % 2 == 0]\n",
    "print(result)"
   ]
  },
  {
   "cell_type": "code",
   "execution_count": 11,
   "id": "fb27110a",
   "metadata": {},
   "outputs": [
    {
     "name": "stdout",
     "output_type": "stream",
     "text": [
      "['true값', 'false값', 'true값', 'false값', 'true값', 'false값', 'true값', 'false값', 'true값', 'false값']\n"
     ]
    }
   ],
   "source": [
    "result = [ \"true값\" if i % 2 == 0 else \"false값\" for i in range(10)]\n",
    "print(result)\n",
    "\n",
    "#renge 돌려서 10개 값 뽑는데 기존에는 if에 true인값만 보여줬다면 \n",
    "#else 사용 순간 true가 아닌 값들도 같이 보여줌. "
   ]
  },
  {
   "cell_type": "markdown",
   "id": "ea37a588",
   "metadata": {},
   "source": [
    "### 중첩 반복문"
   ]
  },
  {
   "cell_type": "code",
   "execution_count": 12,
   "id": "8031839b",
   "metadata": {},
   "outputs": [
    {
     "name": "stdout",
     "output_type": "stream",
     "text": [
      "['hw', 'ho', 'hr', 'hl', 'hd', 'ew', 'eo', 'er', 'el', 'ed', 'lw', 'lo', 'lr', 'll', 'ld', 'lw', 'lo', 'lr', 'll', 'ld', 'ow', 'oo', 'or', 'ol', 'od']\n"
     ]
    }
   ],
   "source": [
    "w1 = \"hello\"\n",
    "w2 = \"world\"\n",
    "\n",
    "r = [i + j for i in w1 for j in w2]\n",
    "print(r)\n"
   ]
  },
  {
   "cell_type": "code",
   "execution_count": 15,
   "id": "f29539e5",
   "metadata": {},
   "outputs": [
    {
     "name": "stdout",
     "output_type": "stream",
     "text": [
      "['AD', 'AE', 'BD', 'BE', 'BA', 'CD', 'CE', 'CA']\n",
      "['AD', 'AE', 'X', 'BD', 'BE', 'BA', 'CD', 'CE', 'CA']\n"
     ]
    }
   ],
   "source": [
    "#중첩반복문에 필터링 적용 \n",
    "\n",
    "c1 = [\"A\",\"B\",\"C\"]\n",
    "c2 = [\"D\",\"E\",\"A\"]\n",
    "result = [i + j for i in c1 for j in c2 if not(i==j)]\n",
    "print(result)\n",
    "\n",
    "\n",
    "# else 추가 버전 \n",
    "result = [i + j if not(i==j) else 'X'  for i in c1 for j in c2 ] \n",
    "print(result)\n"
   ]
  },
  {
   "cell_type": "code",
   "execution_count": 16,
   "id": "7013c070",
   "metadata": {},
   "outputs": [
    {
     "name": "stdout",
     "output_type": "stream",
     "text": [
      "\n",
      "*\n",
      "**\n",
      "***\n",
      "****\n",
      "*****\n",
      "******\n",
      "*******\n",
      "********\n",
      "*********\n"
     ]
    }
   ],
   "source": [
    "r = [print(\"*\"*i) for i in range(10)]"
   ]
  },
  {
   "cell_type": "markdown",
   "id": "ee1dfe33",
   "metadata": {},
   "source": [
    "### 이차원 리스트"
   ]
  },
  {
   "cell_type": "code",
   "execution_count": 18,
   "id": "57e7e1ff",
   "metadata": {},
   "outputs": [
    {
     "name": "stdout",
     "output_type": "stream",
     "text": [
      "['The', 'quick', 'brown', 'fox', 'jumps', 'over', 'the', 'lazy', 'dog']\n",
      "[['THE', 'the', 3], ['QUICK', 'quick', 5], ['BROWN', 'brown', 5], ['FOX', 'fox', 3], ['JUMPS', 'jumps', 5], ['OVER', 'over', 4], ['THE', 'the', 3], ['LAZY', 'lazy', 4], ['DOG', 'dog', 3]]\n"
     ]
    }
   ],
   "source": [
    "words = 'The quick brown fox jumps over the lazy dog'.split()\n",
    "print(words)\n",
    "\n",
    "stuff = [[w.upper(), w.lower(), len(w)] for w in words]\n",
    "print(stuff)"
   ]
  },
  {
   "cell_type": "code",
   "execution_count": 19,
   "id": "ac85def1",
   "metadata": {},
   "outputs": [
    {
     "name": "stdout",
     "output_type": "stream",
     "text": [
      "[['AD', 'BD', 'CD'], ['AE', 'BE', 'CE'], ['AA', 'BA', 'CA']]\n"
     ]
    }
   ],
   "source": [
    "# 이차원 리스트 안에서 중첩반복문 사용 \n",
    "\n",
    "result = [[i+j for i in c1] for j in c2] \n",
    "#일차원 리스트는 앞에 있는게 아우터지만 이차원리스트는 괄호 밖에 있는게 먼저 실행됨. \n",
    "print(result)"
   ]
  }
 ],
 "metadata": {
  "kernelspec": {
   "display_name": "Python 3 (ipykernel)",
   "language": "python",
   "name": "python3"
  },
  "language_info": {
   "codemirror_mode": {
    "name": "ipython",
    "version": 3
   },
   "file_extension": ".py",
   "mimetype": "text/x-python",
   "name": "python",
   "nbconvert_exporter": "python",
   "pygments_lexer": "ipython3",
   "version": "3.9.13"
  }
 },
 "nbformat": 4,
 "nbformat_minor": 5
}
