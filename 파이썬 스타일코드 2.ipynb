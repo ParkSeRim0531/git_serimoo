{
 "cells": [
  {
   "cell_type": "markdown",
   "id": "4b0fc501",
   "metadata": {},
   "source": [
    "#### lambda() 함수 "
   ]
  },
  {
   "cell_type": "code",
   "execution_count": 1,
   "id": "6c55803d",
   "metadata": {},
   "outputs": [
    {
     "name": "stdout",
     "output_type": "stream",
     "text": [
      "3\n"
     ]
    }
   ],
   "source": [
    "f = lambda x, y : x + y\n",
    "print(f(1,2))"
   ]
  },
  {
   "cell_type": "code",
   "execution_count": 4,
   "id": "bb07f7d5",
   "metadata": {},
   "outputs": [
    {
     "name": "stdout",
     "output_type": "stream",
     "text": [
      "11\n"
     ]
    }
   ],
   "source": [
    "#선언과 동시에 매개변수 숫자 맞춰서 값 넣어도 가능.\n",
    "print((lambda x : x + 1)(10)) "
   ]
  },
  {
   "cell_type": "code",
   "execution_count": 8,
   "id": "9b112865",
   "metadata": {},
   "outputs": [
    {
     "ename": "TypeError",
     "evalue": "<lambda>() takes 1 positional argument but 2 were given",
     "output_type": "error",
     "traceback": [
      "\u001b[1;31m---------------------------------------------------------------------------\u001b[0m",
      "\u001b[1;31mTypeError\u001b[0m                                 Traceback (most recent call last)",
      "\u001b[1;32m~\\AppData\\Local\\Temp\\ipykernel_17564\\2245322581.py\u001b[0m in \u001b[0;36m<module>\u001b[1;34m\u001b[0m\n\u001b[0;32m      8\u001b[0m \u001b[0mf\u001b[0m\u001b[1;33m(\u001b[0m\u001b[1;36m3\u001b[0m\u001b[1;33m)\u001b[0m\u001b[1;33m\u001b[0m\u001b[1;33m\u001b[0m\u001b[0m\n\u001b[0;32m      9\u001b[0m \u001b[1;33m\u001b[0m\u001b[0m\n\u001b[1;32m---> 10\u001b[1;33m \u001b[0mf\u001b[0m\u001b[1;33m(\u001b[0m\u001b[1;36m3\u001b[0m\u001b[1;33m,\u001b[0m\u001b[1;36m5\u001b[0m\u001b[1;33m)\u001b[0m\u001b[1;33m\u001b[0m\u001b[1;33m\u001b[0m\u001b[0m\n\u001b[0m",
      "\u001b[1;31mTypeError\u001b[0m: <lambda>() takes 1 positional argument but 2 were given"
     ]
    }
   ],
   "source": [
    "f = lambda x, y : x + y \n",
    "f(1,4)\n",
    "\n",
    "f = lambda x : x ** 2\n",
    "f(3)\n",
    "\n",
    "f = lambda x : x / 2\n",
    "f(3)\n",
    "\n",
    "f(3,5) #람다로 설정한 값의 갯수랑 맞지 않아서 에러. "
   ]
  },
  {
   "cell_type": "markdown",
   "id": "c696c208",
   "metadata": {},
   "source": [
    "#### map() 함수"
   ]
  },
  {
   "cell_type": "code",
   "execution_count": 9,
   "id": "0b65a001",
   "metadata": {},
   "outputs": [
    {
     "name": "stdout",
     "output_type": "stream",
     "text": [
      "[1, 4, 9, 16, 25]\n"
     ]
    }
   ],
   "source": [
    "ex = [1,2,3,4,5]\n",
    "f = lambda x : x**2\n",
    "#def f(x) : return x**2 : 일반 함수 만들어서 적용시켜도 됨. \n",
    "\n",
    "print(list(map(f,ex)))"
   ]
  },
  {
   "cell_type": "code",
   "execution_count": 10,
   "id": "17809a67",
   "metadata": {},
   "outputs": [
    {
     "name": "stdout",
     "output_type": "stream",
     "text": [
      "[1, 4, 9, 16, 25]\n"
     ]
    }
   ],
   "source": [
    "# 위와 같은 모양인데 리스트 컴프리헨션으로 처리한 코드. \n",
    "ex = [1,2,3,4,5]\n",
    "print([ i**2 for i in ex])"
   ]
  },
  {
   "cell_type": "markdown",
   "id": "33cb02e3",
   "metadata": {},
   "source": [
    "####  reduce ()"
   ]
  },
  {
   "cell_type": "code",
   "execution_count": 11,
   "id": "e172fd15",
   "metadata": {},
   "outputs": [
    {
     "name": "stdout",
     "output_type": "stream",
     "text": [
      "15\n"
     ]
    }
   ],
   "source": [
    "#reduce \n",
    "\n",
    "from functools import reduce\n",
    "print(reduce(lambda x, y : x+y, [1,2,3,4,5]))"
   ]
  },
  {
   "cell_type": "markdown",
   "id": "9e6cbe27",
   "metadata": {},
   "source": [
    "#### asterisks"
   ]
  },
  {
   "cell_type": "code",
   "execution_count": 12,
   "id": "29f2168c",
   "metadata": {},
   "outputs": [
    {
     "name": "stdout",
     "output_type": "stream",
     "text": [
      "1 (2, 3, 4, 5, 6)\n",
      "<class 'tuple'>\n"
     ]
    }
   ],
   "source": [
    "def asterisk_test(a, *args):\n",
    "    print(a, args)\n",
    "    print(type(args))\n",
    "\n",
    "asterisk_test(1,2,3,4,5,6)"
   ]
  },
  {
   "cell_type": "code",
   "execution_count": 15,
   "id": "dd5843f2",
   "metadata": {},
   "outputs": [
    {
     "name": "stdout",
     "output_type": "stream",
     "text": [
      "1 {'b': 2, 'c': 3, 'd': 4, 'e': 5, 'f': 6}\n",
      "<class 'dict'>\n"
     ]
    }
   ],
   "source": [
    "# 키워드 가변인수 \n",
    "def asterisk_test(a,**kargs):\n",
    "    print(a, kargs)\n",
    "    print(type(kargs))\n",
    "    \n",
    "asterisk_test(1, b=2, c=3, d=4, e=5,f=6)"
   ]
  },
  {
   "cell_type": "code",
   "execution_count": 17,
   "id": "9f834809",
   "metadata": {},
   "outputs": [
    {
     "name": "stdout",
     "output_type": "stream",
     "text": [
      "1 2 3 4 5 6\n",
      "<class 'tuple'>\n"
     ]
    }
   ],
   "source": [
    "# 언패킹 사용 : 튜플을 저장하고 있는 객체 앞에 * 찍으면 언패킹 됨. \n",
    "def asterisk_test(a, args):\n",
    "    print(a, *args)\n",
    "    print(type(args))\n",
    "\n",
    "asterisk_test(1,(2,3,4,5,6))"
   ]
  },
  {
   "cell_type": "code",
   "execution_count": 19,
   "id": "b1ee3ada",
   "metadata": {},
   "outputs": [
    {
     "name": "stdout",
     "output_type": "stream",
     "text": [
      "1 (2, 3, 4, 5, 6)\n",
      "<class 'tuple'>\n"
     ]
    }
   ],
   "source": [
    "#언패킹 되어 있는 상태로 가변인수에 보냈을때 \n",
    "def asterisk_test(a, *args):\n",
    "    print(a, args)\n",
    "    print(type(args))\n",
    "\n",
    "asterisk_test(1,*(2,3,4,5,6))"
   ]
  },
  {
   "cell_type": "code",
   "execution_count": 23,
   "id": "e9be7a20",
   "metadata": {},
   "outputs": [
    {
     "name": "stdout",
     "output_type": "stream",
     "text": [
      "(1, 3, 5)\n",
      "<class 'tuple'>\n",
      "(2, 4, 6)\n",
      "<class 'tuple'>\n"
     ]
    }
   ],
   "source": [
    "for data in zip(*[[1,2],[3,4],[5,6]]):\n",
    "    print(data)\n",
    "    print(type(data))"
   ]
  },
  {
   "cell_type": "code",
   "execution_count": 25,
   "id": "51bc4d94",
   "metadata": {},
   "outputs": [
    {
     "name": "stdout",
     "output_type": "stream",
     "text": [
      "10 1 2 3\n"
     ]
    }
   ],
   "source": [
    "# 딕셔너리를 언패킹해서 키워드 가변인수 사용. \n",
    "\n",
    "def asterisk_test(a,b,c,d):\n",
    "    print(a,b,c,d)\n",
    "    \n",
    "data = {\"b\":1,\"c\":2,\"d\":3}\n",
    "asterisk_test(10, **data)"
   ]
  },
  {
   "cell_type": "code",
   "execution_count": 26,
   "id": "191754d0",
   "metadata": {},
   "outputs": [
    {
     "name": "stdout",
     "output_type": "stream",
     "text": [
      "[7, 10]\n"
     ]
    }
   ],
   "source": [
    "#벡터의 연산 \n",
    "u = [2,2]\n",
    "v = [2,3]\n",
    "z = [3,5]\n",
    "\n",
    "result = [sum(t) for t in zip(u,v,z)]\n",
    "print(result)"
   ]
  },
  {
   "cell_type": "code",
   "execution_count": 31,
   "id": "83c62eb0",
   "metadata": {},
   "outputs": [
    {
     "name": "stdout",
     "output_type": "stream",
     "text": [
      "<function vector_addition at 0x000001E0B325B040>\n"
     ]
    },
    {
     "data": {
      "text/plain": [
       "[7, 10]"
      ]
     },
     "execution_count": 31,
     "metadata": {},
     "output_type": "execute_result"
    }
   ],
   "source": [
    "# 특정개수가 정해지지 않은 변수 연산\n",
    "def vector_addition(*args): #패킹 \n",
    "    return[sum(t) for t in zip(*args)] #언패킹\n",
    "\n",
    "vector_addition(u,v,z)\n",
    "\n",
    "print(vector_addition)\n",
    "\n",
    "#매개변수 n개 선언 안하고 여러개의 값 처리 할 때 \n",
    "row_vectors = [[2,2],[2,3],[3,5]]\n",
    "vector_addition(*row_vectors)\n"
   ]
  },
  {
   "cell_type": "code",
   "execution_count": 33,
   "id": "1be96210",
   "metadata": {},
   "outputs": [
    {
     "name": "stdout",
     "output_type": "stream",
     "text": [
      "[10, 12, 14]\n"
     ]
    }
   ],
   "source": [
    "#스칼라 - 벡터 연산 \n",
    "u = [1,2,3]\n",
    "v = [4,4,4]\n",
    "alpha = 2 \n",
    "\n",
    "result = [alpha * sum(t) for t in zip(u,v)]\n",
    "\n",
    "print(result)"
   ]
  },
  {
   "cell_type": "code",
   "execution_count": 35,
   "id": "3dfa2ff9",
   "metadata": {},
   "outputs": [
    {
     "name": "stdout",
     "output_type": "stream",
     "text": [
      "[[8, 14], [10, 12]]\n"
     ]
    }
   ],
   "source": [
    "#행렬 연산\n",
    "matrix_a = [[3,6], [4,5]]\n",
    "matrix_b = [[5,8], [6,7]]\n",
    "result = [[sum(row) for row in zip(*t)] for t in zip(matrix_a, matrix_b)]\n",
    "print(result)"
   ]
  },
  {
   "cell_type": "code",
   "execution_count": 37,
   "id": "e82f0c90",
   "metadata": {},
   "outputs": [
    {
     "name": "stdout",
     "output_type": "stream",
     "text": [
      "동치\n",
      "[(1, 1), (1, 1), (1, 1), (1, 1)]\n",
      "[[True, True, True, True, True, True, True, True]]\n"
     ]
    }
   ],
   "source": [
    "#행렬의 동치\n",
    "matrix_a = [[1,1],[1,1]]\n",
    "matrix_b = [[1,1],[1,1]]\n",
    "result = all([row[0] == value for t in zip(matrix_a, matrix_b) for row in zip(*t) for value in row])\n",
    "\n",
    "if result:\n",
    "    print(\"동치\")\n",
    "else:\n",
    "    print(\"동치 아님\")\n",
    "    \n",
    "r = [ row for t in zip(matrix_a, matrix_b) for row in zip(*t)] \n",
    "print(r)\n",
    "r = [[row[0]==value for t in zip(matrix_a, matrix_b) for row in zip(*t)\n",
    "             for value in row]]\n",
    "print(r)"
   ]
  },
  {
   "cell_type": "code",
   "execution_count": 38,
   "id": "d0d77fdc",
   "metadata": {},
   "outputs": [
    {
     "data": {
      "text/plain": [
       "[[True, True], [True, True], [True, True], [True, True]]"
      ]
     },
     "execution_count": 38,
     "metadata": {},
     "output_type": "execute_result"
    }
   ],
   "source": [
    "[[row[0] == value for value in row] for t in zip(matrix_a, matrix_b) for row in zip(*t)]\n"
   ]
  },
  {
   "cell_type": "code",
   "execution_count": 39,
   "id": "03287d30",
   "metadata": {},
   "outputs": [
    {
     "data": {
      "text/plain": [
       "[[1, 4], [2, 5], [3, 6]]"
      ]
     },
     "execution_count": 39,
     "metadata": {},
     "output_type": "execute_result"
    }
   ],
   "source": [
    "#전치 행렬\n",
    "matrix_a = [[1,2,3],[4,5,6]]\n",
    "result = [[element for element in t] for t in zip(*matrix_a)]\n",
    "result"
   ]
  },
  {
   "cell_type": "code",
   "execution_count": 41,
   "id": "8cd6430c",
   "metadata": {},
   "outputs": [
    {
     "name": "stdout",
     "output_type": "stream",
     "text": [
      "[[5, 8], [5, 6]]\n"
     ]
    }
   ],
   "source": [
    "#행렬의 곱셈\n",
    "\n",
    "matrix_a = [[1,1,2],[2,1,1]]\n",
    "matrix_b = [[1,1],[2,1],[1,3]]\n",
    "result = [[sum(a * b for a, b in zip(row_a, column_b)) for column_b in \n",
    "          zip(*matrix_b)] for row_a in matrix_a]\n",
    "print(result)"
   ]
  },
  {
   "cell_type": "code",
   "execution_count": null,
   "id": "129a4640",
   "metadata": {},
   "outputs": [],
   "source": []
  },
  {
   "cell_type": "code",
   "execution_count": null,
   "id": "38082cb0",
   "metadata": {},
   "outputs": [],
   "source": []
  }
 ],
 "metadata": {
  "kernelspec": {
   "display_name": "Python 3 (ipykernel)",
   "language": "python",
   "name": "python3"
  },
  "language_info": {
   "codemirror_mode": {
    "name": "ipython",
    "version": 3
   },
   "file_extension": ".py",
   "mimetype": "text/x-python",
   "name": "python",
   "nbconvert_exporter": "python",
   "pygments_lexer": "ipython3",
   "version": "3.9.13"
  }
 },
 "nbformat": 4,
 "nbformat_minor": 5
}
