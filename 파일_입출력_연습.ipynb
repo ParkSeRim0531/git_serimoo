{
 "cells": [
  {
   "cell_type": "code",
   "execution_count": 1,
   "id": "4bff763f",
   "metadata": {},
   "outputs": [
    {
     "data": {
      "text/plain": [
       "'C:\\\\python\\\\day1101\\\\text_file'"
      ]
     },
     "execution_count": 1,
     "metadata": {},
     "output_type": "execute_result"
    }
   ],
   "source": [
    "import os\n",
    "\n",
    "os.getcwd() #현재 파일이 있는 경로 출력 \"os.chdif(\"경로\")\" 로 변경 가능. "
   ]
  },
  {
   "cell_type": "code",
   "execution_count": 2,
   "id": "49c6a4d8",
   "metadata": {},
   "outputs": [
    {
     "name": "stdout",
     "output_type": "stream",
     "text": [
      "C:\\pytest\n"
     ]
    }
   ],
   "source": [
    "os.chdir(\"C:\\\\pytest\")\n",
    "print(os.getcwd())\n",
    "\n",
    "# 역슬래쉬를 붙여야 하는 경우가 많아질때 경로 앞에(따옴표 바깥) \n",
    "# r 붙여주면 역슬래스 두번 할 필요X "
   ]
  },
  {
   "cell_type": "code",
   "execution_count": 3,
   "id": "7cbb379e",
   "metadata": {},
   "outputs": [
    {
     "data": {
      "text/plain": [
       "[]"
      ]
     },
     "execution_count": 3,
     "metadata": {},
     "output_type": "execute_result"
    }
   ],
   "source": [
    "os.listdir() # 해당 폴더 안에 어떤 것들이 있는지 알려줌. "
   ]
  },
  {
   "cell_type": "code",
   "execution_count": 4,
   "id": "ab5ff5c5",
   "metadata": {},
   "outputs": [
    {
     "name": "stdout",
     "output_type": "stream",
     "text": [
      "C:\\python\\day1101\\text_file\n"
     ]
    }
   ],
   "source": [
    "os.chdir(r\"C:\\python\\day1101\\text_file\")\n",
    "print(os.getcwd())"
   ]
  },
  {
   "cell_type": "code",
   "execution_count": 8,
   "id": "c86bd006",
   "metadata": {},
   "outputs": [],
   "source": [
    "f = open(\"a.txt\",\"w\")\n",
    "print(f.write(\"나는 오늘 무엇을 했는가\"))\n",
    "f.close()"
   ]
  },
  {
   "cell_type": "code",
   "execution_count": 1,
   "id": "e0b278ef",
   "metadata": {},
   "outputs": [
    {
     "name": "stdout",
     "output_type": "stream",
     "text": [
      "1 나는 오늘 무엇을 했는가\n",
      "2 \n"
     ]
    }
   ],
   "source": [
    "f = open(\"a.txt\",\"r\")\n",
    "print(\"1\",f.read())\n",
    "f.seek() #커서가 어딨는지 확인하는 메서드 \n",
    "print(\"2\",f.read())\n",
    "f.close() #영문은 매우 잘 되나 한글은 저"
   ]
  },
  {
   "cell_type": "code",
   "execution_count": 12,
   "id": "275dbdf5",
   "metadata": {},
   "outputs": [],
   "source": [
    "with open('test.txt','w') as f: #EUC-KR\n",
    "    f.write(\"나는 오늘 학교에 갔습니다.\")"
   ]
  },
  {
   "cell_type": "code",
   "execution_count": 17,
   "id": "3f2c708c",
   "metadata": {},
   "outputs": [
    {
     "name": "stdout",
     "output_type": "stream",
     "text": [
      "농업생산성의 제고와 농지의 합리적인 이용을 위하거나 불가피한 사정으로 발생하는 농지의 임대차와 위탁경영은 법률이 정하는 바에 의하여 인정된다. 대법원장의 임기는 6년으로 하며, 중임할 수 없다. 모든 국민은 법률이 정하는 바에 의하여 납세의 의무를 진다. 모든 국민은 법 앞에 평등하다. 누구든지 성별·종교 또는 사회적 신분에 의하여 정치적·경제적·사회적·문화적 생활의 모든 영역에 있어서 차별을 받지 아니한다. 위원은 정당에 가입하거나 정치에 관여할 수 없다. 국가는 국민 모두의 생산 및 생활의 기반이 되는 국토의 효율적이고 균형있는 이용·개발과 보전을 위하여 법률이 정하는 바에 의하여 그에 관한 필요한 제한과 의무를 과할 수 있다.\n",
      "\n"
     ]
    }
   ],
   "source": [
    "with open('korean.txt','r', encoding='utf-8') as f:  \n",
    "    print(f.readline())\n",
    "    \n",
    "#UTF-8 : decoding 에러발생.오픈 함수의 encoding 이라는 변수에 저장 된것 \n",
    "#codecs 라는 모듈로 해결도 가능. \n",
    "'''\n",
    "import codecs\n",
    "f = codecs.open('한글파일.txt','r','utf-8')\n",
    "'''"
   ]
  },
  {
   "cell_type": "code",
   "execution_count": 18,
   "id": "05f88954",
   "metadata": {},
   "outputs": [
    {
     "name": "stdout",
     "output_type": "stream",
     "text": [
      "농업생산성의 제고와\n"
     ]
    }
   ],
   "source": [
    "import codecs\n",
    "with codecs.open('korean.txt','r','utf-8') as f:\n",
    "    print(f.read()[:10])"
   ]
  },
  {
   "cell_type": "code",
   "execution_count": null,
   "id": "559557e6",
   "metadata": {},
   "outputs": [],
   "source": []
  },
  {
   "cell_type": "code",
   "execution_count": null,
   "id": "cdc7a688",
   "metadata": {},
   "outputs": [],
   "source": []
  },
  {
   "cell_type": "code",
   "execution_count": null,
   "id": "a93a33c1",
   "metadata": {},
   "outputs": [],
   "source": []
  },
  {
   "cell_type": "code",
   "execution_count": null,
   "id": "3463e8be",
   "metadata": {},
   "outputs": [],
   "source": []
  },
  {
   "cell_type": "code",
   "execution_count": null,
   "id": "b011d7d2",
   "metadata": {},
   "outputs": [],
   "source": []
  }
 ],
 "metadata": {
  "kernelspec": {
   "display_name": "Python 3 (ipykernel)",
   "language": "python",
   "name": "python3"
  },
  "language_info": {
   "codemirror_mode": {
    "name": "ipython",
    "version": 3
   },
   "file_extension": ".py",
   "mimetype": "text/x-python",
   "name": "python",
   "nbconvert_exporter": "python",
   "pygments_lexer": "ipython3",
   "version": "3.9.13"
  }
 },
 "nbformat": 4,
 "nbformat_minor": 5
}
