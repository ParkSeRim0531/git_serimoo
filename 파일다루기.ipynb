{
 "cells": [
  {
   "cell_type": "code",
   "execution_count": 3,
   "id": "7a03dcce",
   "metadata": {},
   "outputs": [
    {
     "name": "stdout",
     "output_type": "stream",
     "text": [
      "<class 'str'>\n",
      "I have a dream a song to sing\n",
      "to help me cope with anything\n",
      "if you see the wonder of a fairy tale\n",
      "you can take the future even\n",
      "if you fail I believe in angels\n",
      "something good in everything\n",
      "\n"
     ]
    }
   ],
   "source": [
    "f = open(\"dream.txt\",\"r\")\n",
    "contents = f.read()\n",
    "print(type(contents))\n",
    "print(contents)\n",
    "\n",
    "f.close()\n"
   ]
  },
  {
   "cell_type": "code",
   "execution_count": 5,
   "id": "24a1ab06",
   "metadata": {},
   "outputs": [
    {
     "name": "stdout",
     "output_type": "stream",
     "text": [
      "I have a dream a song to sing\n",
      "to help me cope with anything\n",
      "if you see the wonder of a fairy tale\n",
      "you can take the future even\n",
      "if you fail I believe in angels\n",
      "something good in everything\n",
      "\n",
      "end\n"
     ]
    }
   ],
   "source": [
    "#with와 함께 사용 \n",
    "\n",
    "with open(\"dream.txt\",\"r\") as myfile:\n",
    "    contents = myfile.read()\n",
    "    print(contents)\n",
    "    \n",
    "print('end')"
   ]
  },
  {
   "cell_type": "code",
   "execution_count": 6,
   "id": "84344fab",
   "metadata": {},
   "outputs": [
    {
     "name": "stdout",
     "output_type": "stream",
     "text": [
      "<class 'list'>\n",
      "['I have a dream a song to sing\\n', 'to help me cope with anything\\n', 'if you see the wonder of a fairy tale\\n', 'you can take the future even\\n', 'if you fail I believe in angels\\n', 'something good in everything\\n']\n",
      "end\n"
     ]
    }
   ],
   "source": [
    "#readlines\n",
    "\n",
    "with open(\"dream.txt\",\"r\") as myfile:\n",
    "    contents = myfile.readlines()\n",
    "    print(type(contents))\n",
    "    print(contents)\n",
    "    \n",
    "print('end')"
   ]
  },
  {
   "cell_type": "code",
   "execution_count": 8,
   "id": "5451b184",
   "metadata": {},
   "outputs": [
    {
     "name": "stdout",
     "output_type": "stream",
     "text": [
      "0 === I have a dream a song to sing\n",
      "\n",
      "1 === to help me cope with anything\n",
      "\n",
      "2 === if you see the wonder of a fairy tale\n",
      "\n",
      "3 === you can take the future even\n",
      "\n",
      "4 === if you fail I believe in angels\n",
      "\n",
      "5 === something good in everything\n",
      "\n"
     ]
    }
   ],
   "source": [
    "#readline 반복 \n",
    "\n",
    "with open(\"dream.txt\",\"r\") as myfile:\n",
    "    i = 0\n",
    "    while 1:\n",
    "        line = myfile.readline()\n",
    "        if not line:\n",
    "            break\n",
    "        print(str(i), \"===\", line)\n",
    "        i += 1"
   ]
  },
  {
   "cell_type": "code",
   "execution_count": 9,
   "id": "6c75ebc0",
   "metadata": {},
   "outputs": [
    {
     "name": "stdout",
     "output_type": "stream",
     "text": [
      "총 글자의 수 :  188\n",
      "총 단어의 수 :  35\n",
      "총 줄의 수 :  7\n"
     ]
    }
   ],
   "source": [
    "# 파일 안 글자의 통계 정보 출력 \n",
    "\n",
    "with open(\"dream.txt\",\"r\") as myfile:\n",
    "    contents = myfile.read()\n",
    "    word_list = contents.split(\" \")\n",
    "    line_list = contents.split(\"\\n\")\n",
    "    \n",
    "print(\"총 글자의 수 : \", len(contents))\n",
    "print(\"총 단어의 수 : \", len(word_list))\n",
    "print(\"총 줄의 수 : \", len(line_list))"
   ]
  },
  {
   "cell_type": "code",
   "execution_count": 11,
   "id": "e1b39f60",
   "metadata": {},
   "outputs": [],
   "source": [
    "#파일 쓰기 - 파일이 만들어짐.\n",
    "\n",
    "f = open(\"count_log.txt\",'w', encoding = \"utf8\")\n",
    "for i in range(1,11):\n",
    "    data = \"%d번째 줄이다. \\n\" %i\n",
    "    f.write(data)\n",
    "f.close()"
   ]
  },
  {
   "cell_type": "code",
   "execution_count": 12,
   "id": "aa3c16b0",
   "metadata": {},
   "outputs": [],
   "source": [
    "#append로 새로운 글 추가 하기 \n",
    "\n",
    "with open(\"count_log.txt\",'a',encoding = \"utf8\") as f:\n",
    "    for i in range(1,11):\n",
    "        data = \"%d번째 줄이다. \\n\" % i\n",
    "        f.write(data)"
   ]
  },
  {
   "cell_type": "code",
   "execution_count": 14,
   "id": "1c4290a3",
   "metadata": {},
   "outputs": [],
   "source": [
    "#로그 파일(프로그램이 동작하는 동안 여러 중간 기록 하는 파일) 만들기\n",
    "\n",
    "import os\n",
    "\n",
    "if not os.path.isdir(\"log\"):\n",
    "    os.mkdir(\"log\")\n",
    "    \n",
    "if not os.path.exists(\"log/count_log.txt\"):\n",
    "    f = open(\"log/count_log.txt\",'w', encoding = \"utf8\")\n",
    "    f.write(\"기록이 시작된다.\\n\")\n",
    "    f.close()\n",
    "    \n",
    "with open(\"log/count_log.txt\",\"a\",encoding = \"utf8\") as f:\n",
    "    import random, datetime\n",
    "    for i in range(1,11):\n",
    "        stamp = str(datetime.datetime.now())\n",
    "        value = random.random() * 1000000\n",
    "        log_line = stamp + \"\\t\" + str(value) + \"값이 생성되었다.\" + \"\\n\"\n",
    "        f.write(log_line)"
   ]
  },
  {
   "cell_type": "code",
   "execution_count": null,
   "id": "705c8308",
   "metadata": {},
   "outputs": [],
   "source": []
  },
  {
   "cell_type": "code",
   "execution_count": null,
   "id": "1245a7fc",
   "metadata": {},
   "outputs": [],
   "source": []
  },
  {
   "cell_type": "code",
   "execution_count": null,
   "id": "bbe9b73a",
   "metadata": {},
   "outputs": [],
   "source": []
  },
  {
   "cell_type": "code",
   "execution_count": null,
   "id": "2a71c7a3",
   "metadata": {},
   "outputs": [],
   "source": []
  },
  {
   "cell_type": "code",
   "execution_count": null,
   "id": "b5461621",
   "metadata": {},
   "outputs": [],
   "source": []
  },
  {
   "cell_type": "code",
   "execution_count": null,
   "id": "9534c08c",
   "metadata": {},
   "outputs": [],
   "source": []
  },
  {
   "cell_type": "code",
   "execution_count": null,
   "id": "15cbcc6f",
   "metadata": {},
   "outputs": [],
   "source": []
  }
 ],
 "metadata": {
  "kernelspec": {
   "display_name": "Python 3 (ipykernel)",
   "language": "python",
   "name": "python3"
  },
  "language_info": {
   "codemirror_mode": {
    "name": "ipython",
    "version": 3
   },
   "file_extension": ".py",
   "mimetype": "text/x-python",
   "name": "python",
   "nbconvert_exporter": "python",
   "pygments_lexer": "ipython3",
   "version": "3.9.13"
  }
 },
 "nbformat": 4,
 "nbformat_minor": 5
}
