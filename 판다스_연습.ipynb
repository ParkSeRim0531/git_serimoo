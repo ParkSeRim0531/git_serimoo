{
 "cells": [
  {
   "cell_type": "markdown",
   "id": "29118326",
   "metadata": {},
   "source": [
    "#### 판다스 자료구조 \n",
    "\n",
    "- Series = 딕셔너리 \n",
    "\n",
    "- DataFrame = 표"
   ]
  },
  {
   "cell_type": "code",
   "execution_count": 2,
   "id": "065565b1",
   "metadata": {},
   "outputs": [
    {
     "name": "stdout",
     "output_type": "stream",
     "text": [
      "a    1\n",
      "b    2\n",
      "c    3\n",
      "d    4\n",
      "dtype: int64\n",
      "Index(['a', 'b', 'c', 'd'], dtype='object')\n"
     ]
    }
   ],
   "source": [
    "import pandas as pd\n",
    "\n",
    "#series : 인덱스를 이름이 붙은 값으로 지정해줌. \n",
    "\n",
    "a = pd.Series([1,2,3,4], index=['a','b','c','d'])\n",
    "print(a)\n",
    "print(a.index)"
   ]
  },
  {
   "cell_type": "markdown",
   "id": "3617631f",
   "metadata": {},
   "source": [
    "## 데이터프레임\n",
    "\n",
    "- 데이터를 쉽게 가공하기 위한 틀 \n",
    "\n",
    "- DataFrame() 함수를 사용하여 딕셔너리형 자료를 판다스로 가공 가능 "
   ]
  },
  {
   "cell_type": "code",
   "execution_count": 3,
   "id": "177c1a83",
   "metadata": {},
   "outputs": [
    {
     "name": "stdout",
     "output_type": "stream",
     "text": [
      "    name  age  score\n",
      "0   Mark   33   91.3\n",
      "1   Jane   32   83.4\n",
      "2  Chris   44   77.5\n",
      "3   Ryan   42   87.7\n"
     ]
    }
   ],
   "source": [
    "data = {'name' : ['Mark','Jane','Chris','Ryan'],\n",
    "       'age' : [33, 32, 44, 42],\n",
    "       'score': [91.3, 83.4, 77.5, 87.7]}\n",
    "\n",
    "df = pd.DataFrame(data)\n",
    "print(df)"
   ]
  },
  {
   "cell_type": "markdown",
   "id": "32184897",
   "metadata": {},
   "source": [
    "##### 데이터프레임 연산"
   ]
  },
  {
   "cell_type": "code",
   "execution_count": 4,
   "id": "bd2482b7",
   "metadata": {},
   "outputs": [
    {
     "data": {
      "text/plain": [
       "name     MarkJaneChrisRyan\n",
       "age                    151\n",
       "score                339.9\n",
       "dtype: object"
      ]
     },
     "execution_count": 4,
     "metadata": {},
     "output_type": "execute_result"
    }
   ],
   "source": [
    "df.sum() # 특정 값들의 합계를 구할 수 있음. "
   ]
  },
  {
   "cell_type": "code",
   "execution_count": 5,
   "id": "80402760",
   "metadata": {},
   "outputs": [
    {
     "name": "stderr",
     "output_type": "stream",
     "text": [
      "C:\\Users\\admin\\AppData\\Local\\Temp\\ipykernel_17464\\3698961737.py:1: FutureWarning: Dropping of nuisance columns in DataFrame reductions (with 'numeric_only=None') is deprecated; in a future version this will raise TypeError.  Select only valid columns before calling the reduction.\n",
      "  df.mean()\n"
     ]
    },
    {
     "data": {
      "text/plain": [
       "age      37.750\n",
       "score    84.975\n",
       "dtype: float64"
      ]
     },
     "execution_count": 5,
     "metadata": {},
     "output_type": "execute_result"
    }
   ],
   "source": [
    "df.mean() #평균구하기 : 숫자로 되어 있는 원소들만 구함. "
   ]
  },
  {
   "cell_type": "markdown",
   "id": "54a0eec1",
   "metadata": {},
   "source": [
    "#### 데이터 선택 : 딕셔너리처럼 선택해서 추출 가능 \n",
    "\n",
    "- 데이터프레임에서 키 값 지정해주면 그 값만 가져옴. \n",
    "\n",
    "- 인덱스처럼 쓰고 싶으면 키 값에 '' 따옴표 붙이면 됨."
   ]
  },
  {
   "cell_type": "code",
   "execution_count": 6,
   "id": "fb725c0b",
   "metadata": {},
   "outputs": [
    {
     "data": {
      "text/plain": [
       "0    33\n",
       "1    32\n",
       "2    44\n",
       "3    42\n",
       "Name: age, dtype: int64"
      ]
     },
     "execution_count": 6,
     "metadata": {},
     "output_type": "execute_result"
    }
   ],
   "source": [
    "df.age"
   ]
  },
  {
   "cell_type": "code",
   "execution_count": 9,
   "id": "036ef516",
   "metadata": {},
   "outputs": [
    {
     "data": {
      "text/plain": [
       "0    33\n",
       "1    32\n",
       "2    44\n",
       "3    42\n",
       "Name: age, dtype: int64"
      ]
     },
     "execution_count": 9,
     "metadata": {},
     "output_type": "execute_result"
    }
   ],
   "source": [
    "df['age']"
   ]
  },
  {
   "cell_type": "code",
   "execution_count": 15,
   "id": "2b5d8874",
   "metadata": {},
   "outputs": [
    {
     "name": "stdout",
     "output_type": "stream",
     "text": [
      "   a  b  c\n",
      "0  1  1  1\n",
      "1  2  1  1\n",
      "2  3  1  1\n",
      "RangeIndex(start=0, stop=3, step=1)\n",
      "Index(['a', 'b', 'c'], dtype='object')\n",
      "   a  b  c\n",
      "0  1  3  1\n",
      "1  2  4  1\n",
      "2  3  5  1\n"
     ]
    }
   ],
   "source": [
    "a = pd.DataFrame({'a':(1,2,3), 'b':1,'c':1})\n",
    "print(a)\n",
    "print(a.index)\n",
    "print(a.columns)\n",
    "\n",
    "a['b'] = [3,4,5]\n",
    "print(a)"
   ]
  },
  {
   "cell_type": "markdown",
   "id": "bfeac34f",
   "metadata": {},
   "source": [
    "#### csv파일 데이터프레임으로 만들기 : 아파트 실거래가 파일 실습 "
   ]
  },
  {
   "cell_type": "code",
   "execution_count": 16,
   "id": "46b0585f",
   "metadata": {},
   "outputs": [
    {
     "data": {
      "text/plain": [
       "42758"
      ]
     },
     "execution_count": 16,
     "metadata": {},
     "output_type": "execute_result"
    }
   ],
   "source": [
    "df = pd.read_csv('apt.csv',encoding='cp949')\n",
    "len(df)"
   ]
  },
  {
   "cell_type": "code",
   "execution_count": 17,
   "id": "b0959e04",
   "metadata": {},
   "outputs": [
    {
     "data": {
      "text/html": [
       "<div>\n",
       "<style scoped>\n",
       "    .dataframe tbody tr th:only-of-type {\n",
       "        vertical-align: middle;\n",
       "    }\n",
       "\n",
       "    .dataframe tbody tr th {\n",
       "        vertical-align: top;\n",
       "    }\n",
       "\n",
       "    .dataframe thead th {\n",
       "        text-align: right;\n",
       "    }\n",
       "</style>\n",
       "<table border=\"1\" class=\"dataframe\">\n",
       "  <thead>\n",
       "    <tr style=\"text-align: right;\">\n",
       "      <th></th>\n",
       "      <th>지역</th>\n",
       "      <th>아파트</th>\n",
       "      <th>면적</th>\n",
       "      <th>가격</th>\n",
       "      <th>층</th>\n",
       "    </tr>\n",
       "  </thead>\n",
       "  <tbody>\n",
       "    <tr>\n",
       "      <th>0</th>\n",
       "      <td>강원도 강릉시 견소동</td>\n",
       "      <td>송정한신</td>\n",
       "      <td>59.800</td>\n",
       "      <td>10900</td>\n",
       "      <td>5</td>\n",
       "    </tr>\n",
       "    <tr>\n",
       "      <th>1</th>\n",
       "      <td>강원도 강릉시 견소동</td>\n",
       "      <td>송정한신</td>\n",
       "      <td>116.175</td>\n",
       "      <td>18500</td>\n",
       "      <td>10</td>\n",
       "    </tr>\n",
       "    <tr>\n",
       "      <th>2</th>\n",
       "      <td>강원도 강릉시 견소동</td>\n",
       "      <td>송정해변신도브래뉴아파트</td>\n",
       "      <td>84.990</td>\n",
       "      <td>25000</td>\n",
       "      <td>6</td>\n",
       "    </tr>\n",
       "    <tr>\n",
       "      <th>3</th>\n",
       "      <td>강원도 강릉시 견소동</td>\n",
       "      <td>송정해변신도브래뉴아파트</td>\n",
       "      <td>84.990</td>\n",
       "      <td>20600</td>\n",
       "      <td>3</td>\n",
       "    </tr>\n",
       "    <tr>\n",
       "      <th>4</th>\n",
       "      <td>강원도 강릉시 견소동</td>\n",
       "      <td>송정해변신도브래뉴아파트</td>\n",
       "      <td>84.990</td>\n",
       "      <td>20500</td>\n",
       "      <td>1</td>\n",
       "    </tr>\n",
       "  </tbody>\n",
       "</table>\n",
       "</div>"
      ],
      "text/plain": [
       "            지역           아파트       면적     가격   층\n",
       "0  강원도 강릉시 견소동          송정한신   59.800  10900   5\n",
       "1  강원도 강릉시 견소동          송정한신  116.175  18500  10\n",
       "2  강원도 강릉시 견소동  송정해변신도브래뉴아파트   84.990  25000   6\n",
       "3  강원도 강릉시 견소동  송정해변신도브래뉴아파트   84.990  20600   3\n",
       "4  강원도 강릉시 견소동  송정해변신도브래뉴아파트   84.990  20500   1"
      ]
     },
     "execution_count": 17,
     "metadata": {},
     "output_type": "execute_result"
    }
   ],
   "source": [
    "df.head() #csv파일에서 가장 첫번째 줄은 컬럼명이 된다. "
   ]
  },
  {
   "cell_type": "code",
   "execution_count": 18,
   "id": "bef12375",
   "metadata": {},
   "outputs": [
    {
     "data": {
      "text/html": [
       "<div>\n",
       "<style scoped>\n",
       "    .dataframe tbody tr th:only-of-type {\n",
       "        vertical-align: middle;\n",
       "    }\n",
       "\n",
       "    .dataframe tbody tr th {\n",
       "        vertical-align: top;\n",
       "    }\n",
       "\n",
       "    .dataframe thead th {\n",
       "        text-align: right;\n",
       "    }\n",
       "</style>\n",
       "<table border=\"1\" class=\"dataframe\">\n",
       "  <thead>\n",
       "    <tr style=\"text-align: right;\">\n",
       "      <th></th>\n",
       "      <th>지역</th>\n",
       "      <th>아파트</th>\n",
       "      <th>면적</th>\n",
       "      <th>가격</th>\n",
       "      <th>층</th>\n",
       "    </tr>\n",
       "  </thead>\n",
       "  <tbody>\n",
       "    <tr>\n",
       "      <th>42753</th>\n",
       "      <td>충청북도 충주시 호암동</td>\n",
       "      <td>호반현대</td>\n",
       "      <td>59.76</td>\n",
       "      <td>7000</td>\n",
       "      <td>3</td>\n",
       "    </tr>\n",
       "    <tr>\n",
       "      <th>42754</th>\n",
       "      <td>충청북도 충주시 호암동</td>\n",
       "      <td>호암리버빌(1단지)</td>\n",
       "      <td>84.68</td>\n",
       "      <td>12000</td>\n",
       "      <td>15</td>\n",
       "    </tr>\n",
       "    <tr>\n",
       "      <th>42755</th>\n",
       "      <td>충청북도 충주시 호암동</td>\n",
       "      <td>호암리버빌(1단지)</td>\n",
       "      <td>84.68</td>\n",
       "      <td>11000</td>\n",
       "      <td>7</td>\n",
       "    </tr>\n",
       "    <tr>\n",
       "      <th>42756</th>\n",
       "      <td>충청북도 충주시 호암동</td>\n",
       "      <td>호암리버빌(1단지)</td>\n",
       "      <td>84.68</td>\n",
       "      <td>12000</td>\n",
       "      <td>14</td>\n",
       "    </tr>\n",
       "    <tr>\n",
       "      <th>42757</th>\n",
       "      <td>충청북도 충주시 호암동</td>\n",
       "      <td>호암리버빌(1단지)</td>\n",
       "      <td>84.68</td>\n",
       "      <td>11200</td>\n",
       "      <td>11</td>\n",
       "    </tr>\n",
       "  </tbody>\n",
       "</table>\n",
       "</div>"
      ],
      "text/plain": [
       "                 지역         아파트     면적     가격   층\n",
       "42753  충청북도 충주시 호암동        호반현대  59.76   7000   3\n",
       "42754  충청북도 충주시 호암동  호암리버빌(1단지)  84.68  12000  15\n",
       "42755  충청북도 충주시 호암동  호암리버빌(1단지)  84.68  11000   7\n",
       "42756  충청북도 충주시 호암동  호암리버빌(1단지)  84.68  12000  14\n",
       "42757  충청북도 충주시 호암동  호암리버빌(1단지)  84.68  11200  11"
      ]
     },
     "execution_count": 18,
     "metadata": {},
     "output_type": "execute_result"
    }
   ],
   "source": [
    "df.tail()"
   ]
  },
  {
   "cell_type": "code",
   "execution_count": 22,
   "id": "672ef94a",
   "metadata": {},
   "outputs": [
    {
     "data": {
      "text/plain": [
       "42753    충청북도 충주시 호암동\n",
       "42754    충청북도 충주시 호암동\n",
       "42755    충청북도 충주시 호암동\n",
       "42756    충청북도 충주시 호암동\n",
       "42757    충청북도 충주시 호암동\n",
       "Name: 지역, dtype: object"
      ]
     },
     "execution_count": 22,
     "metadata": {},
     "output_type": "execute_result"
    }
   ],
   "source": [
    "df.지역.tail() # 원하는 값만 가져올 수 있음. "
   ]
  },
  {
   "cell_type": "markdown",
   "id": "74d8b8cc",
   "metadata": {},
   "source": [
    "#### 조건별로 출력하기 "
   ]
  },
  {
   "cell_type": "code",
   "execution_count": 23,
   "id": "8ba1f133",
   "metadata": {},
   "outputs": [
    {
     "data": {
      "text/html": [
       "<div>\n",
       "<style scoped>\n",
       "    .dataframe tbody tr th:only-of-type {\n",
       "        vertical-align: middle;\n",
       "    }\n",
       "\n",
       "    .dataframe tbody tr th {\n",
       "        vertical-align: top;\n",
       "    }\n",
       "\n",
       "    .dataframe thead th {\n",
       "        text-align: right;\n",
       "    }\n",
       "</style>\n",
       "<table border=\"1\" class=\"dataframe\">\n",
       "  <thead>\n",
       "    <tr style=\"text-align: right;\">\n",
       "      <th></th>\n",
       "      <th>지역</th>\n",
       "      <th>아파트</th>\n",
       "      <th>면적</th>\n",
       "      <th>가격</th>\n",
       "      <th>층</th>\n",
       "    </tr>\n",
       "  </thead>\n",
       "  <tbody>\n",
       "    <tr>\n",
       "      <th>6</th>\n",
       "      <td>강원도 강릉시 교동</td>\n",
       "      <td>강릉교동롯데캐슬1단지</td>\n",
       "      <td>135.1727</td>\n",
       "      <td>34300</td>\n",
       "      <td>9</td>\n",
       "    </tr>\n",
       "    <tr>\n",
       "      <th>39</th>\n",
       "      <td>강원도 강릉시 남문동</td>\n",
       "      <td>삼익그린맨션</td>\n",
       "      <td>164.7540</td>\n",
       "      <td>21000</td>\n",
       "      <td>12</td>\n",
       "    </tr>\n",
       "    <tr>\n",
       "      <th>334</th>\n",
       "      <td>강원도 속초시 금호동</td>\n",
       "      <td>보람레이크더하임</td>\n",
       "      <td>156.7600</td>\n",
       "      <td>29500</td>\n",
       "      <td>1</td>\n",
       "    </tr>\n",
       "    <tr>\n",
       "      <th>433</th>\n",
       "      <td>강원도 원주시 개운동</td>\n",
       "      <td>원주힐스테이트</td>\n",
       "      <td>133.9912</td>\n",
       "      <td>26000</td>\n",
       "      <td>16</td>\n",
       "    </tr>\n",
       "    <tr>\n",
       "      <th>434</th>\n",
       "      <td>강원도 원주시 개운동</td>\n",
       "      <td>원주힐스테이트</td>\n",
       "      <td>137.4292</td>\n",
       "      <td>24000</td>\n",
       "      <td>14</td>\n",
       "    </tr>\n",
       "  </tbody>\n",
       "</table>\n",
       "</div>"
      ],
      "text/plain": [
       "              지역          아파트        면적     가격   층\n",
       "6     강원도 강릉시 교동  강릉교동롯데캐슬1단지  135.1727  34300   9\n",
       "39   강원도 강릉시 남문동       삼익그린맨션  164.7540  21000  12\n",
       "334  강원도 속초시 금호동     보람레이크더하임  156.7600  29500   1\n",
       "433  강원도 원주시 개운동      원주힐스테이트  133.9912  26000  16\n",
       "434  강원도 원주시 개운동      원주힐스테이트  137.4292  24000  14"
      ]
     },
     "execution_count": 23,
     "metadata": {},
     "output_type": "execute_result"
    }
   ],
   "source": [
    "df[df.면적 > 130].head()"
   ]
  },
  {
   "cell_type": "code",
   "execution_count": 28,
   "id": "5510e799",
   "metadata": {},
   "outputs": [
    {
     "name": "stdout",
     "output_type": "stream",
     "text": [
      "6        34300\n",
      "39       21000\n",
      "334      29500\n",
      "433      26000\n",
      "434      24000\n",
      "         ...  \n",
      "42595    15000\n",
      "42607    18500\n",
      "42663    31500\n",
      "42736    18500\n",
      "42737    16200\n",
      "Name: 가격, Length: 1567, dtype: int64\n",
      "862      14900\n",
      "927      13800\n",
      "16785    14700\n",
      "36733    14700\n",
      "37726    13700\n",
      "38811    14600\n",
      "39487    12000\n",
      "40680    12500\n",
      "41173    14000\n",
      "41578    13000\n",
      "Name: 가격, dtype: int64\n",
      "0        10900\n",
      "6        34300\n",
      "35        4600\n",
      "36       13200\n",
      "37       14700\n",
      "         ...  \n",
      "42753     7000\n",
      "42754    12000\n",
      "42755    11000\n",
      "42756    12000\n",
      "42757    11200\n",
      "Name: 가격, Length: 11499, dtype: int64\n"
     ]
    }
   ],
   "source": [
    "\n",
    "\n",
    "#조건에 맞는 특정 컬럼 뽑기 \n",
    "print(df.가격[(df.면적 > 130)])\n",
    "\n",
    "#추가 합조건 \"&\"로 추가 가능 \n",
    "print(df.가격[(df.면적 > 130) & (df.가격 < 15000)])\n",
    "\n",
    "# 추가 곱조건은 | 로 가능 \n",
    "print(df.가격[(df.면적 > 130) | (df.가격 < 15000)])"
   ]
  },
  {
   "cell_type": "code",
   "execution_count": 29,
   "id": "4ee31eef",
   "metadata": {},
   "outputs": [
    {
     "data": {
      "text/html": [
       "<div>\n",
       "<style scoped>\n",
       "    .dataframe tbody tr th:only-of-type {\n",
       "        vertical-align: middle;\n",
       "    }\n",
       "\n",
       "    .dataframe tbody tr th {\n",
       "        vertical-align: top;\n",
       "    }\n",
       "\n",
       "    .dataframe thead th {\n",
       "        text-align: right;\n",
       "    }\n",
       "</style>\n",
       "<table border=\"1\" class=\"dataframe\">\n",
       "  <thead>\n",
       "    <tr style=\"text-align: right;\">\n",
       "      <th></th>\n",
       "      <th>아파트</th>\n",
       "      <th>가격</th>\n",
       "    </tr>\n",
       "  </thead>\n",
       "  <tbody>\n",
       "    <tr>\n",
       "      <th>0</th>\n",
       "      <td>송정한신</td>\n",
       "      <td>10900</td>\n",
       "    </tr>\n",
       "    <tr>\n",
       "      <th>1</th>\n",
       "      <td>송정한신</td>\n",
       "      <td>18500</td>\n",
       "    </tr>\n",
       "    <tr>\n",
       "      <th>2</th>\n",
       "      <td>송정해변신도브래뉴아파트</td>\n",
       "      <td>25000</td>\n",
       "    </tr>\n",
       "    <tr>\n",
       "      <th>3</th>\n",
       "      <td>송정해변신도브래뉴아파트</td>\n",
       "      <td>20600</td>\n",
       "    </tr>\n",
       "    <tr>\n",
       "      <th>4</th>\n",
       "      <td>송정해변신도브래뉴아파트</td>\n",
       "      <td>20500</td>\n",
       "    </tr>\n",
       "    <tr>\n",
       "      <th>5</th>\n",
       "      <td>강릉 교동 풍림아이원 아파트</td>\n",
       "      <td>29200</td>\n",
       "    </tr>\n",
       "    <tr>\n",
       "      <th>6</th>\n",
       "      <td>강릉교동롯데캐슬1단지</td>\n",
       "      <td>34300</td>\n",
       "    </tr>\n",
       "    <tr>\n",
       "      <th>7</th>\n",
       "      <td>강릉교동롯데캐슬2단지</td>\n",
       "      <td>32500</td>\n",
       "    </tr>\n",
       "    <tr>\n",
       "      <th>8</th>\n",
       "      <td>교동1주공</td>\n",
       "      <td>16200</td>\n",
       "    </tr>\n",
       "    <tr>\n",
       "      <th>9</th>\n",
       "      <td>교동1주공</td>\n",
       "      <td>21550</td>\n",
       "    </tr>\n",
       "    <tr>\n",
       "      <th>10</th>\n",
       "      <td>교동1주공</td>\n",
       "      <td>21800</td>\n",
       "    </tr>\n",
       "  </tbody>\n",
       "</table>\n",
       "</div>"
      ],
      "text/plain": [
       "                아파트     가격\n",
       "0              송정한신  10900\n",
       "1              송정한신  18500\n",
       "2      송정해변신도브래뉴아파트  25000\n",
       "3      송정해변신도브래뉴아파트  20600\n",
       "4      송정해변신도브래뉴아파트  20500\n",
       "5   강릉 교동 풍림아이원 아파트  29200\n",
       "6       강릉교동롯데캐슬1단지  34300\n",
       "7       강릉교동롯데캐슬2단지  32500\n",
       "8             교동1주공  16200\n",
       "9             교동1주공  21550\n",
       "10            교동1주공  21800"
      ]
     },
     "execution_count": 29,
     "metadata": {},
     "output_type": "execute_result"
    }
   ],
   "source": [
    "#원하는 자료만 살펴보기 : 정교하게 조건 추가 원할 때 loc사용\n",
    "# df.loc[원하는 행의 조건, 원하는 열의 조건]\n",
    "\n",
    "#ex. 아파트와 가격 10번까지만 보고 싶음. \n",
    "\n",
    "df.loc[:10,['아파트','가격']] #컬럼 이름을 리스트로 묶어줌. / 정말 많이 사용. "
   ]
  },
  {
   "cell_type": "code",
   "execution_count": 31,
   "id": "7d81b3d3",
   "metadata": {},
   "outputs": [
    {
     "data": {
      "text/html": [
       "<div>\n",
       "<style scoped>\n",
       "    .dataframe tbody tr th:only-of-type {\n",
       "        vertical-align: middle;\n",
       "    }\n",
       "\n",
       "    .dataframe tbody tr th {\n",
       "        vertical-align: top;\n",
       "    }\n",
       "\n",
       "    .dataframe thead th {\n",
       "        text-align: right;\n",
       "    }\n",
       "</style>\n",
       "<table border=\"1\" class=\"dataframe\">\n",
       "  <thead>\n",
       "    <tr style=\"text-align: right;\">\n",
       "      <th></th>\n",
       "      <th>아파트</th>\n",
       "      <th>가격</th>\n",
       "    </tr>\n",
       "  </thead>\n",
       "  <tbody>\n",
       "    <tr>\n",
       "      <th>382</th>\n",
       "      <td>속초청호아이파크</td>\n",
       "      <td>45800</td>\n",
       "    </tr>\n",
       "    <tr>\n",
       "      <th>541</th>\n",
       "      <td>무실e-편한세상</td>\n",
       "      <td>44600</td>\n",
       "    </tr>\n",
       "    <tr>\n",
       "      <th>592</th>\n",
       "      <td>원주반곡아이파크</td>\n",
       "      <td>40700</td>\n",
       "    </tr>\n",
       "    <tr>\n",
       "      <th>842</th>\n",
       "      <td>온의 롯데캐슬 스카이클래스</td>\n",
       "      <td>44000</td>\n",
       "    </tr>\n",
       "    <tr>\n",
       "      <th>843</th>\n",
       "      <td>온의 롯데캐슬 스카이클래스</td>\n",
       "      <td>42900</td>\n",
       "    </tr>\n",
       "    <tr>\n",
       "      <th>...</th>\n",
       "      <td>...</td>\n",
       "      <td>...</td>\n",
       "    </tr>\n",
       "    <tr>\n",
       "      <th>42364</th>\n",
       "      <td>신영지웰시티 1차</td>\n",
       "      <td>47700</td>\n",
       "    </tr>\n",
       "    <tr>\n",
       "      <th>42365</th>\n",
       "      <td>신영지웰시티 1차</td>\n",
       "      <td>46000</td>\n",
       "    </tr>\n",
       "    <tr>\n",
       "      <th>42366</th>\n",
       "      <td>신영지웰시티 1차</td>\n",
       "      <td>55800</td>\n",
       "    </tr>\n",
       "    <tr>\n",
       "      <th>42367</th>\n",
       "      <td>신영지웰시티 1차</td>\n",
       "      <td>67000</td>\n",
       "    </tr>\n",
       "    <tr>\n",
       "      <th>42424</th>\n",
       "      <td>봉명아이파크</td>\n",
       "      <td>49000</td>\n",
       "    </tr>\n",
       "  </tbody>\n",
       "</table>\n",
       "<p>10486 rows × 2 columns</p>\n",
       "</div>"
      ],
      "text/plain": [
       "                  아파트     가격\n",
       "382          속초청호아이파크  45800\n",
       "541          무실e-편한세상  44600\n",
       "592          원주반곡아이파크  40700\n",
       "842    온의 롯데캐슬 스카이클래스  44000\n",
       "843    온의 롯데캐슬 스카이클래스  42900\n",
       "...               ...    ...\n",
       "42364       신영지웰시티 1차  47700\n",
       "42365       신영지웰시티 1차  46000\n",
       "42366       신영지웰시티 1차  55800\n",
       "42367       신영지웰시티 1차  67000\n",
       "42424          봉명아이파크  49000\n",
       "\n",
       "[10486 rows x 2 columns]"
      ]
     },
     "execution_count": 31,
     "metadata": {},
     "output_type": "execute_result"
    }
   ],
   "source": [
    "#필터링 : 4억원을 초과하는 데이터 중 아파트와 가격만 출력 \n",
    "\n",
    "df.loc[:,['아파트','가격']][df.가격 > 40000] "
   ]
  },
  {
   "cell_type": "code",
   "execution_count": 33,
   "id": "3a1fcf72",
   "metadata": {},
   "outputs": [
    {
     "data": {
      "text/html": [
       "<div>\n",
       "<style scoped>\n",
       "    .dataframe tbody tr th:only-of-type {\n",
       "        vertical-align: middle;\n",
       "    }\n",
       "\n",
       "    .dataframe tbody tr th {\n",
       "        vertical-align: top;\n",
       "    }\n",
       "\n",
       "    .dataframe thead th {\n",
       "        text-align: right;\n",
       "    }\n",
       "</style>\n",
       "<table border=\"1\" class=\"dataframe\">\n",
       "  <thead>\n",
       "    <tr style=\"text-align: right;\">\n",
       "      <th></th>\n",
       "      <th>지역</th>\n",
       "      <th>아파트</th>\n",
       "      <th>면적</th>\n",
       "      <th>가격</th>\n",
       "      <th>층</th>\n",
       "    </tr>\n",
       "  </thead>\n",
       "  <tbody>\n",
       "    <tr>\n",
       "      <th>55</th>\n",
       "      <td>강원도 강릉시 노암동</td>\n",
       "      <td>신화</td>\n",
       "      <td>84.9540</td>\n",
       "      <td>13700</td>\n",
       "      <td>1</td>\n",
       "    </tr>\n",
       "    <tr>\n",
       "      <th>56</th>\n",
       "      <td>강원도 강릉시 노암동</td>\n",
       "      <td>양우내안애</td>\n",
       "      <td>114.6085</td>\n",
       "      <td>24800</td>\n",
       "      <td>12</td>\n",
       "    </tr>\n",
       "    <tr>\n",
       "      <th>57</th>\n",
       "      <td>강원도 강릉시 노암동</td>\n",
       "      <td>양우내안애</td>\n",
       "      <td>114.6085</td>\n",
       "      <td>24800</td>\n",
       "      <td>7</td>\n",
       "    </tr>\n",
       "    <tr>\n",
       "      <th>58</th>\n",
       "      <td>강원도 강릉시 노암동</td>\n",
       "      <td>양우내안애</td>\n",
       "      <td>59.6927</td>\n",
       "      <td>16800</td>\n",
       "      <td>12</td>\n",
       "    </tr>\n",
       "  </tbody>\n",
       "</table>\n",
       "</div>"
      ],
      "text/plain": [
       "             지역    아파트        면적     가격   층\n",
       "55  강원도 강릉시 노암동     신화   84.9540  13700   1\n",
       "56  강원도 강릉시 노암동  양우내안애  114.6085  24800  12\n",
       "57  강원도 강릉시 노암동  양우내안애  114.6085  24800   7\n",
       "58  강원도 강릉시 노암동  양우내안애   59.6927  16800  12"
      ]
     },
     "execution_count": 33,
     "metadata": {},
     "output_type": "execute_result"
    }
   ],
   "source": [
    "df.iloc[55:59] # 인덱스 번호로 원하는 값만 가져올 수 있음. 슬라이싱도 가능."
   ]
  },
  {
   "cell_type": "markdown",
   "id": "0df3f3a5",
   "metadata": {},
   "source": [
    "#### 새로운 값 추가하기\n",
    "\n",
    "- 새로운 컬럼 이름 넣고 값을 넣으면 만들어짐. \n",
    "\n",
    "> df['새로운 컬럼 이름'] = 값"
   ]
  },
  {
   "cell_type": "code",
   "execution_count": 34,
   "id": "3ab7e7da",
   "metadata": {},
   "outputs": [
    {
     "data": {
      "text/html": [
       "<div>\n",
       "<style scoped>\n",
       "    .dataframe tbody tr th:only-of-type {\n",
       "        vertical-align: middle;\n",
       "    }\n",
       "\n",
       "    .dataframe tbody tr th {\n",
       "        vertical-align: top;\n",
       "    }\n",
       "\n",
       "    .dataframe thead th {\n",
       "        text-align: right;\n",
       "    }\n",
       "</style>\n",
       "<table border=\"1\" class=\"dataframe\">\n",
       "  <thead>\n",
       "    <tr style=\"text-align: right;\">\n",
       "      <th></th>\n",
       "      <th>가격</th>\n",
       "      <th>면적</th>\n",
       "      <th>단가</th>\n",
       "    </tr>\n",
       "  </thead>\n",
       "  <tbody>\n",
       "    <tr>\n",
       "      <th>0</th>\n",
       "      <td>10900</td>\n",
       "      <td>59.8000</td>\n",
       "      <td>182.274247</td>\n",
       "    </tr>\n",
       "    <tr>\n",
       "      <th>1</th>\n",
       "      <td>18500</td>\n",
       "      <td>116.1750</td>\n",
       "      <td>159.242522</td>\n",
       "    </tr>\n",
       "    <tr>\n",
       "      <th>2</th>\n",
       "      <td>25000</td>\n",
       "      <td>84.9900</td>\n",
       "      <td>294.152253</td>\n",
       "    </tr>\n",
       "    <tr>\n",
       "      <th>3</th>\n",
       "      <td>20600</td>\n",
       "      <td>84.9900</td>\n",
       "      <td>242.381457</td>\n",
       "    </tr>\n",
       "    <tr>\n",
       "      <th>4</th>\n",
       "      <td>20500</td>\n",
       "      <td>84.9900</td>\n",
       "      <td>241.204848</td>\n",
       "    </tr>\n",
       "    <tr>\n",
       "      <th>5</th>\n",
       "      <td>29200</td>\n",
       "      <td>84.9964</td>\n",
       "      <td>343.543962</td>\n",
       "    </tr>\n",
       "    <tr>\n",
       "      <th>6</th>\n",
       "      <td>34300</td>\n",
       "      <td>135.1727</td>\n",
       "      <td>253.749463</td>\n",
       "    </tr>\n",
       "    <tr>\n",
       "      <th>7</th>\n",
       "      <td>32500</td>\n",
       "      <td>118.0686</td>\n",
       "      <td>275.263703</td>\n",
       "    </tr>\n",
       "    <tr>\n",
       "      <th>8</th>\n",
       "      <td>16200</td>\n",
       "      <td>59.8900</td>\n",
       "      <td>270.495909</td>\n",
       "    </tr>\n",
       "    <tr>\n",
       "      <th>9</th>\n",
       "      <td>21550</td>\n",
       "      <td>84.8400</td>\n",
       "      <td>254.007544</td>\n",
       "    </tr>\n",
       "    <tr>\n",
       "      <th>10</th>\n",
       "      <td>21800</td>\n",
       "      <td>84.8400</td>\n",
       "      <td>256.954267</td>\n",
       "    </tr>\n",
       "  </tbody>\n",
       "</table>\n",
       "</div>"
      ],
      "text/plain": [
       "       가격        면적          단가\n",
       "0   10900   59.8000  182.274247\n",
       "1   18500  116.1750  159.242522\n",
       "2   25000   84.9900  294.152253\n",
       "3   20600   84.9900  242.381457\n",
       "4   20500   84.9900  241.204848\n",
       "5   29200   84.9964  343.543962\n",
       "6   34300  135.1727  253.749463\n",
       "7   32500  118.0686  275.263703\n",
       "8   16200   59.8900  270.495909\n",
       "9   21550   84.8400  254.007544\n",
       "10  21800   84.8400  256.954267"
      ]
     },
     "execution_count": 34,
     "metadata": {},
     "output_type": "execute_result"
    }
   ],
   "source": [
    "df['단가'] = df.가격 / df.면적 \n",
    "\n",
    "df.loc[:10, ['가격','면적','단가']]"
   ]
  },
  {
   "cell_type": "markdown",
   "id": "b7372574",
   "metadata": {},
   "source": [
    "#### sort() 데이터 정렬 "
   ]
  },
  {
   "cell_type": "code",
   "execution_count": 40,
   "id": "a2517fc6",
   "metadata": {},
   "outputs": [
    {
     "data": {
      "text/html": [
       "<div>\n",
       "<style scoped>\n",
       "    .dataframe tbody tr th:only-of-type {\n",
       "        vertical-align: middle;\n",
       "    }\n",
       "\n",
       "    .dataframe tbody tr th {\n",
       "        vertical-align: top;\n",
       "    }\n",
       "\n",
       "    .dataframe thead th {\n",
       "        text-align: right;\n",
       "    }\n",
       "</style>\n",
       "<table border=\"1\" class=\"dataframe\">\n",
       "  <thead>\n",
       "    <tr style=\"text-align: right;\">\n",
       "      <th></th>\n",
       "      <th>지역</th>\n",
       "      <th>아파트</th>\n",
       "      <th>가격</th>\n",
       "    </tr>\n",
       "  </thead>\n",
       "  <tbody>\n",
       "    <tr>\n",
       "      <th>17024</th>\n",
       "      <td>경상북도 구미시 원평동</td>\n",
       "      <td>원평주공</td>\n",
       "      <td>600</td>\n",
       "    </tr>\n",
       "    <tr>\n",
       "      <th>17022</th>\n",
       "      <td>경상북도 구미시 원평동</td>\n",
       "      <td>원평주공</td>\n",
       "      <td>700</td>\n",
       "    </tr>\n",
       "    <tr>\n",
       "      <th>17637</th>\n",
       "      <td>경상북도 칠곡군 약목면 관호리</td>\n",
       "      <td>성재</td>\n",
       "      <td>750</td>\n",
       "    </tr>\n",
       "    <tr>\n",
       "      <th>17031</th>\n",
       "      <td>경상북도 구미시 원평동</td>\n",
       "      <td>원평주공</td>\n",
       "      <td>800</td>\n",
       "    </tr>\n",
       "    <tr>\n",
       "      <th>17027</th>\n",
       "      <td>경상북도 구미시 원평동</td>\n",
       "      <td>원평주공</td>\n",
       "      <td>800</td>\n",
       "    </tr>\n",
       "    <tr>\n",
       "      <th>...</th>\n",
       "      <td>...</td>\n",
       "      <td>...</td>\n",
       "      <td>...</td>\n",
       "    </tr>\n",
       "    <tr>\n",
       "      <th>36407</th>\n",
       "      <td>전라남도 광양시 광양읍 덕례리</td>\n",
       "      <td>수시아</td>\n",
       "      <td>21800</td>\n",
       "    </tr>\n",
       "    <tr>\n",
       "      <th>32991</th>\n",
       "      <td>울산광역시 북구 연암동</td>\n",
       "      <td>벽산늘푸른</td>\n",
       "      <td>21800</td>\n",
       "    </tr>\n",
       "    <tr>\n",
       "      <th>32554</th>\n",
       "      <td>울산광역시 남구 야음동</td>\n",
       "      <td>신정현대홈타운(2)</td>\n",
       "      <td>21800</td>\n",
       "    </tr>\n",
       "    <tr>\n",
       "      <th>11173</th>\n",
       "      <td>경기도 의정부시 장암동</td>\n",
       "      <td>신곡우성</td>\n",
       "      <td>21800</td>\n",
       "    </tr>\n",
       "    <tr>\n",
       "      <th>10</th>\n",
       "      <td>강원도 강릉시 교동</td>\n",
       "      <td>교동1주공</td>\n",
       "      <td>21800</td>\n",
       "    </tr>\n",
       "  </tbody>\n",
       "</table>\n",
       "<p>17537 rows × 3 columns</p>\n",
       "</div>"
      ],
      "text/plain": [
       "                     지역         아파트     가격\n",
       "17024      경상북도 구미시 원평동        원평주공    600\n",
       "17022      경상북도 구미시 원평동        원평주공    700\n",
       "17637  경상북도 칠곡군 약목면 관호리          성재    750\n",
       "17031      경상북도 구미시 원평동        원평주공    800\n",
       "17027      경상북도 구미시 원평동        원평주공    800\n",
       "...                 ...         ...    ...\n",
       "36407  전라남도 광양시 광양읍 덕례리         수시아  21800\n",
       "32991      울산광역시 북구 연암동       벽산늘푸른  21800\n",
       "32554      울산광역시 남구 야음동  신정현대홈타운(2)  21800\n",
       "11173      경기도 의정부시 장암동        신곡우성  21800\n",
       "10           강원도 강릉시 교동       교동1주공  21800\n",
       "\n",
       "[17537 rows x 3 columns]"
      ]
     },
     "execution_count": 40,
     "metadata": {},
     "output_type": "execute_result"
    }
   ],
   "source": [
    "#ascending 오름차순 \n",
    "\n",
    "df.sort_values(by= '가격').loc[:10, ('지역','아파트','가격')]"
   ]
  },
  {
   "cell_type": "code",
   "execution_count": 41,
   "id": "63a98ef1",
   "metadata": {},
   "outputs": [
    {
     "data": {
      "text/html": [
       "<div>\n",
       "<style scoped>\n",
       "    .dataframe tbody tr th:only-of-type {\n",
       "        vertical-align: middle;\n",
       "    }\n",
       "\n",
       "    .dataframe tbody tr th {\n",
       "        vertical-align: top;\n",
       "    }\n",
       "\n",
       "    .dataframe thead th {\n",
       "        text-align: right;\n",
       "    }\n",
       "</style>\n",
       "<table border=\"1\" class=\"dataframe\">\n",
       "  <thead>\n",
       "    <tr style=\"text-align: right;\">\n",
       "      <th></th>\n",
       "      <th>가격</th>\n",
       "      <th>면적</th>\n",
       "      <th>지역</th>\n",
       "    </tr>\n",
       "  </thead>\n",
       "  <tbody>\n",
       "    <tr>\n",
       "      <th>30111</th>\n",
       "      <td>90000</td>\n",
       "      <td>25.3284</td>\n",
       "      <td>서울특별시 성동구 성수동1가</td>\n",
       "    </tr>\n",
       "    <tr>\n",
       "      <th>27124</th>\n",
       "      <td>74000</td>\n",
       "      <td>28.2460</td>\n",
       "      <td>서울특별시 강남구 역삼동</td>\n",
       "    </tr>\n",
       "    <tr>\n",
       "      <th>27122</th>\n",
       "      <td>74500</td>\n",
       "      <td>28.2460</td>\n",
       "      <td>서울특별시 강남구 역삼동</td>\n",
       "    </tr>\n",
       "    <tr>\n",
       "      <th>27123</th>\n",
       "      <td>76000</td>\n",
       "      <td>28.2460</td>\n",
       "      <td>서울특별시 강남구 역삼동</td>\n",
       "    </tr>\n",
       "    <tr>\n",
       "      <th>29725</th>\n",
       "      <td>43500</td>\n",
       "      <td>30.0100</td>\n",
       "      <td>서울특별시 마포구 아현동</td>\n",
       "    </tr>\n",
       "    <tr>\n",
       "      <th>...</th>\n",
       "      <td>...</td>\n",
       "      <td>...</td>\n",
       "      <td>...</td>\n",
       "    </tr>\n",
       "    <tr>\n",
       "      <th>27118</th>\n",
       "      <td>245000</td>\n",
       "      <td>242.8200</td>\n",
       "      <td>서울특별시 강남구 역삼동</td>\n",
       "    </tr>\n",
       "    <tr>\n",
       "      <th>30002</th>\n",
       "      <td>206000</td>\n",
       "      <td>244.4200</td>\n",
       "      <td>서울특별시 서초구 서초동</td>\n",
       "    </tr>\n",
       "    <tr>\n",
       "      <th>10106</th>\n",
       "      <td>100000</td>\n",
       "      <td>244.6630</td>\n",
       "      <td>경기도 용인수지구 성복동</td>\n",
       "    </tr>\n",
       "    <tr>\n",
       "      <th>31501</th>\n",
       "      <td>240000</td>\n",
       "      <td>273.8200</td>\n",
       "      <td>서울특별시 중구 신당동</td>\n",
       "    </tr>\n",
       "    <tr>\n",
       "      <th>35826</th>\n",
       "      <td>300000</td>\n",
       "      <td>291.3360</td>\n",
       "      <td>인천광역시 연수구 송도동</td>\n",
       "    </tr>\n",
       "  </tbody>\n",
       "</table>\n",
       "<p>10486 rows × 3 columns</p>\n",
       "</div>"
      ],
      "text/plain": [
       "           가격        면적               지역\n",
       "30111   90000   25.3284  서울특별시 성동구 성수동1가\n",
       "27124   74000   28.2460    서울특별시 강남구 역삼동\n",
       "27122   74500   28.2460    서울특별시 강남구 역삼동\n",
       "27123   76000   28.2460    서울특별시 강남구 역삼동\n",
       "29725   43500   30.0100    서울특별시 마포구 아현동\n",
       "...       ...       ...              ...\n",
       "27118  245000  242.8200    서울특별시 강남구 역삼동\n",
       "30002  206000  244.4200    서울특별시 서초구 서초동\n",
       "10106  100000  244.6630    경기도 용인수지구 성복동\n",
       "31501  240000  273.8200     서울특별시 중구 신당동\n",
       "35826  300000  291.3360    인천광역시 연수구 송도동\n",
       "\n",
       "[10486 rows x 3 columns]"
      ]
     },
     "execution_count": 41,
     "metadata": {},
     "output_type": "execute_result"
    }
   ],
   "source": [
    "#가격이 40000 초과인 데이터를 면적을 기준으로 정렬하고 거기서 가격,면적,지역만 추출\n",
    "\n",
    "df[df.가격 > 40000].sort_values(by = '면적').loc[:, ('가격','면적','지역')]"
   ]
  },
  {
   "cell_type": "markdown",
   "id": "cc72a2a0",
   "metadata": {},
   "source": [
    "#### 특정한 문자를 포함하는 열 추출\n",
    "\n",
    "- find : 해당 문자열의 인덱스 번호를 리턴해줌."
   ]
  },
  {
   "cell_type": "code",
   "execution_count": 42,
   "id": "d0342797",
   "metadata": {},
   "outputs": [
    {
     "data": {
      "text/plain": [
       "0        4\n",
       "1        4\n",
       "2        4\n",
       "3        4\n",
       "4        4\n",
       "        ..\n",
       "42753   -1\n",
       "42754   -1\n",
       "42755   -1\n",
       "42756   -1\n",
       "42757   -1\n",
       "Name: 지역, Length: 42758, dtype: int64"
      ]
     },
     "execution_count": 42,
     "metadata": {},
     "output_type": "execute_result"
    }
   ],
   "source": [
    "#강릉이 들어간 데이터가 있는 열의 인덱스 출력 \n",
    "# 찾는 문자열이 없으면 '-1' 반환할 것 \n",
    "\n",
    "df.지역.str.find('강릉')"
   ]
  },
  {
   "cell_type": "code",
   "execution_count": 43,
   "id": "5c12f9af",
   "metadata": {},
   "outputs": [
    {
     "name": "stderr",
     "output_type": "stream",
     "text": [
      "C:\\Users\\admin\\AppData\\Local\\Temp\\ipykernel_17464\\1010281142.py:5: FutureWarning: Dropping of nuisance columns in DataFrame reductions (with 'numeric_only=None') is deprecated; in a future version this will raise TypeError.  Select only valid columns before calling the reduction.\n",
      "  dfF.mean()\n"
     ]
    },
    {
     "data": {
      "text/plain": [
       "면적       70.477802\n",
       "가격    15414.574468\n",
       "층         7.420213\n",
       "단가      209.942161\n",
       "dtype: float64"
      ]
     },
     "execution_count": 43,
     "metadata": {},
     "output_type": "execute_result"
    }
   ],
   "source": [
    "#평균치 구하기 \n",
    "\n",
    "dfF = df[df.지역.str.find('강릉') > -1]\n",
    "\n",
    "dfF.mean()"
   ]
  },
  {
   "cell_type": "code",
   "execution_count": 44,
   "id": "3b6804ab",
   "metadata": {},
   "outputs": [
    {
     "data": {
      "text/html": [
       "<div>\n",
       "<style scoped>\n",
       "    .dataframe tbody tr th:only-of-type {\n",
       "        vertical-align: middle;\n",
       "    }\n",
       "\n",
       "    .dataframe tbody tr th {\n",
       "        vertical-align: top;\n",
       "    }\n",
       "\n",
       "    .dataframe thead th {\n",
       "        text-align: right;\n",
       "    }\n",
       "</style>\n",
       "<table border=\"1\" class=\"dataframe\">\n",
       "  <thead>\n",
       "    <tr style=\"text-align: right;\">\n",
       "      <th></th>\n",
       "      <th>sex</th>\n",
       "      <th>income</th>\n",
       "      <th>English</th>\n",
       "      <th>jobSatisfaction</th>\n",
       "      <th>stress</th>\n",
       "    </tr>\n",
       "  </thead>\n",
       "  <tbody>\n",
       "    <tr>\n",
       "      <th>0</th>\n",
       "      <td>m</td>\n",
       "      <td>3000</td>\n",
       "      <td>500</td>\n",
       "      <td>5</td>\n",
       "      <td>5</td>\n",
       "    </tr>\n",
       "    <tr>\n",
       "      <th>1</th>\n",
       "      <td>f</td>\n",
       "      <td>4000</td>\n",
       "      <td>600</td>\n",
       "      <td>4</td>\n",
       "      <td>4</td>\n",
       "    </tr>\n",
       "    <tr>\n",
       "      <th>2</th>\n",
       "      <td>f</td>\n",
       "      <td>5000</td>\n",
       "      <td>700</td>\n",
       "      <td>3</td>\n",
       "      <td>2</td>\n",
       "    </tr>\n",
       "    <tr>\n",
       "      <th>3</th>\n",
       "      <td>m</td>\n",
       "      <td>6000</td>\n",
       "      <td>800</td>\n",
       "      <td>2</td>\n",
       "      <td>2</td>\n",
       "    </tr>\n",
       "    <tr>\n",
       "      <th>4</th>\n",
       "      <td>m</td>\n",
       "      <td>4000</td>\n",
       "      <td>700</td>\n",
       "      <td>2</td>\n",
       "      <td>5</td>\n",
       "    </tr>\n",
       "  </tbody>\n",
       "</table>\n",
       "</div>"
      ],
      "text/plain": [
       "  sex  income  English  jobSatisfaction  stress\n",
       "0   m    3000      500                5       5\n",
       "1   f    4000      600                4       4\n",
       "2   f    5000      700                3       2\n",
       "3   m    6000      800                2       2\n",
       "4   m    4000      700                2       5"
      ]
     },
     "execution_count": 44,
     "metadata": {},
     "output_type": "execute_result"
    }
   ],
   "source": [
    "df2 = pd.read_csv(\"survey.csv\")\n",
    "df2.head()"
   ]
  },
  {
   "cell_type": "markdown",
   "id": "87497c6d",
   "metadata": {},
   "source": [
    "#### 통계데이터 다루기 \n",
    "\n",
    "- mean : 평균\n"
   ]
  },
  {
   "cell_type": "code",
   "execution_count": 45,
   "id": "c53d3259",
   "metadata": {},
   "outputs": [
    {
     "name": "stderr",
     "output_type": "stream",
     "text": [
      "C:\\Users\\admin\\AppData\\Local\\Temp\\ipykernel_17464\\3587575296.py:1: FutureWarning: Dropping of nuisance columns in DataFrame reductions (with 'numeric_only=None') is deprecated; in a future version this will raise TypeError.  Select only valid columns before calling the reduction.\n",
      "  df2.mean()\n"
     ]
    },
    {
     "data": {
      "text/plain": [
       "income             4304.217391\n",
       "English             608.695652\n",
       "jobSatisfaction       3.304348\n",
       "stress                3.347826\n",
       "dtype: float64"
      ]
     },
     "execution_count": 45,
     "metadata": {},
     "output_type": "execute_result"
    }
   ],
   "source": [
    "df2.mean()"
   ]
  },
  {
   "cell_type": "code",
   "execution_count": 46,
   "id": "996f8a4f",
   "metadata": {},
   "outputs": [
    {
     "data": {
      "text/plain": [
       "98997"
      ]
     },
     "execution_count": 46,
     "metadata": {},
     "output_type": "execute_result"
    }
   ],
   "source": [
    "# 특정 컬럼만 보고싶다. \n",
    "df2.income.sum()"
   ]
  },
  {
   "cell_type": "code",
   "execution_count": 48,
   "id": "cc8b53e8",
   "metadata": {},
   "outputs": [
    {
     "data": {
      "text/html": [
       "<div>\n",
       "<style scoped>\n",
       "    .dataframe tbody tr th:only-of-type {\n",
       "        vertical-align: middle;\n",
       "    }\n",
       "\n",
       "    .dataframe tbody tr th {\n",
       "        vertical-align: top;\n",
       "    }\n",
       "\n",
       "    .dataframe thead th {\n",
       "        text-align: right;\n",
       "    }\n",
       "</style>\n",
       "<table border=\"1\" class=\"dataframe\">\n",
       "  <thead>\n",
       "    <tr style=\"text-align: right;\">\n",
       "      <th></th>\n",
       "      <th>income</th>\n",
       "      <th>English</th>\n",
       "      <th>jobSatisfaction</th>\n",
       "      <th>stress</th>\n",
       "    </tr>\n",
       "  </thead>\n",
       "  <tbody>\n",
       "    <tr>\n",
       "      <th>count</th>\n",
       "      <td>23.000000</td>\n",
       "      <td>23.000000</td>\n",
       "      <td>23.000000</td>\n",
       "      <td>23.000000</td>\n",
       "    </tr>\n",
       "    <tr>\n",
       "      <th>mean</th>\n",
       "      <td>4304.217391</td>\n",
       "      <td>608.695652</td>\n",
       "      <td>3.304348</td>\n",
       "      <td>3.347826</td>\n",
       "    </tr>\n",
       "    <tr>\n",
       "      <th>std</th>\n",
       "      <td>1019.478341</td>\n",
       "      <td>99.603959</td>\n",
       "      <td>1.258960</td>\n",
       "      <td>1.433644</td>\n",
       "    </tr>\n",
       "    <tr>\n",
       "      <th>min</th>\n",
       "      <td>3000.000000</td>\n",
       "      <td>500.000000</td>\n",
       "      <td>1.000000</td>\n",
       "      <td>1.000000</td>\n",
       "    </tr>\n",
       "    <tr>\n",
       "      <th>25%</th>\n",
       "      <td>3000.000000</td>\n",
       "      <td>500.000000</td>\n",
       "      <td>2.500000</td>\n",
       "      <td>2.000000</td>\n",
       "    </tr>\n",
       "    <tr>\n",
       "      <th>50%</th>\n",
       "      <td>4999.000000</td>\n",
       "      <td>600.000000</td>\n",
       "      <td>3.000000</td>\n",
       "      <td>4.000000</td>\n",
       "    </tr>\n",
       "    <tr>\n",
       "      <th>75%</th>\n",
       "      <td>5000.000000</td>\n",
       "      <td>700.000000</td>\n",
       "      <td>4.000000</td>\n",
       "      <td>5.000000</td>\n",
       "    </tr>\n",
       "    <tr>\n",
       "      <th>max</th>\n",
       "      <td>6000.000000</td>\n",
       "      <td>800.000000</td>\n",
       "      <td>5.000000</td>\n",
       "      <td>5.000000</td>\n",
       "    </tr>\n",
       "  </tbody>\n",
       "</table>\n",
       "</div>"
      ],
      "text/plain": [
       "            income     English  jobSatisfaction     stress\n",
       "count    23.000000   23.000000        23.000000  23.000000\n",
       "mean   4304.217391  608.695652         3.304348   3.347826\n",
       "std    1019.478341   99.603959         1.258960   1.433644\n",
       "min    3000.000000  500.000000         1.000000   1.000000\n",
       "25%    3000.000000  500.000000         2.500000   2.000000\n",
       "50%    4999.000000  600.000000         3.000000   4.000000\n",
       "75%    5000.000000  700.000000         4.000000   5.000000\n",
       "max    6000.000000  800.000000         5.000000   5.000000"
      ]
     },
     "execution_count": 48,
     "metadata": {},
     "output_type": "execute_result"
    }
   ],
   "source": [
    "#기초 통계량 요약해서 출력 값의 중앙값, 통계량 확인. \n",
    "\n",
    "df2.describe()"
   ]
  },
  {
   "cell_type": "markdown",
   "id": "36219631",
   "metadata": {},
   "source": [
    "value_count : 몇번 나오는지 확인 \n",
    "\n",
    "df.gtoupby : 특정 컬럼에 대해 같은 값을 가진 원소끼리 그룹으로 묶음"
   ]
  },
  {
   "cell_type": "code",
   "execution_count": 51,
   "id": "a12edbfc",
   "metadata": {},
   "outputs": [
    {
     "data": {
      "text/html": [
       "<div>\n",
       "<style scoped>\n",
       "    .dataframe tbody tr th:only-of-type {\n",
       "        vertical-align: middle;\n",
       "    }\n",
       "\n",
       "    .dataframe tbody tr th {\n",
       "        vertical-align: top;\n",
       "    }\n",
       "\n",
       "    .dataframe thead th {\n",
       "        text-align: right;\n",
       "    }\n",
       "</style>\n",
       "<table border=\"1\" class=\"dataframe\">\n",
       "  <thead>\n",
       "    <tr style=\"text-align: right;\">\n",
       "      <th></th>\n",
       "      <th>income</th>\n",
       "      <th>English</th>\n",
       "      <th>jobSatisfaction</th>\n",
       "      <th>stress</th>\n",
       "    </tr>\n",
       "    <tr>\n",
       "      <th>sex</th>\n",
       "      <th></th>\n",
       "      <th></th>\n",
       "      <th></th>\n",
       "      <th></th>\n",
       "    </tr>\n",
       "  </thead>\n",
       "  <tbody>\n",
       "    <tr>\n",
       "      <th>f</th>\n",
       "      <td>4333.111111</td>\n",
       "      <td>633.333333</td>\n",
       "      <td>3.666667</td>\n",
       "      <td>3.111111</td>\n",
       "    </tr>\n",
       "    <tr>\n",
       "      <th>m</th>\n",
       "      <td>4285.642857</td>\n",
       "      <td>592.857143</td>\n",
       "      <td>3.071429</td>\n",
       "      <td>3.500000</td>\n",
       "    </tr>\n",
       "  </tbody>\n",
       "</table>\n",
       "</div>"
      ],
      "text/plain": [
       "          income     English  jobSatisfaction    stress\n",
       "sex                                                    \n",
       "f    4333.111111  633.333333         3.666667  3.111111\n",
       "m    4285.642857  592.857143         3.071429  3.500000"
      ]
     },
     "execution_count": 51,
     "metadata": {},
     "output_type": "execute_result"
    }
   ],
   "source": [
    "#남성 여성 나누어서 평균 구하기\n",
    "\n",
    "df2.groupby(df2.sex).mean()"
   ]
  },
  {
   "cell_type": "markdown",
   "id": "d99ac0c9",
   "metadata": {},
   "source": [
    "## 싸이파이 모듈 "
   ]
  },
  {
   "cell_type": "code",
   "execution_count": 55,
   "id": "96860966",
   "metadata": {},
   "outputs": [
    {
     "name": "stdout",
     "output_type": "stream",
     "text": [
      "p-value는 0.916194로 95퍼센트 수준에서 유의하지 않음.\n"
     ]
    }
   ],
   "source": [
    "# t검정 실행 \n",
    "\n",
    "\n",
    "from scipy import stats\n",
    "\n",
    "male = df2.income[df2.sex == 'm']\n",
    "female = df2.income[df2.sex == 'f']\n",
    "\n",
    "ttest_result = stats.ttest_ind(male,female)\n",
    "\n",
    "#pvalue = 유의확률 / 유의확률이 작을 수록 유의한 차이가 있다.\n",
    "# 0.01~0.05 사이인 경우 유의한 차이가 있다. \n",
    "# 유의하다 -> 내 연구결과가 틀릴 결과가 틀릴 가능성 \n",
    "\n",
    "if ttest_result[1] > 0.05:\n",
    "    print('p-value는 %f로 95퍼센트 수준에서 유의하지 않음.' %ttest_result[1])\n",
    "else:\n",
    "    print('p-value는 %f로 95퍼센트 수준에서 유의함.' %ttest_result[1])"
   ]
  },
  {
   "cell_type": "markdown",
   "id": "f7b5c0e8",
   "metadata": {},
   "source": [
    "#### 실전 통계 : 피어슨과 스피어만 상관관계 분석 알아보기 \n",
    "\n",
    "- 판다스의 corr() 함수 통해 상관관계 분석가능 \n",
    "\n",
    "- 특정 데이터만 보고 싶을 때 : 변수명.income.corr(변수명.원하는값)"
   ]
  },
  {
   "cell_type": "code",
   "execution_count": 57,
   "id": "79cc4d87",
   "metadata": {},
   "outputs": [
    {
     "data": {
      "text/html": [
       "<div>\n",
       "<style scoped>\n",
       "    .dataframe tbody tr th:only-of-type {\n",
       "        vertical-align: middle;\n",
       "    }\n",
       "\n",
       "    .dataframe tbody tr th {\n",
       "        vertical-align: top;\n",
       "    }\n",
       "\n",
       "    .dataframe thead th {\n",
       "        text-align: right;\n",
       "    }\n",
       "</style>\n",
       "<table border=\"1\" class=\"dataframe\">\n",
       "  <thead>\n",
       "    <tr style=\"text-align: right;\">\n",
       "      <th></th>\n",
       "      <th>income</th>\n",
       "      <th>English</th>\n",
       "      <th>jobSatisfaction</th>\n",
       "      <th>stress</th>\n",
       "    </tr>\n",
       "  </thead>\n",
       "  <tbody>\n",
       "    <tr>\n",
       "      <th>income</th>\n",
       "      <td>1.000000</td>\n",
       "      <td>0.599452</td>\n",
       "      <td>-0.040108</td>\n",
       "      <td>-0.137920</td>\n",
       "    </tr>\n",
       "    <tr>\n",
       "      <th>English</th>\n",
       "      <td>0.599452</td>\n",
       "      <td>1.000000</td>\n",
       "      <td>-0.312051</td>\n",
       "      <td>0.073351</td>\n",
       "    </tr>\n",
       "    <tr>\n",
       "      <th>jobSatisfaction</th>\n",
       "      <td>-0.040108</td>\n",
       "      <td>-0.312051</td>\n",
       "      <td>1.000000</td>\n",
       "      <td>0.165338</td>\n",
       "    </tr>\n",
       "    <tr>\n",
       "      <th>stress</th>\n",
       "      <td>-0.137920</td>\n",
       "      <td>0.073351</td>\n",
       "      <td>0.165338</td>\n",
       "      <td>1.000000</td>\n",
       "    </tr>\n",
       "  </tbody>\n",
       "</table>\n",
       "</div>"
      ],
      "text/plain": [
       "                   income   English  jobSatisfaction    stress\n",
       "income           1.000000  0.599452        -0.040108 -0.137920\n",
       "English          0.599452  1.000000        -0.312051  0.073351\n",
       "jobSatisfaction -0.040108 -0.312051         1.000000  0.165338\n",
       "stress          -0.137920  0.073351         0.165338  1.000000"
      ]
     },
     "execution_count": 57,
     "metadata": {},
     "output_type": "execute_result"
    }
   ],
   "source": [
    "corr = df2.corr()\n",
    "corr"
   ]
  },
  {
   "cell_type": "code",
   "execution_count": 58,
   "id": "958e2fa5",
   "metadata": {},
   "outputs": [],
   "source": [
    "corr.to_csv('corr.csv')"
   ]
  },
  {
   "cell_type": "markdown",
   "id": "184a0f2d",
   "metadata": {},
   "source": [
    "#### 회귀분석 알아보기\n",
    "\n",
    "- Statsmodels 패키지 임포트\n",
    "\n",
    "- formula 사용\n",
    "\n",
    "- ols()함수 통해서 회귀분석 진행 \n",
    "\n",
    ": ols(formula = '종속 변수(결과) ~ 독립 변수(원인)', data = 데이터프레임)"
   ]
  },
  {
   "cell_type": "code",
   "execution_count": 61,
   "id": "1e4d56f6",
   "metadata": {},
   "outputs": [
    {
     "name": "stdout",
     "output_type": "stream",
     "text": [
      "                            OLS Regression Results                            \n",
      "==============================================================================\n",
      "Dep. Variable:        jobSatisfaction   R-squared:                       0.097\n",
      "Model:                            OLS   Adj. R-squared:                  0.054\n",
      "Method:                 Least Squares   F-statistic:                     2.266\n",
      "Date:                Thu, 03 Nov 2022   Prob (F-statistic):              0.147\n",
      "Time:                        16:40:27   Log-Likelihood:                -36.243\n",
      "No. Observations:                  23   AIC:                             76.49\n",
      "Df Residuals:                      21   BIC:                             78.76\n",
      "Df Model:                           1                                         \n",
      "Covariance Type:            nonrobust                                         \n",
      "==============================================================================\n",
      "                 coef    std err          t      P>|t|      [0.025      0.975]\n",
      "------------------------------------------------------------------------------\n",
      "Intercept      5.7052      1.615      3.532      0.002       2.346       9.065\n",
      "English       -0.0039      0.003     -1.505      0.147      -0.009       0.002\n",
      "==============================================================================\n",
      "Omnibus:                        0.120   Durbin-Watson:                   0.777\n",
      "Prob(Omnibus):                  0.942   Jarque-Bera (JB):                0.306\n",
      "Skew:                          -0.126   Prob(JB):                        0.858\n",
      "Kurtosis:                       2.495   Cond. No.                     3.90e+03\n",
      "==============================================================================\n",
      "\n",
      "Notes:\n",
      "[1] Standard Errors assume that the covariance matrix of the errors is correctly specified.\n",
      "[2] The condition number is large, 3.9e+03. This might indicate that there are\n",
      "strong multicollinearity or other numerical problems.\n"
     ]
    }
   ],
   "source": [
    "#회귀분석 가능 패키지\n",
    "\n",
    "import statsmodels.formula.api as smf\n",
    "\n",
    "model = smf.ols(formula = 'jobSatisfaction ~ English', data = df2)\n",
    "result = model.fit()\n",
    "\n",
    "print(result.summary())"
   ]
  },
  {
   "cell_type": "markdown",
   "id": "52c8c11a",
   "metadata": {},
   "source": [
    "#### 다중 회귀 분석 \n",
    "\n",
    "smf.ols(formula = '종속 변수 ~ 독립변수 1 + ... + 독립변수n', data = 데이터프레임)\n",
    "\n"
   ]
  },
  {
   "cell_type": "code",
   "execution_count": 62,
   "id": "5ea01b32",
   "metadata": {},
   "outputs": [
    {
     "name": "stdout",
     "output_type": "stream",
     "text": [
      "                            OLS Regression Results                            \n",
      "==============================================================================\n",
      "Dep. Variable:        jobSatisfaction   R-squared:                       0.187\n",
      "Model:                            OLS   Adj. R-squared:                  0.059\n",
      "Method:                 Least Squares   F-statistic:                     1.458\n",
      "Date:                Thu, 03 Nov 2022   Prob (F-statistic):              0.258\n",
      "Time:                        16:59:39   Log-Likelihood:                -35.038\n",
      "No. Observations:                  23   AIC:                             78.08\n",
      "Df Residuals:                      19   BIC:                             82.62\n",
      "Df Model:                           3                                         \n",
      "Covariance Type:            nonrobust                                         \n",
      "==============================================================================\n",
      "                 coef    std err          t      P>|t|      [0.025      0.975]\n",
      "------------------------------------------------------------------------------\n",
      "Intercept      4.9159      1.712      2.871      0.010       1.333       8.499\n",
      "English       -0.0064      0.003     -1.931      0.069      -0.013       0.001\n",
      "stress         0.2141      0.187      1.145      0.266      -0.177       0.606\n",
      "income         0.0004      0.000      1.125      0.275      -0.000       0.001\n",
      "==============================================================================\n",
      "Omnibus:                        0.278   Durbin-Watson:                   0.989\n",
      "Prob(Omnibus):                  0.870   Jarque-Bera (JB):                0.457\n",
      "Skew:                          -0.036   Prob(JB):                        0.796\n",
      "Kurtosis:                       2.313   Cond. No.                     3.00e+04\n",
      "==============================================================================\n",
      "\n",
      "Notes:\n",
      "[1] Standard Errors assume that the covariance matrix of the errors is correctly specified.\n",
      "[2] The condition number is large,  3e+04. This might indicate that there are\n",
      "strong multicollinearity or other numerical problems.\n"
     ]
    }
   ],
   "source": [
    "\n",
    "model = smf.ols(formula = 'jobSatisfaction ~ English + stress + income', data = df2)\n",
    "result = model.fit()\n",
    "\n",
    "print(result.summary())"
   ]
  },
  {
   "cell_type": "markdown",
   "id": "29016727",
   "metadata": {},
   "source": [
    "## 맷플롯립으로 그래프 그리기 \n",
    "\n",
    "- pyplot 모듈 임포트 해서 사용하기 \n",
    "\n",
    "> 위의 회귀분석 내용을 쉽게 볼 수 있도록 시각화 할 때 사용 "
   ]
  },
  {
   "cell_type": "code",
   "execution_count": 66,
   "id": "a50c9a31",
   "metadata": {},
   "outputs": [
    {
     "data": {
      "image/png": "[encoded data removed]",
      "text/plain": [
       "<Figure size 640x480 with 1 Axes>"
      ]
     },
     "metadata": {},
     "output_type": "display_data"
    }
   ],
   "source": [
    "import matplotlib.pyplot as plt\n",
    "\n",
    "x = [1,2,3,4,5,6,7,8,9,8,7,6,5,4,3,2,1,0]\n",
    "plt.plot(x, color = 'g')\n",
    "plt.show()\n",
    "\n",
    "#그래프 모양과 색 지정하기 : plt.plot(그래프 자료, 모양 + 색)"
   ]
  },
  {
   "cell_type": "markdown",
   "id": "bb6f17a5",
   "metadata": {},
   "source": [
    "#### 그래프 만들기\n"
   ]
  },
  {
   "cell_type": "code",
   "execution_count": 67,
   "id": "696a7136",
   "metadata": {},
   "outputs": [
    {
     "name": "stdout",
     "output_type": "stream",
     "text": [
      "[0.000e+00 1.000e-02 2.000e-02 ... 1.197e+01 1.198e+01 1.199e+01]\n",
      "[ 0.          0.00999983  0.01999867 ... -0.5616433  -0.55334156\n",
      " -0.54498449]\n"
     ]
    }
   ],
   "source": [
    "import numpy as np\n",
    "\n",
    "t = np.arange(0,12,0.01)\n",
    "print(t)\n",
    "\n",
    "y = np.sin(t)\n",
    "print(y)"
   ]
  },
  {
   "cell_type": "code",
   "execution_count": 73,
   "id": "9b622940",
   "metadata": {},
   "outputs": [
    {
     "name": "stderr",
     "output_type": "stream",
     "text": [
      "No artists with labels found to put in legend.  Note that artists whose label start with an underscore are ignored when legend() is called with no argument.\n"
     ]
    },
    {
     "data": {
      "image/png": "[encoded data removed]",
      "text/plain": [
       "<Figure size 600x400 with 1 Axes>"
      ]
     },
     "metadata": {},
     "output_type": "display_data"
    }
   ],
   "source": [
    "plt.figure(figsize=(6,4))\n",
    "plt.plot(t, y)\n",
    "plt.plot(t, np.cos(t), color='r')\n",
    "plt.grid()\n",
    "plt.legend()\n",
    "plt.xlabel('time')\n",
    "plt.ylabel('Amlitude')\n",
    "plt.title('Example of sinewave')\n",
    "plt.show()"
   ]
  },
  {
   "cell_type": "code",
   "execution_count": 75,
   "id": "dba8507a",
   "metadata": {},
   "outputs": [
    {
     "data": {
      "text/plain": [
       "[]"
      ]
     },
     "execution_count": 75,
     "metadata": {},
     "output_type": "execute_result"
    },
    {
     "data": {
      "image/png": "[encoded data removed]",
      "text/plain": [
       "<Figure size 1000x600 with 4 Axes>"
      ]
     },
     "metadata": {},
     "output_type": "display_data"
    }
   ],
   "source": [
    "# 그래프 네개 동시 뽑기 \n",
    "\n",
    "t = [0,1,2,3,4,5,6]\n",
    "y = [1,2,5,8,9,5,3]\n",
    "\n",
    "fig = plt.figure(figsize=(10,6))\n",
    "ax1 = fig.add_subplot(2,2,1) #그래프 추가\n",
    "ax1.plot(t,y,color='g')\n",
    "ax2 = fig.add_subplot(2,2,2)\n",
    "ax2.plot(t,y,color='b', linestyle='--')\n",
    "ax3 = fig.add_subplot(2,2,3)\n",
    "ax3.plot(t,y,color='k',linestyle='--', marker='o')\n",
    "ax4 = fig.add_subplot(2,2,4)\n",
    "ax4.plot(t,y,color='r',linestyle='--', marker='o', markerfacecolor='b')\n",
    "\n",
    "plt.plot()"
   ]
  },
  {
   "cell_type": "code",
   "execution_count": 81,
   "id": "6c2776a7",
   "metadata": {},
   "outputs": [
    {
     "data": {
      "image/png": "[encoded data removed]",
      "text/plain": [
       "<Figure size 1000x600 with 2 Axes>"
      ]
     },
     "metadata": {},
     "output_type": "display_data"
    }
   ],
   "source": [
    "x = np.arange(0,10)\n",
    "#print(x)\n",
    "y = np.array([9,8,7,9,8,3,2,4,3,4])\n",
    "\n",
    "c = ['#1f77b4', '#ff7f0e', '#2ca02c', '#d62728', '#9467bd', '#8c564b', '#e377c2', '#7f7f7f', '#bcbd22', '#17becf']\n",
    "plt.figure(figsize=(10,6))\n",
    "plt.scatter(x, y, s = 200, c = c,  marker='>') # s = 마커 사이즈\n",
    "plt.colorbar()\n",
    "plt.show()"
   ]
  },
  {
   "cell_type": "code",
   "execution_count": 84,
   "id": "101b6613",
   "metadata": {},
   "outputs": [],
   "source": [
    "s1= np.random.normal(loc=0, scale=1, size = 1000)\n",
    "s2= np.random.normal(loc=5, scale=0.5, size = 1000)\n",
    "s3= np.random.normal(loc=10, scale=2, size = 1000)"
   ]
  },
  {
   "cell_type": "code",
   "execution_count": 85,
   "id": "8434704b",
   "metadata": {
    "scrolled": true
   },
   "outputs": [
    {
     "data": {
      "image/png": "[encoded data removed]",
      "text/plain": [
       "<Figure size 1000x600 with 1 Axes>"
      ]
     },
     "metadata": {},
     "output_type": "display_data"
    }
   ],
   "source": [
    "plt.figure(figsize=(10,6))\n",
    "\n",
    "plt.plot(s1, label ='s1')\n",
    "plt.plot(s2, label ='s2')\n",
    "plt.plot(s3, label ='s3')\n",
    "plt.legend()\n",
    "plt.show()"
   ]
  },
  {
   "cell_type": "code",
   "execution_count": 86,
   "id": "f2d8c582",
   "metadata": {},
   "outputs": [
    {
     "data": {
      "image/png": "[encoded data removed]",
      "text/plain": [
       "<Figure size 1000x600 with 1 Axes>"
      ]
     },
     "metadata": {},
     "output_type": "display_data"
    }
   ],
   "source": [
    "plt.figure(figsize=(10,6))\n",
    "plt.boxplot((s1,s2,s3))\n",
    "plt.grid()\n",
    "plt.show()"
   ]
  },
  {
   "cell_type": "code",
   "execution_count": null,
   "id": "d2bee6e9",
   "metadata": {},
   "outputs": [],
   "source": []
  }
 ],
 "metadata": {
  "kernelspec": {
   "display_name": "Python 3 (ipykernel)",
   "language": "python",
   "name": "python3"
  },
  "language_info": {
   "codemirror_mode": {
    "name": "ipython",
    "version": 3
   },
   "file_extension": ".py",
   "mimetype": "text/x-python",
   "name": "python",
   "nbconvert_exporter": "python",
   "pygments_lexer": "ipython3",
   "version": "3.9.13"
  }
 },
 "nbformat": 4,
 "nbformat_minor": 5
}
